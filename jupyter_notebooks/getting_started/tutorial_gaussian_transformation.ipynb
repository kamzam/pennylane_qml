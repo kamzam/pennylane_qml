{
  "cells": [
    {
      "cell_type": "code",
      "execution_count": null,
      "metadata": {
        "collapsed": false
      },
      "outputs": [],
      "source": [
        "# This cell is added by sphinx-gallery\n# It can be customized to whatever you like\n%matplotlib inline"
      ]
    },
    {
      "cell_type": "markdown",
      "metadata": {},
      "source": [
        "Gaussian transformation {#gaussian_transformation}\n=======================\n\n::: {.meta}\n:property=\\\"og:description\\\": Use quantum machine learning techniques to\ntune a beamsplitter. :property=\\\"og:image\\\":\n<https://pennylane.ai/qml/_images/gauss-circuit.png>\n:::\n\n::: {.related}\ntutorial\\_plugins\\_hybrid Plugins and Hybrid computation\nquantum\\_neural\\_net Function fitting with a photonic quantum neural\nnetwork qonn Optimizing a quantum optical neural network\n:::\n\n*Author: Josh Izaac --- Posted: 11 October 2019. Last updated: 16\nOctober 2020.*\n\nThis tutorial demonstrates the basic working principles of PennyLane for\ncontinuous-variable (CV) photonic devices. For more details about\nphotonic quantum computing, the [Strawberry Fields\ndocumentation](https://strawberryfields.readthedocs.io/en/latest/) is a\ngreat starting point.\n\nThe quantum circuit\n-------------------\n\nFor this basic tutorial, we will consider a special subset of CV\noperations: the *Gaussian transformations*. We work with the following\nsimple Gaussian circuit:\n\n![](../demonstrations/gaussian_transformation/gaussian_transformation.svg){.align-center\nwidth=\"40.0%\"}\n\nWhat is this circuit doing?\n\n1.  **We begin with one wire (qumode) in the vacuum state**. Note that\n    we use the same notation $|0\\rangle$ for the initial state as the\n    previous qubit tutorial. In a photonic CV system, this state is the\n    *vacuum state*, i.e., the state with no photons in the wire.\n2.  **We displace the qumode**. The displacement gate linearly shifts\n    the state of the qumode in phase space. The vacuum state is centered\n    at the origin in phase space, while the displaced state will be\n    centered at the point $\\alpha$.\n3.  **We rotate the qumode**. This is another linear transformation in\n    phase space, albeit a rotation (by angle $\\phi$) instead of a\n    displacement.\n4.  **Finally, we measure the mean photon number**\n    $\\langle\\hat{n}\\rangle =\n    \\langle\\hat{a}^\\dagger \\hat{a}\\rangle$. This quantity, which tells\n    us the average amount of photons in the final state, is proportional\n    to the energy of the photonic system.\n"
      ]
    },
    {
      "cell_type": "markdown",
      "metadata": {},
      "source": [
        "The aim of this tutorial is to optimize the circuit parameters\n$(\\alpha, \\phi)$ such that the mean photon number is equal to one. The\nrotation gate is actually a *passive transformation*, meaning that it\ndoes not change the energy of the system. The displacement gate is an\n*active transformation*, which modifies the energy of the photonic\nsystem.\n\nConstructing the QNode\n======================\n\nAs before, we import PennyLane, as well as the wrapped version of NumPy\nprovided by PennyLane:\n"
      ]
    },
    {
      "cell_type": "code",
      "execution_count": null,
      "metadata": {
        "collapsed": false
      },
      "outputs": [],
      "source": [
        "import pennylane as qml\nfrom pennylane import numpy as np"
      ]
    },
    {
      "cell_type": "markdown",
      "metadata": {},
      "source": [
        "Next, we instantiate a device which will be used to evaluate the\ncircuit. Because our circuit contains only Gaussian operations, we can\nmake use of the built-in `default.gaussian` device.\n"
      ]
    },
    {
      "cell_type": "code",
      "execution_count": null,
      "metadata": {
        "collapsed": false
      },
      "outputs": [],
      "source": [
        "dev_gaussian = qml.device(\"default.gaussian\", wires=1)"
      ]
    },
    {
      "cell_type": "markdown",
      "metadata": {},
      "source": [
        "After initializing the device, we can construct our quantum node. As\nbefore, we use the `~.pennylane.qnode`{.interpreted-text role=\"func\"} to\nconvert our quantum function (encoded by the circuit above) into a\nquantum node running on the `default.gaussian` device.\n"
      ]
    },
    {
      "cell_type": "code",
      "execution_count": null,
      "metadata": {
        "collapsed": false
      },
      "outputs": [],
      "source": [
        "@qml.qnode(dev_gaussian)\ndef mean_photon_gaussian(mag_alpha, phase_alpha, phi):\n    qml.Displacement(mag_alpha, phase_alpha, wires=0)\n    qml.Rotation(phi, wires=0)\n    return qml.expval(qml.NumberOperator(0))"
      ]
    },
    {
      "cell_type": "markdown",
      "metadata": {},
      "source": [
        "Notice that we have broken up the complex number $\\alpha$ into two real\nnumbers `mag_alpha` and `phase_alpha`, which form a polar representation\nof $\\alpha$. This is so that the notion of a gradient is clear and\nwell-defined.\n"
      ]
    },
    {
      "cell_type": "markdown",
      "metadata": {},
      "source": [
        "Optimization\n============\n\nAs in the `qubit rotation <qubit_rotation>`{.interpreted-text\nrole=\"ref\"} tutorial, let\\'s now use one of the built-in PennyLane\noptimizers in order to optimize the quantum circuit towards the desired\noutput. We want the mean photon number to be exactly one, so we will use\na squared-difference cost function:\n"
      ]
    },
    {
      "cell_type": "code",
      "execution_count": null,
      "metadata": {
        "collapsed": false
      },
      "outputs": [],
      "source": [
        "def cost(params):\n    return (mean_photon_gaussian(params[0], params[1], params[2]) - 1.0) ** 2"
      ]
    },
    {
      "cell_type": "markdown",
      "metadata": {},
      "source": [
        "At the beginning of the optimization, we choose arbitrary small initial\nparameters:\n"
      ]
    },
    {
      "cell_type": "code",
      "execution_count": null,
      "metadata": {
        "collapsed": false
      },
      "outputs": [],
      "source": [
        "init_params = np.array([0.015, 0.02, 0.005], requires_grad=True)\nprint(cost(init_params))"
      ]
    },
    {
      "cell_type": "markdown",
      "metadata": {},
      "source": [
        "When the gate parameters are near to zero, the gates are close to the\nidentity transformation, which leaves the initial state largely\nunchanged. Since the initial state contains no photons, the mean photon\nnumber of the circuit output is approximately zero, and the cost is\nclose to one.\n"
      ]
    },
    {
      "cell_type": "markdown",
      "metadata": {},
      "source": [
        "::: {.note}\n::: {.title}\nNote\n:::\n\nWe avoided initial parameters which are exactly zero because that\ncorresponds to a critical point with zero gradient.\n:::\n\nNow, let\\'s use the\n`~.pennylane.GradientDescentOptimizer`{.interpreted-text role=\"class\"},\nand update the circuit parameters over 100 optimization steps.\n"
      ]
    },
    {
      "cell_type": "code",
      "execution_count": null,
      "metadata": {
        "collapsed": false
      },
      "outputs": [],
      "source": [
        "# initialise the optimizer\nopt = qml.GradientDescentOptimizer(stepsize=0.1)\n\n# set the number of steps\nsteps = 20\n# set the initial parameter values\nparams = init_params\n\nfor i in range(steps):\n    # update the circuit parameters\n    params = opt.step(cost, params)\n\n    print(\"Cost after step {:5d}: {:8f}\".format(i + 1, cost(params)))\n\nprint(\"Optimized mag_alpha:{:8f}\".format(params[0]))\nprint(\"Optimized phase_alpha:{:8f}\".format(params[1]))\nprint(\"Optimized phi:{:8f}\".format(params[2]))"
      ]
    },
    {
      "cell_type": "markdown",
      "metadata": {},
      "source": [
        "The optimization converges after about 20 steps to a cost function value\nof zero.\n\nWe observe that the two angular parameters `phase_alpha` and `phi` do\nnot change during the optimization. Only the magnitude of the complex\ndisplacement $|\\alpha|$ affects the mean photon number of the circuit.\n\nContinue on to the next tutorial, `plugins_hybrid`{.interpreted-text\nrole=\"ref\"}, to learn how to utilize the extensive plugin ecosystem of\nPennyLane, build continuous-variable (CV) quantum nodes, and to see an\nexample of a hybrid qubit-CV-classical computation using PennyLane.\n\nAbout the author\n================\n"
      ]
    }
  ],
  "metadata": {
    "kernelspec": {
      "display_name": "Python 3",
      "language": "python",
      "name": "python3"
    },
    "language_info": {
      "codemirror_mode": {
        "name": "ipython",
        "version": 3
      },
      "file_extension": ".py",
      "mimetype": "text/x-python",
      "name": "python",
      "nbconvert_exporter": "python",
      "pygments_lexer": "ipython3",
      "version": "3.9.16"
    }
  },
  "nbformat": 4,
  "nbformat_minor": 0
}