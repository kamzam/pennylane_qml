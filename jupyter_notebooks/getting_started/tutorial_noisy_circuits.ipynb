{
  "cells": [
    {
      "cell_type": "code",
      "execution_count": null,
      "metadata": {
        "collapsed": false
      },
      "outputs": [],
      "source": [
        "# This cell is added by sphinx-gallery\n# It can be customized to whatever you like\n%matplotlib inline"
      ]
    },
    {
      "cell_type": "markdown",
      "metadata": {},
      "source": [
        "Noisy circuits\n==============\n\n::: {.meta}\n:property=\\\"og:description\\\": Learn how to simulate noisy quantum\ncircuits :property=\\\"og:image\\\":\n<https://pennylane.ai/qml/_images/N-Nisq.png>\n:::\n\n::: {.related}\ntutorial\\_noisy\\_circuit\\_optimization Optimizing noisy circuits with\nCirq pytorch\\_noise PyTorch and noisy devices\n:::\n\n*Author: Juan Miguel Arrazola --- Posted: 22 February 2021. Last\nupdated: 08 April 2021.*\n\nIn this demonstration, you\\'ll learn how to simulate noisy circuits\nusing built-in functionality in PennyLane. We\\'ll cover the basics of\nnoisy channels and density matrices, then use example code to simulate\nnoisy circuits. PennyLane, the library for differentiable quantum\ncomputations, has unique features that enable us to compute gradients of\nnoisy channels. We\\'ll also explore how to employ channel gradients to\noptimize noise parameters in a circuit.\n\nWe\\'re putting the N in NISQ.\n\n![..](../demonstrations/noisy_circuits/N-Nisq.png){.align-center\nwidth=\"20.0%\"}\n"
      ]
    },
    {
      "cell_type": "markdown",
      "metadata": {},
      "source": [
        "Noisy operations\n================\n\nNoise is any unwanted transformation that corrupts the intended output\nof a quantum computation. It can be separated into two categories.\n\n-   **Coherent noise** is described by unitary operations that maintain\n    the purity of the output quantum state. A common source are\n    systematic errors originating from imperfectly-calibrated devices\n    that do not exactly apply the desired gates, e.g., applying a\n    rotation by an angle $\\phi+\\epsilon$ instead of $\\phi$.\n-   **Incoherent noise** is more problematic: it originates from a\n    quantum computer becoming entangled with the environment, resulting\n    in mixed states \\-\\-- probability distributions over different pure\n    states. Incoherent noise thus leads to outputs that are always\n    random, regardless of what basis we measure in.\n\nMixed states are described by [density\nmatrices](https://en.wikipedia.org/wiki/Density_matrices). They provide\na more general method of describing quantum states that elegantly\nencodes a distribution over pure states in a single mathematical object.\nMixed states are the most general description of a quantum state, of\nwhich pure states are a special case.\n\nThe purpose of PennyLane\\'s `default.mixed` device is to provide native\nsupport for mixed states and for simulating noisy computations. Let\\'s\nuse `default.mixed` to simulate a simple circuit for preparing the Bell\nstate $|\\psi\\rangle=\\frac{1}{\\sqrt{2}}(|00\\rangle+|11\\rangle)$. We ask\nthe QNode to return the expectation value of $Z_0\\otimes Z_1$:\n"
      ]
    },
    {
      "cell_type": "code",
      "execution_count": null,
      "metadata": {
        "collapsed": false
      },
      "outputs": [],
      "source": [
        "import pennylane as qml\nfrom pennylane import numpy as np\n\ndev = qml.device('default.mixed', wires=2)\n\n\n@qml.qnode(dev)\ndef circuit():\n    qml.Hadamard(wires=0)\n    qml.CNOT(wires=[0, 1])\n    return qml.expval(qml.PauliZ(0) @ qml.PauliZ(1))\n\n\nprint(f\"QNode output = {circuit():.4f}\")"
      ]
    },
    {
      "cell_type": "markdown",
      "metadata": {},
      "source": [
        "The device stores the output state as a density matrix. In this case,\nthe density matrix is equal to $|\\psi\\rangle\\langle\\psi|$, where\n$|\\psi\\rangle=\\frac{1}{\\sqrt{2}}(|00\\rangle + |11\\rangle)$.\n"
      ]
    },
    {
      "cell_type": "code",
      "execution_count": null,
      "metadata": {
        "collapsed": false
      },
      "outputs": [],
      "source": [
        "print(f\"Output state is = \\n{np.real(dev.state)}\")"
      ]
    },
    {
      "cell_type": "markdown",
      "metadata": {},
      "source": [
        "Incoherent noise is modelled by quantum channels. Mathematically, a\nquantum channel is a linear, completely positive, and trace-preserving\n([CPTP](https://www.quantiki.org/wiki/channel-cp-map)) map. A convenient\nstrategy for representing quantum channels is to employ [Kraus\noperators](https://en.wikipedia.org/wiki/Quantum_operation#Kraus_operators)\n$\\{K_i\\}$ satisfying the condition $\\sum_i K_{i}^{\\dagger} K_i = I$. For\nan initial state $\\rho$, the output state after the action of a channel\n$\\Phi$ is:\n\n$$\\Phi(\\rho) = \\sum_i K_i \\rho K_{i}^{\\dagger}.$$\n\nJust like pure states are special cases of mixed states, unitary\ntransformations are special cases of quantum channels. Unitary\ntransformations are represented by a single Kraus operator, the unitary\n$U$, and they transform a state as $U\\rho U^\\dagger$.\n\nMore generally, the action of a quantum channel can be interpreted as\napplying a transformation corresponding to the Kraus operator $K_i$ with\nsome associated probability. More precisely, the channel applies the\ntransformation $\\frac{1}{p_i}K_i\\rho K_i^\\dagger$ with probability\n$p_i = \\text{Tr}[K_i \\rho K_{i}^{\n\\dagger}]$. Quantum channels therefore represent a probability\ndistribution over different possible transformations on a quantum state.\nFor example, consider the bit flip channel. It describes a\ntransformation that flips the state of a qubit (applies an X gate) with\nprobability $p$ and leaves it unchanged with probability $1-p$. Its\nKraus operators are\n\n$$\\begin{aligned}\nK_0 &= \\sqrt{1-p}\\begin{pmatrix}1 & 0\\\\ 0 & 1\\end{pmatrix}, \\\\\nK_1 &= \\sqrt{p}\\begin{pmatrix}0 & 1\\\\ 1 & 0\\end{pmatrix}.\n\\end{aligned}$$\n\nThis channel can be implemented in PennyLane using the\n`qml.BitFlip <pennylane.BitFlip>`{.interpreted-text role=\"class\"}\noperation.\n\nLet\\'s see what happens when we simulate this type of noise acting on\nboth qubits in the circuit. We\\'ll evaluate the QNode for different bit\nflip probabilities.\n"
      ]
    },
    {
      "cell_type": "code",
      "execution_count": null,
      "metadata": {
        "collapsed": false
      },
      "outputs": [],
      "source": [
        "@qml.qnode(dev)\ndef bitflip_circuit(p):\n    qml.Hadamard(wires=0)\n    qml.CNOT(wires=[0, 1])\n    qml.BitFlip(p, wires=0)\n    qml.BitFlip(p, wires=1)\n    return qml.expval(qml.PauliZ(0) @ qml.PauliZ(1))\n\n\nps = [0.001, 0.01, 0.1, 0.2]\nfor p in ps:\n    print(f\"QNode output for bit flip probability {p} is {bitflip_circuit(p):.4f}\")"
      ]
    },
    {
      "cell_type": "markdown",
      "metadata": {},
      "source": [
        "The circuit behaves quite differently in the presence of noise! This\nwill be familiar to anyone that has run an algorithm on quantum\nhardware. It is also highlights why error mitigation and error\ncorrection are so important. We can use PennyLane to look under the hood\nand see the output state of the circuit for the largest noise parameter\n"
      ]
    },
    {
      "cell_type": "code",
      "execution_count": null,
      "metadata": {
        "collapsed": false
      },
      "outputs": [],
      "source": [
        "print(f\"Output state for bit flip probability {p} is \\n{np.real(dev.state)}\")"
      ]
    },
    {
      "cell_type": "markdown",
      "metadata": {},
      "source": [
        "Besides the bit flip channel, PennyLane supports several other noisy\nchannels that are commonly used to describe experimental imperfections:\n`~.pennylane.PhaseFlip`{.interpreted-text role=\"class\"},\n`~.pennylane.AmplitudeDamping`{.interpreted-text role=\"class\"},\n`~.pennylane.GeneralizedAmplitudeDamping`{.interpreted-text\nrole=\"class\"}, `~.pennylane.PhaseDamping`{.interpreted-text\nrole=\"class\"}, and the\n`~.pennylane.DepolarizingChannel`{.interpreted-text role=\"class\"}. You\ncan also build your own custom channel using the operation\n`~.pennylane.QubitChannel`{.interpreted-text role=\"class\"} by specifying\nits Kraus operators, or even submit a [pull\nrequest](https://pennylane.readthedocs.io/en/stable/development/guide.html)\nintroducing a new channel.\n\nLet\\'s take a look at another example. The depolarizing channel is a\ngeneralization of the bit flip and phase flip channels, where each of\nthe three possible Pauli errors can be applied to a single qubit. Its\nKraus operators are given by\n\n$$\\begin{aligned}\nK_0 &= \\sqrt{1-p}\\begin{pmatrix}1 & 0\\\\ 0 & 1\\end{pmatrix}, \\\\\nK_1 &= \\sqrt{p/3}\\begin{pmatrix}0 & 1\\\\ 1 & 0\\end{pmatrix}, \\\\\nK_2 &= \\sqrt{p/3}\\begin{pmatrix}0 & -i\\\\ i & 0\\end{pmatrix}, \\\\\nK_3 &= \\sqrt{p/3}\\begin{pmatrix}1 & 0\\\\ 0 & -1\\end{pmatrix}.\n\\end{aligned}$$\n\nA circuit modelling the effect of depolarizing noise in preparing a Bell\nstate is implemented below.\n"
      ]
    },
    {
      "cell_type": "code",
      "execution_count": null,
      "metadata": {
        "collapsed": false
      },
      "outputs": [],
      "source": [
        "@qml.qnode(dev)\ndef depolarizing_circuit(p):\n    qml.Hadamard(wires=0)\n    qml.CNOT(wires=[0, 1])\n    qml.DepolarizingChannel(p, wires=0)\n    qml.DepolarizingChannel(p, wires=1)\n    return qml.expval(qml.PauliZ(0) @ qml.PauliZ(1))\n\n\nps = [0.001, 0.01, 0.1, 0.2]\nfor p in ps:\n    print(f\"QNode output for depolarizing probability {p} is {depolarizing_circuit(p):.4f}\")"
      ]
    },
    {
      "cell_type": "markdown",
      "metadata": {},
      "source": [
        "As before, the output deviates from the desired value as the amount of\nnoise increases. Modelling the noise that occurs in real experiments\nrequires careful consideration. PennyLane offers the flexibility to\nexperiment with different combinations of noisy channels to either mimic\nthe performance of quantum algorithms when deployed on real devices, or\nto explore the effect of more general quantum transformations.\n\nChannel gradients\n=================\n\nThe ability to compute gradients of any operation is an essential\ningredient of\n`quantum differentiable programming </glossary/quantum_differentiable_programming>`{.interpreted-text\nrole=\"doc\"}. In PennyLane, it is possible to compute gradients of noisy\nchannels and optimize them inside variational circuits. PennyLane\nsupports analytical gradients for channels whose Kraus operators are\nproportional to unitary matrices. In other cases, gradients are\nevaluated using finite differences.\n\nTo illustrate this property, we\\'ll consider an elementary example. We\naim to learn the noise parameters of a circuit in order to reproduce an\nobserved expectation value. So suppose that we run the circuit to\nprepare a Bell state on a hardware device and observe that the\nexpectation value of $Z_0\\otimes Z_1$ is not equal to 1 (as would occur\nwith an ideal device), but instead has the value 0.7781. In the\nexperiment, it is known that the major source of noise is amplitude\ndamping, for example as a result of photon loss. Amplitude damping\nprojects a state to $|0\\rangle$ with probability $p$ and otherwise\nleaves it unchanged. It is described by the Kraus operators\n\n$$\\begin{aligned}\nK_0 = \\begin{pmatrix}1 & 0\\\\ 0 & \\sqrt{1-p}\\end{pmatrix}, \\quad\nK_1 = \\begin{pmatrix}0 & \\sqrt{p}\\\\ 0 & 0\\end{pmatrix}.\n\\end{aligned}$$\n\nWhat damping parameter ($p$) explains the experimental outcome? We can\nanswer this question by optimizing the channel parameters to reproduce\nthe experimental observation! \ud83d\udcaa Since the parameter $p$ is a\nprobability, we use a sigmoid function to ensure that the trainable\nparameters give rise to a valid channel parameter, i.e., a number\nbetween 0 and 1.\n"
      ]
    },
    {
      "cell_type": "code",
      "execution_count": null,
      "metadata": {
        "collapsed": false
      },
      "outputs": [],
      "source": [
        "ev = np.tensor(0.7781, requires_grad=False)  # observed expectation value\n\ndef sigmoid(x):\n    return 1/(1+np.exp(-x))\n\n@qml.qnode(dev)\ndef damping_circuit(x):\n    qml.Hadamard(wires=0)\n    qml.CNOT(wires=[0, 1])\n    qml.AmplitudeDamping(sigmoid(x), wires=0)  # p = sigmoid(x)\n    qml.AmplitudeDamping(sigmoid(x), wires=1)\n    return qml.expval(qml.PauliZ(0) @ qml.PauliZ(1))"
      ]
    },
    {
      "cell_type": "markdown",
      "metadata": {},
      "source": [
        "We optimize the circuit with respect to a simple cost function that\nattains its minimum when the output of the QNode is equal to the\nexperimental value:\n"
      ]
    },
    {
      "cell_type": "code",
      "execution_count": null,
      "metadata": {
        "collapsed": false
      },
      "outputs": [],
      "source": [
        "def cost(x, target):\n    return (damping_circuit(x) - target)**2"
      ]
    },
    {
      "cell_type": "markdown",
      "metadata": {},
      "source": [
        "All that remains is to optimize the parameter. We use a straightforward\ngradient descent method.\n"
      ]
    },
    {
      "cell_type": "code",
      "execution_count": null,
      "metadata": {
        "collapsed": false
      },
      "outputs": [],
      "source": [
        "opt = qml.GradientDescentOptimizer(stepsize=10)\nsteps = 35\nx = np.tensor(0.01, requires_grad=True)\n\nfor i in range(steps):\n    (x, ev), cost_val = opt.step_and_cost(cost, x, ev)\n    if i % 5 == 0 or i == steps - 1:\n        print(f\"Step: {i}    Cost: {cost_val}\")\n\nprint(f\"QNode output after optimization = {damping_circuit(x):.4f}\")\nprint(f\"Experimental expectation value = {ev}\")\nprint(f\"Optimized noise parameter p = {sigmoid(x.take(0)):.4f}\")"
      ]
    },
    {
      "cell_type": "markdown",
      "metadata": {},
      "source": [
        "Voil\u00e0! We\\'ve trained the noisy channel to reproduce the experimental\nobservation. \ud83d\ude0e\n\nDeveloping quantum algorithms that leverage the power of NISQ devices\nrequires serious consideration of the effects of noise. With PennyLane,\nyou have access to tools that can help you design, simulate, and\noptimize noisy quantum circuits. We look forward to seeing what the\nquantum community can achieve with them! \ud83d\ude80 \ud83c\udf89 \ud83d\ude38\n\nReferences\n==========\n\nAbout the author\n================\n"
      ]
    }
  ],
  "metadata": {
    "kernelspec": {
      "display_name": "Python 3",
      "language": "python",
      "name": "python3"
    },
    "language_info": {
      "codemirror_mode": {
        "name": "ipython",
        "version": 3
      },
      "file_extension": ".py",
      "mimetype": "text/x-python",
      "name": "python",
      "nbconvert_exporter": "python",
      "pygments_lexer": "ipython3",
      "version": "3.9.16"
    }
  },
  "nbformat": 4,
  "nbformat_minor": 0
}