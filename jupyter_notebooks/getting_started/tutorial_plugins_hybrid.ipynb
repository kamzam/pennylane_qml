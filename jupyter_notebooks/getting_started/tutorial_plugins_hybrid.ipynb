{
  "cells": [
    {
      "cell_type": "code",
      "execution_count": null,
      "metadata": {
        "collapsed": false
      },
      "outputs": [],
      "source": [
        "# This cell is added by sphinx-gallery\n# It can be customized to whatever you like\n%matplotlib inline"
      ]
    },
    {
      "cell_type": "markdown",
      "metadata": {},
      "source": [
        "Plugins and hybrid computation {#plugins_hybrid}\n==============================\n\n::: {.meta}\n:property=\\\"og:description\\\": This tutorial introduces the notion of\nhybrid computation by combining several PennyLane device backends to\ntrain an algorithm containing both photonic and qubit devices.\n:property=\\\"og:image\\\":\n<https://pennylane.ai/qml/_images/photon_redirection.png>\n:::\n\n::: {.related}\ntutorial\\_qubit\\_rotation Basic tutorial: qubit rotation\ntutorial\\_gaussian\\_transformation Gaussian transformation\n:::\n\n*Author: Josh Izaac --- Posted: 11 October 2019. Last updated: 01\nFebruary 2021.*\n\nThis tutorial introduces the notion of hybrid computation by combining\nseveral PennyLane plugins. We first introduce PennyLane\\'s [Strawberry\nFields plugin](https://pennylane-sf.readthedocs.io) and use it to\nexplore a non-Gaussian photonic circuit. We then combine this photonic\ncircuit with a qubit circuit --- along with some classical processing\n--- to create and optimize a fully hybrid computation. Be sure to read\nthrough the introductory\n`qubit rotation <qubit_rotation>`{.interpreted-text role=\"ref\"} and\n`Gaussian transformation <gaussian_transformation>`{.interpreted-text\nrole=\"ref\"} tutorials before attempting this tutorial.\n\n::: {.note}\n::: {.title}\nNote\n:::\n\nTo follow along with this tutorial on your own computer, you will\nrequire the [PennyLane-SF plugin](https://pennylane-sf.readthedocs.io),\nin order to access the [Strawberry\nFields](https://strawberryfields.readthedocs.io) Fock backend using\nPennyLane. It can be installed via pip:\n\n``` {.bash}\npip install pennylane-sf\n```\n:::\n\nA non-Gaussian circuit {#photon_redirection}\n----------------------\n\nWe first consider a photonic circuit which is similar in spirit to the\n`qubit rotation <qubit_rotation>`{.interpreted-text role=\"ref\"} circuit:\n\n![](../demonstrations/plugins_hybrid/photon_redirection.png){.align-center\nwidth=\"30.0%\"}\n\nBreaking this down, step-by-step:\n\n1.  **We start the computation with two qumode subsystems**. In\n    PennyLane, we use the shorthand \\'wires\\' to refer to quantum\n    subsystems, whether they are qumodes, qubits, or any other kind of\n    quantum register.\n\n2.  **Prepare the state** $\\left|1,0\\right\\rangle$. That is, the first\n    wire (wire 0) is prepared in a single-photon state, while the second\n    wire (wire 1) is prepared in the vacuum state. The former state is\n    non-Gaussian, necessitating the use of the `'strawberryfields.fock'`\n    backend device.\n\n3.  **Both wires are then incident on a beamsplitter**, with free\n    parameters $\\theta$ and $\\phi$. Here, we have the convention that\n    the beamsplitter transmission amplitude is $t=\\cos\\theta$, and the\n    reflection amplitude is $r=e^{i\\phi}\\sin\\theta$. See\n    `introduction/operations`{.interpreted-text role=\"doc\"} for a full\n    list of operation conventions.\n\n4.  **Finally, we measure the mean photon number**\n    $\\left\\langle \\hat{n}\\right\\rangle$ of the second wire, where\n\n    $$\\hat{n} = \\ad\\a$$\n\n    is the number operator, acting on the Fock basis number states, such\n    that $\\hat{n}\\left|n\\right\\rangle = n\\left|n\\right\\rangle$.\n\nThe aim of this tutorial is to optimize the beamsplitter parameters\n$(\\theta, \\phi)$ such that the expected photon number of the second wire\nis **maximized**. Since the beamsplitter is a passive optical element\nthat preserves the total photon number, this to the output state\n$\\left|0,1\\right\\rangle$ --- i.e., when the incident photon from the\nfirst wire has been \\'redirected\\' to the second wire.\n\n### Exact calculation {#photon_redirection_calc}\n\nTo compare with later numerical results, we can first consider what\nhappens analytically. The initial state of the circuit is\n$\\left|\\psi_0\\right\\rangle=\\left|1,0\\right\\rangle$, and the output state\nof the system is of the form\n$\\left|\\psi\\right\\rangle = a\\left|1, 0\\right\\rangle + b\\left|0,1\\right\\rangle$,\nwhere $|a|^2+|b|^2=1$. We may thus write the output state as a vector in\nthis computational basis,\n$\\left|\\psi\\right\\rangle = \\begin{bmatrix}a & b\\end{bmatrix}^T$.\n\nThe beamsplitter acts on this two-dimensional subspace as follows:\n\n$$\\begin{aligned}\n\\left|\\psi\\right\\rangle = B(\\theta, \\phi)\\left|1, 0\\right\\rangle = \\begin{bmatrix}\n\\cos\\theta & -e^{-i\\phi}\\sin\\theta\\\\\ne^{i\\phi}\\sin\\theta & \\cos\\theta\n\\end{bmatrix}\\begin{bmatrix} 1\\\\ 0\\end{bmatrix} = \\begin{bmatrix}\n\\cos\\theta\\\\\ne^{i\\phi} \\sin\\theta\n\\end{bmatrix}\n\\end{aligned}$$\n\nFurthermore, the mean photon number of the second wire is\n\n$$\\left\\langle{\\hat{n}_1}\\right\\rangle = \\langle{\\psi}\\mid{\\hat{n}_1}\\mid{\\psi}\\rangle = |e^{i\\phi} \\sin\\theta|^2\n\\langle{0,1}\\mid{\\hat{n}_1}\\mid{0,1}\\rangle = \\sin^2 \\theta.$$\n\nTherefore, we can see that:\n\n1.  $0\\leq \\left\\langle \\hat{n}_1\\right\\rangle\\leq 1$: the output of the\n    quantum circuit is bound between 0 and 1;\n2.  $\\frac{\\partial}{\\partial \\phi} \\left\\langle \\hat{n}_1\\right\\rangle=0$:\n    the output of the quantum circuit is independent of the beamsplitter\n    phase $\\phi$;\n3.  The output of the quantum circuit above is maximised when\n    $\\theta=(2m+1)\\pi/2$ for $m\\in\\mathbb{Z}_0$.\n\nLoading the plugin device\n-------------------------\n\nWhile PennyLane provides a basic qubit simulator (`'default.qubit'`) and\na basic CV Gaussian simulator (`'default.gaussian'`), the true power of\nPennyLane comes from its [plugin\necosystem](https://pennylane.ai/plugins.html), allowing quantum\ncomputations to be run on a variety of quantum simulator and hardware\ndevices.\n\nFor this circuit, we will be using the `'strawberryfields.fock'` device\nto construct a QNode. This allows the underlying quantum computation to\nbe performed using the [Strawberry\nFields](https://strawberryfields.readthedocs.io) Fock backend.\n\nAs usual, we begin by importing PennyLane and the wrapped version of\nNumPy provided by PennyLane:\n"
      ]
    },
    {
      "cell_type": "code",
      "execution_count": null,
      "metadata": {
        "collapsed": false
      },
      "outputs": [],
      "source": [
        "import pennylane as qml\nfrom pennylane import numpy as np"
      ]
    },
    {
      "cell_type": "markdown",
      "metadata": {},
      "source": [
        "Next, we create a device to run the quantum node. This is easy in\nPennyLane; as soon as the PennyLane-SF plugin is installed, the\n`'strawberryfields.fock'` device can be loaded --- no additional\ncommands or library imports required.\n"
      ]
    },
    {
      "cell_type": "code",
      "execution_count": null,
      "metadata": {
        "collapsed": false
      },
      "outputs": [],
      "source": [
        "dev_fock = qml.device(\"strawberryfields.fock\", wires=2, cutoff_dim=2)"
      ]
    },
    {
      "cell_type": "markdown",
      "metadata": {},
      "source": [
        "Compared to the default devices provided with PennyLane, the\n`'strawberryfields.fock'` device requires the additional keyword\nargument:\n\n-   `cutoff_dim`: the Fock space truncation used to perform the quantum\n    simulation\n\n::: {.note}\n::: {.title}\nNote\n:::\n\nDevices provided by external plugins may require additional arguments\nand keyword arguments --- consult the plugin documentation for more\ndetails.\n:::\n"
      ]
    },
    {
      "cell_type": "markdown",
      "metadata": {},
      "source": [
        "Constructing the QNode\n======================\n\nNow that we have initialized the device, we can construct our quantum\nnode. Like the other tutorials, we use the\n`~.pennylane.qnode`{.interpreted-text role=\"mod\"} decorator to convert\nour quantum function (encoded by the circuit above) into a quantum node\nrunning on Strawberry Fields.\n"
      ]
    },
    {
      "cell_type": "code",
      "execution_count": null,
      "metadata": {
        "collapsed": false
      },
      "outputs": [],
      "source": [
        "@qml.qnode(dev_fock, diff_method=\"parameter-shift\")\ndef photon_redirection(params):\n    qml.FockState(1, wires=0)\n    qml.Beamsplitter(params[0], params[1], wires=[0, 1])\n    return qml.expval(qml.NumberOperator(1))"
      ]
    },
    {
      "cell_type": "markdown",
      "metadata": {},
      "source": [
        "The `'strawberryfields.fock'` device supports all CV objects provided by\nPennyLane; see `CV operations <intro_ref_ops_cv>`{.interpreted-text\nrole=\"ref\"}.\n"
      ]
    },
    {
      "cell_type": "markdown",
      "metadata": {},
      "source": [
        "Optimization\n============\n\nLet\\'s now use one of the built-in PennyLane optimizers in order to\ncarry out photon redirection. Since we wish to maximize the mean photon\nnumber of the second wire, we can define our cost function to minimize\nthe *negative* of the circuit output.\n"
      ]
    },
    {
      "cell_type": "code",
      "execution_count": null,
      "metadata": {
        "collapsed": false
      },
      "outputs": [],
      "source": [
        "def cost(params):\n    return -photon_redirection(params)"
      ]
    },
    {
      "cell_type": "markdown",
      "metadata": {},
      "source": [
        "To begin our optimization, let\\'s choose the following small initial\nvalues of $\\theta$ and $\\phi$:\n"
      ]
    },
    {
      "cell_type": "code",
      "execution_count": null,
      "metadata": {
        "collapsed": false
      },
      "outputs": [],
      "source": [
        "init_params = np.array([0.01, 0.01], requires_grad=True)\nprint(cost(init_params))"
      ]
    },
    {
      "cell_type": "markdown",
      "metadata": {},
      "source": [
        "Here, we choose the values of $\\theta$ and $\\phi$ to be very close to\nzero; this results in $B(\\theta,\\phi)\\approx I$, and the output of the\nquantum circuit will be very close to $\\left|1, 0\\right\\rangle$ ---\ni.e., the circuit leaves the photon in the first mode.\n\nWhy don\\'t we choose $\\theta=0$ and $\\phi=0$?\n\nAt this point in the parameter space,\n$\\left\\langle \\hat{n}_1\\right\\rangle = 0$, and\n$\\frac{d}{d\\theta}\\left\\langle{\\hat{n}_1}\\right\\rangle|_{\\theta=0}=2\\sin\\theta\\cos\\theta|_{\\theta=0}=0$.\nSince the gradient is zero at those initial parameter values, the\noptimization algorithm would never descend from the maximum.\n\nThis can also be verified directly using PennyLane:\n"
      ]
    },
    {
      "cell_type": "code",
      "execution_count": null,
      "metadata": {
        "collapsed": false
      },
      "outputs": [],
      "source": [
        "dphoton_redirection = qml.grad(photon_redirection, argnum=0)\nprint(dphoton_redirection([0.0, 0.0]))"
      ]
    },
    {
      "cell_type": "markdown",
      "metadata": {},
      "source": [
        "Now, let\\'s use the\n`~.pennylane.GradientDescentOptimizer`{.interpreted-text role=\"class\"},\nand update the circuit parameters over 100 optimization steps.\n"
      ]
    },
    {
      "cell_type": "code",
      "execution_count": null,
      "metadata": {
        "collapsed": false
      },
      "outputs": [],
      "source": [
        "# initialise the optimizer\nopt = qml.GradientDescentOptimizer(stepsize=0.4)\n\n# set the number of steps\nsteps = 100\n# set the initial parameter values\nparams = init_params\n\nfor i in range(steps):\n    # update the circuit parameters\n    params = opt.step(cost, params)\n\n    if (i + 1) % 5 == 0:\n        print(\"Cost after step {:5d}: {: .7f}\".format(i + 1, cost(params)))\n\nprint(\"Optimized rotation angles: {}\".format(params))"
      ]
    },
    {
      "cell_type": "markdown",
      "metadata": {},
      "source": [
        "Comparing this to the\n`exact calculation <photon_redirection_calc>`{.interpreted-text\nrole=\"ref\"} above, this is close to the optimum value of $\\theta=\\pi/2$,\nwhile the value of $\\phi$ has not changed --- consistent with the fact\nthat $\\left\\langle \\hat{n}_1\\right\\rangle$ is independent of $\\phi$.\n\nHybrid computation {#hybrid_computation_example}\n==================\n\nTo really highlight the capabilities of PennyLane, let\\'s now combine\nthe qubit-rotation QNode from the\n`qubit rotation tutorial <qubit_rotation>`{.interpreted-text role=\"ref\"}\nwith the CV photon-redirection QNode from above, as well as some\nclassical processing, to produce a truly hybrid computational model.\n\nFirst, we define a computation consisting of three steps: two quantum\nnodes (the qubit rotation and photon redirection circuits, running on\nthe `'default.qubit'` and `'strawberryfields.fock'` devices,\nrespectively), along with a classical function, that simply returns the\nsquared difference of its two inputs using NumPy:\n"
      ]
    },
    {
      "cell_type": "code",
      "execution_count": null,
      "metadata": {
        "collapsed": false
      },
      "outputs": [],
      "source": [
        "# create the devices\ndev_qubit = qml.device(\"default.qubit\", wires=1)\ndev_fock = qml.device(\"strawberryfields.fock\", wires=2, cutoff_dim=10)\n\n\n@qml.qnode(dev_qubit, interface=\"autograd\")\ndef qubit_rotation(phi1, phi2):\n    \"\"\"Qubit rotation QNode\"\"\"\n    qml.RX(phi1, wires=0)\n    qml.RY(phi2, wires=0)\n    return qml.expval(qml.PauliZ(0))\n\n\n@qml.qnode(dev_fock, diff_method=\"parameter-shift\")\ndef photon_redirection(params):\n    \"\"\"The photon redirection QNode\"\"\"\n    qml.FockState(1, wires=0)\n    qml.Beamsplitter(params[0], params[1], wires=[0, 1])\n    return qml.expval(qml.NumberOperator(1))\n\n\ndef squared_difference(x, y):\n    \"\"\"Classical node to compute the squared\n    difference between two inputs\"\"\"\n    return np.abs(x - y) ** 2"
      ]
    },
    {
      "cell_type": "markdown",
      "metadata": {},
      "source": [
        "Now, we can define an objective function associated with the\noptimization, linking together our three subcomponents. Here, we wish to\nperform the following hybrid quantum-classical optimization:\n\n![](../demonstrations/plugins_hybrid/hybrid_graph.png){.align-center\nwidth=\"70.0%\"}\n\n1.  The qubit-rotation circuit will contain fixed rotation angles\n    $\\phi_1$ and $\\phi_2$.\n2.  The photon-redirection circuit will contain two free parameters, the\n    beamsplitter angles $\\theta$ and $\\phi$, which are to be optimized.\n3.  The outputs of both QNodes will then be fed into the classical node,\n    returning the squared difference of the two quantum functions.\n4.  Finally, the optimizer will calculate the gradient of the entire\n    computation with respect to the free parameters $\\theta$ and $\\phi$,\n    and update their values.\n\nIn essence, we are optimizing the photon-redirection circuit to return\nthe **same expectation value** as the qubit-rotation circuit, even\nthough they are two completely independent quantum systems.\n\nWe can translate this computational graph to the following function,\nwhich combines the three nodes into a single hybrid computation. Below,\nwe choose default values $\\phi_1=0.5$, $\\phi_2=0.1$:\n"
      ]
    },
    {
      "cell_type": "code",
      "execution_count": null,
      "metadata": {
        "collapsed": false
      },
      "outputs": [],
      "source": [
        "def cost(params, phi1=0.5, phi2=0.1):\n    \"\"\"Returns the squared difference between\n    the photon-redirection and qubit-rotation QNodes, for\n    fixed values of the qubit rotation angles phi1 and phi2\"\"\"\n    qubit_result = qubit_rotation(phi1, phi2)\n    photon_result = photon_redirection(params)\n    return squared_difference(qubit_result, photon_result)"
      ]
    },
    {
      "cell_type": "markdown",
      "metadata": {},
      "source": [
        "Now, we use the built-in\n`~.pennylane.GradientDescentOptimizer`{.interpreted-text role=\"class\"}\nto perform the optimization for 100 steps. As before, we choose initial\nbeamsplitter parameters of $\\theta=0.01$, $\\phi=0.01$.\n"
      ]
    },
    {
      "cell_type": "code",
      "execution_count": null,
      "metadata": {
        "collapsed": false
      },
      "outputs": [],
      "source": [
        "# initialise the optimizer\nopt = qml.GradientDescentOptimizer(stepsize=0.4)\n\n# set the number of steps\nsteps = 100\n# set the initial parameter values\nparams = np.array([0.01, 0.01], requires_grad=True)\n\nfor i in range(steps):\n    # update the circuit parameters\n    params = opt.step(cost, params)\n\n    if (i + 1) % 5 == 0:\n        print(\"Cost after step {:5d}: {: .7f}\".format(i + 1, cost(params)))\n\nprint(\"Optimized rotation angles: {}\".format(params))"
      ]
    },
    {
      "cell_type": "markdown",
      "metadata": {},
      "source": [
        "Substituting this into the photon redirection QNode shows that it now\nproduces the same output as the qubit rotation QNode:\n"
      ]
    },
    {
      "cell_type": "code",
      "execution_count": null,
      "metadata": {
        "collapsed": false
      },
      "outputs": [],
      "source": [
        "result = [1.20671364, 0.01]\nprint(photon_redirection(result))\nprint(qubit_rotation(0.5, 0.1))"
      ]
    },
    {
      "cell_type": "markdown",
      "metadata": {},
      "source": [
        "This is just a simple example of the kind of hybrid computation that can\nbe carried out in PennyLane. Quantum nodes (bound to different devices)\nand classical functions can be combined in many different and\ninteresting ways.\n\nAbout the author\n================\n"
      ]
    }
  ],
  "metadata": {
    "kernelspec": {
      "display_name": "Python 3",
      "language": "python",
      "name": "python3"
    },
    "language_info": {
      "codemirror_mode": {
        "name": "ipython",
        "version": 3
      },
      "file_extension": ".py",
      "mimetype": "text/x-python",
      "name": "python",
      "nbconvert_exporter": "python",
      "pygments_lexer": "ipython3",
      "version": "3.9.16"
    }
  },
  "nbformat": 4,
  "nbformat_minor": 0
}