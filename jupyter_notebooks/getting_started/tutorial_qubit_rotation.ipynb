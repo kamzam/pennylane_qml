{
  "cells": [
    {
      "cell_type": "code",
      "execution_count": null,
      "metadata": {
        "collapsed": false
      },
      "outputs": [],
      "source": [
        "# This cell is added by sphinx-gallery\n# It can be customized to whatever you like\n%matplotlib inline"
      ]
    },
    {
      "cell_type": "markdown",
      "metadata": {},
      "source": [
        "Basic tutorial: qubit rotation {#qubit_rotation}\n==============================\n\n::: {.meta}\n:property=\\\"og:description\\\": To see how PennyLane allows the easy\nconstruction and optimization of quantum functions, let\\'s consider the\n\\'hello world\\' of QML: qubit rotation. :property=\\\"og:image\\\":\n<https://pennylane.ai/qml/_images/bloch.png>\n:::\n\n::: {.related}\ntutorial\\_plugins\\_hybrid Plugins and hybrid computation\ntutorial\\_gaussian\\_transformation Gaussian transformation\ntutorial\\_state\\_preparation Training a quantum circuit with PyTorch\n:::\n\n*Author: Josh Izaac --- Posted: 11 October 2019. Last updated: 19\nJanuary 2021.*\n\nTo see how PennyLane allows the easy construction and optimization of\nquantum functions, let\\'s consider the simple case of **qubit rotation**\nthe PennyLane version of the \\'Hello, world!\\' example.\n\nThe task at hand is to optimize two rotation gates in order to flip a\nsingle qubit from state $\\left|0\\right\\rangle$ to state\n$\\left|1\\right\\rangle$.\n\nThe quantum circuit\n-------------------\n\nIn the qubit rotation example, we wish to implement the following\nquantum circuit:\n\n![](../demonstrations/qubit_rotation/rotation_circuit.png){.align-center\nwidth=\"40.0%\"}\n\nBreaking this down step-by-step, we first start with a qubit in the\nground state $|0\\rangle = \\begin{bmatrix}1 & 0 \\end{bmatrix}^T$, and\nrotate it around the x-axis by applying the gate\n\n$$\\begin{aligned}\nR_x(\\phi_1) = e^{-i \\phi_1 \\sigma_x /2} =\n\\begin{bmatrix} \\cos \\frac{\\phi_1}{2} &  -i \\sin \\frac{\\phi_1}{2} \\\\\n-i \\sin \\frac{\\phi_1}{2} &  \\cos \\frac{\\phi_1}{2}\n\\end{bmatrix},\n\\end{aligned}$$\n\nand then around the y-axis via the gate\n\n$$\\begin{aligned}\nR_y(\\phi_2) = e^{-i \\phi_2 \\sigma_y/2} =\n\\begin{bmatrix} \\cos \\frac{\\phi_2}{2} &  - \\sin \\frac{\\phi_2}{2} \\\\\n\\sin \\frac{\\phi_2}{2} &  \\cos \\frac{\\phi_2}{2}\n\\end{bmatrix}.\n\\end{aligned}$$\n\nAfter these operations the qubit is now in the state\n\n$$| \\psi \\rangle = R_y(\\phi_2) R_x(\\phi_1) | 0 \\rangle.$$\n\nFinally, we measure the expectation value\n$\\langle \\psi \\mid \\sigma_z \\mid \\psi \\rangle$ of the Pauli-Z operator\n\n$$\\begin{aligned}\n\\sigma_z =\n\\begin{bmatrix} 1 &  0 \\\\\n0 & -1\n\\end{bmatrix}.\n\\end{aligned}$$\n\nUsing the above to calculate the exact expectation value, we find that\n\n$$\\langle \\psi \\mid \\sigma_z \\mid \\psi \\rangle\n= \\langle 0 \\mid R_x(\\phi_1)^\\dagger R_y(\\phi_2)^\\dagger \\sigma_z  R_y(\\phi_2) R_x(\\phi_1) \\mid 0 \\rangle\n= \\cos(\\phi_1)\\cos(\\phi_2).$$\n\nDepending on the circuit parameters $\\phi_1$ and $\\phi_2$, the output\nexpectation lies between $1$ (if\n$\\left|\\psi\\right\\rangle = \\left|0\\right\\rangle$) and $-1$ (if\n$\\left|\\psi\\right\\rangle = \\left|1\\right\\rangle$).\n"
      ]
    },
    {
      "cell_type": "markdown",
      "metadata": {},
      "source": [
        "Let\\'s see how we can easily implement and optimize this circuit using\nPennyLane.\n\nImporting PennyLane and NumPy\n=============================\n\nThe first thing we need to do is import PennyLane, as well as the\nwrapped version of NumPy provided by PennyLane.\n"
      ]
    },
    {
      "cell_type": "code",
      "execution_count": null,
      "metadata": {
        "collapsed": false
      },
      "outputs": [],
      "source": [
        "import pennylane as qml\nfrom pennylane import numpy as np"
      ]
    },
    {
      "cell_type": "markdown",
      "metadata": {},
      "source": [
        "::: {.important}\n::: {.title}\nImportant\n:::\n\nWhen constructing a hybrid quantum/classical computational model with\nPennyLane, it is important to **always import NumPy from PennyLane**,\nnot the standard NumPy!\n\nBy importing the wrapped version of NumPy provided by PennyLane, you can\ncombine the power of NumPy with PennyLane:\n\n-   continue to use the classical NumPy functions and arrays you know\n    and love\n-   combine quantum functions (evaluated on quantum hardware/simulators)\n    and classical functions (provided by NumPy)\n-   allow PennyLane to automatically calculate gradients of both\n    classical and quantum functions\n:::\n"
      ]
    },
    {
      "cell_type": "markdown",
      "metadata": {},
      "source": [
        "Creating a device\n=================\n\nBefore we can construct our quantum node, we need to initialize a\n**device**.\n\n::: {.admonition .defn}\nDefinition\n\nAny computational object that can apply quantum operations and return a\nmeasurement value is called a quantum **device**.\n\nIn PennyLane, a device could be a hardware device (such as the IBM QX4,\nvia the PennyLane-PQ plugin), or a software simulator (such as\nStrawberry Fields, via the PennyLane-SF plugin).\n:::\n\n::: {.tip}\n::: {.title}\nTip\n:::\n\n*Devices are loaded in PennyLane via the function*\n`~.pennylane.device`{.interpreted-text role=\"func\"}\n:::\n\nPennyLane supports devices using both the qubit model of quantum\ncomputation and devices using the CV model of quantum computation. In\nfact, even a hybrid computation containing both qubit and CV quantum\nnodes is possible; see the\n`hybrid computation example <hybrid_computation_example>`{.interpreted-text\nrole=\"ref\"} for more details.\n\nFor this tutorial, we are using the qubit model, so let\\'s initialize\nthe `'default.qubit'` device provided by PennyLane; a simple pure-state\nqubit simulator.\n"
      ]
    },
    {
      "cell_type": "code",
      "execution_count": null,
      "metadata": {
        "collapsed": false
      },
      "outputs": [],
      "source": [
        "dev1 = qml.device(\"default.qubit\", wires=1)"
      ]
    },
    {
      "cell_type": "markdown",
      "metadata": {},
      "source": [
        "For all devices, `~.pennylane.device`{.interpreted-text role=\"func\"}\naccepts the following arguments:\n\n-   `name`: the name of the device to be loaded\n-   `wires`: the number of subsystems to initialize the device with\n\nHere, as we only require a single qubit for this example, we set\n`wires=1`.\n"
      ]
    },
    {
      "cell_type": "markdown",
      "metadata": {},
      "source": [
        "Constructing the QNode\n======================\n\nNow that we have initialized our device, we can begin to construct a\n**quantum node** (or QNode).\n\n::: {.admonition .defn}\nDefinition\n\nQNodes are an abstract encapsulation of a quantum function, described by\na quantum circuit. QNodes are bound to a particular quantum device,\nwhich is used to evaluate expectation and variance values of this\ncircuit.\n:::\n\n::: {.tip}\n::: {.title}\nTip\n:::\n\n*QNodes can be constructed via the*\n`~.pennylane.QNode`{.interpreted-text role=\"class\"} *class, or by using\nthe provided* `~.pennylane.qnode`{.interpreted-text role=\"func\"}\ndecorator.\n:::\n\nFirst, we need to define the quantum function that will be evaluated in\nthe QNode:\n"
      ]
    },
    {
      "cell_type": "code",
      "execution_count": null,
      "metadata": {
        "collapsed": false
      },
      "outputs": [],
      "source": [
        "def circuit(params):\n    qml.RX(params[0], wires=0)\n    qml.RY(params[1], wires=0)\n    return qml.expval(qml.PauliZ(0))"
      ]
    },
    {
      "cell_type": "markdown",
      "metadata": {},
      "source": [
        "This is a simple circuit, matching the one described above. Notice that\nthe function `circuit()` is constructed as if it were any other Python\nfunction; it accepts a positional argument `params`, which may be a\nlist, tuple, or array, and uses the individual elements for gate\nparameters.\n\nHowever, quantum functions are a **restricted subset** of Python\nfunctions. For a Python function to also be a valid quantum function,\nthere are some important restrictions:\n\n-   **Quantum functions must contain quantum operations, one operation\n    per line, in the order in which they are to be applied.**\n\n    In addition, we must always specify the subsystem the operation\n    applies to, by passing the `wires` argument; this may be a list or\n    an integer, depending on how many wires the operation acts on.\n\n    For a full list of quantum operations, see\n    `the documentation <introduction/operations>`{.interpreted-text\n    role=\"doc\"}.\n\n-   **Quantum functions must return either a single or a tuple of\n    measured observables**.\n\n    As a result, the quantum function always returns a classical\n    quantity, allowing the QNode to interface with other classical\n    functions (and also other QNodes).\n\n    For a full list of observables, see\n    `the documentation <introduction/operations>`{.interpreted-text\n    role=\"doc\"}. The documentation also provides details on supported\n    `measurement return types <introduction/measurements>`{.interpreted-text\n    role=\"doc\"}.\n\n::: {.note}\n::: {.title}\nNote\n:::\n\nCertain devices may only support a subset of the available PennyLane\noperations/observables, or may even provide additional\noperations/observables. Please consult the documentation for the\nplugin/device for more details.\n:::\n\nOnce we have written the quantum function, we convert it into a\n`~.pennylane.QNode`{.interpreted-text role=\"class\"} running on device\n`dev1` by applying the `~.pennylane.qnode`{.interpreted-text\nrole=\"func\"} decorator. **directly above** the function definition:\n"
      ]
    },
    {
      "cell_type": "code",
      "execution_count": null,
      "metadata": {
        "collapsed": false
      },
      "outputs": [],
      "source": [
        "@qml.qnode(dev1, interface=\"autograd\")\ndef circuit(params):\n    qml.RX(params[0], wires=0)\n    qml.RY(params[1], wires=0)\n    return qml.expval(qml.PauliZ(0))"
      ]
    },
    {
      "cell_type": "markdown",
      "metadata": {},
      "source": [
        "Thus, our `circuit()` quantum function is now a\n`~.pennylane.QNode`{.interpreted-text role=\"class\"}, which will run on\ndevice `dev1` every time it is evaluated.\n\nTo evaluate, we simply call the function with some appropriate numerical\ninputs:\n"
      ]
    },
    {
      "cell_type": "code",
      "execution_count": null,
      "metadata": {
        "collapsed": false
      },
      "outputs": [],
      "source": [
        "print(circuit([0.54, 0.12]))"
      ]
    },
    {
      "cell_type": "markdown",
      "metadata": {},
      "source": [
        "Calculating quantum gradients\n=============================\n\nThe gradient of the function `circuit`, encapsulated within the `QNode`,\ncan be evaluated by utilizing the same quantum device (`dev1`) that we\nused to evaluate the function itself.\n\nPennyLane incorporates both analytic differentiation, as well as\nnumerical methods (such as the method of finite differences). Both of\nthese are done automatically.\n\nWe can differentiate by using the built-in\n`~.pennylane.grad`{.interpreted-text role=\"func\"} function. This returns\nanother function, representing the gradient (i.e., the vector of partial\nderivatives) of `circuit`. The gradient can be evaluated in the same way\nas the original function:\n"
      ]
    },
    {
      "cell_type": "code",
      "execution_count": null,
      "metadata": {
        "collapsed": false
      },
      "outputs": [],
      "source": [
        "dcircuit = qml.grad(circuit, argnum=0)"
      ]
    },
    {
      "cell_type": "markdown",
      "metadata": {},
      "source": [
        "The function `~.pennylane.grad`{.interpreted-text role=\"func\"} itself\n**returns a function**, representing the derivative of the QNode with\nrespect to the argument specified in `argnum`. In this case, the\nfunction `circuit` takes one argument (`params`), so we specify\n`argnum=0`. Because the argument has two elements, the returned gradient\nis two-dimensional. We can then evaluate this gradient function at any\npoint in the parameter space.\n"
      ]
    },
    {
      "cell_type": "code",
      "execution_count": null,
      "metadata": {
        "collapsed": false
      },
      "outputs": [],
      "source": [
        "print(dcircuit([0.54, 0.12]))"
      ]
    },
    {
      "cell_type": "markdown",
      "metadata": {},
      "source": [
        "**A note on arguments**\n\nQuantum circuit functions, being a restricted subset of Python\nfunctions, can also make use of multiple positional arguments and\nkeyword arguments. For example, we could have defined the above quantum\ncircuit function using two positional arguments, instead of one array\nargument:\n"
      ]
    },
    {
      "cell_type": "code",
      "execution_count": null,
      "metadata": {
        "collapsed": false
      },
      "outputs": [],
      "source": [
        "@qml.qnode(dev1, interface=\"autograd\")\ndef circuit2(phi1, phi2):\n    qml.RX(phi1, wires=0)\n    qml.RY(phi2, wires=0)\n    return qml.expval(qml.PauliZ(0))"
      ]
    },
    {
      "cell_type": "markdown",
      "metadata": {},
      "source": [
        "When we calculate the gradient for such a function, the usage of\n`argnum` will be slightly different. In this case, `argnum=0` will\nreturn the gradient with respect to only the first parameter (`phi1`),\nand `argnum=1` will give the gradient for `phi2`. To get the gradient\nwith respect to both parameters, we can use `argnum=[0,1]`:\n"
      ]
    },
    {
      "cell_type": "code",
      "execution_count": null,
      "metadata": {
        "collapsed": false
      },
      "outputs": [],
      "source": [
        "dcircuit = qml.grad(circuit2, argnum=[0, 1])\nprint(dcircuit(0.54, 0.12))"
      ]
    },
    {
      "cell_type": "markdown",
      "metadata": {},
      "source": [
        "Keyword arguments may also be used in your custom quantum function.\nPennyLane does **not** differentiate QNodes with respect to keyword\narguments, so they are useful for passing external data to your QNode.\n"
      ]
    },
    {
      "cell_type": "markdown",
      "metadata": {},
      "source": [
        "Optimization\n============\n\n::: {.admonition .defn}\nDefinition\n\nIf using the default NumPy/Autograd interface, PennyLane provides a\ncollection of optimizers based on gradient descent. These optimizers\naccept a cost function and initial parameters, and utilize PennyLane\\'s\nautomatic differentiation to perform gradient descent.\n:::\n\n::: {.tip}\n::: {.title}\nTip\n:::\n\n*See* `introduction/optimizers`{.interpreted-text role=\"doc\"} *for\ndetails and documentation of available optimizers*\n:::\n\nNext, let\\'s make use of PennyLane\\'s built-in optimizers to optimize\nthe two circuit parameters $\\phi_1$ and $\\phi_2$ such that the qubit,\noriginally in state $\\left|0\\right\\rangle$, is rotated to be in state\n$\\left|1\\right\\rangle$. This is equivalent to measuring a Pauli-Z\nexpectation value of $-1$, since the state $\\left|1\\right\\rangle$ is an\neigenvector of the Pauli-Z matrix with eigenvalue $\\lambda=-1$.\n\nIn other words, the optimization procedure will find the weights\n$\\phi_1$ and $\\phi_2$ that result in the following rotation on the Bloch\nsphere:\n\n![](../demonstrations/qubit_rotation/bloch.png){.align-center\nwidth=\"70.0%\"}\n\nTo do so, we need to define a **cost** function. By *minimizing* the\ncost function, the optimizer will determine the values of the circuit\nparameters that produce the desired outcome.\n\nIn this case, our desired outcome is a Pauli-Z expectation value of\n$-1$. Since we know that the Pauli-Z expectation is bound between\n$[-1, 1]$, we can define our cost directly as the output of the QNode:\n"
      ]
    },
    {
      "cell_type": "code",
      "execution_count": null,
      "metadata": {
        "collapsed": false
      },
      "outputs": [],
      "source": [
        "def cost(x):\n    return circuit(x)"
      ]
    },
    {
      "cell_type": "markdown",
      "metadata": {},
      "source": [
        "To begin our optimization, let\\'s choose small initial values of\n$\\phi_1$ and $\\phi_2$:\n"
      ]
    },
    {
      "cell_type": "code",
      "execution_count": null,
      "metadata": {
        "collapsed": false
      },
      "outputs": [],
      "source": [
        "init_params = np.array([0.011, 0.012], requires_grad=True)\nprint(cost(init_params))"
      ]
    },
    {
      "cell_type": "markdown",
      "metadata": {},
      "source": [
        "We can see that, for these initial parameter values, the cost function\nis close to $1$.\n\nFinally, we use an optimizer to update the circuit parameters for 100\nsteps. We can use the built-in\n`~.pennylane.GradientDescentOptimizer`{.interpreted-text role=\"class\"}\nclass:\n"
      ]
    },
    {
      "cell_type": "code",
      "execution_count": null,
      "metadata": {
        "collapsed": false
      },
      "outputs": [],
      "source": [
        "# initialise the optimizer\nopt = qml.GradientDescentOptimizer(stepsize=0.4)\n\n# set the number of steps\nsteps = 100\n# set the initial parameter values\nparams = init_params\n\nfor i in range(steps):\n    # update the circuit parameters\n    params = opt.step(cost, params)\n\n    if (i + 1) % 5 == 0:\n        print(\"Cost after step {:5d}: {: .7f}\".format(i + 1, cost(params)))\n\nprint(\"Optimized rotation angles: {}\".format(params))"
      ]
    },
    {
      "cell_type": "markdown",
      "metadata": {},
      "source": [
        "We can see that the optimization converges after approximately 40 steps.\n\nSubstituting this into the theoretical result\n$\\langle \\psi \\mid \\sigma_z \\mid \\psi \\rangle = \\cos\\phi_1\\cos\\phi_2$,\nwe can verify that this is indeed one possible value of the circuit\nparameters that produces\n$\\langle \\psi \\mid \\sigma_z \\mid \\psi \\rangle=-1$, resulting in the\nqubit being rotated to the state $\\left|1\\right\\rangle$.\n\n::: {.note}\n::: {.title}\nNote\n:::\n\nSome optimizers, such as\n`~.pennylane.AdagradOptimizer`{.interpreted-text role=\"class\"}, have\ninternal hyperparameters that are stored in the optimizer instance.\nThese can be reset using the `reset`{.interpreted-text role=\"meth\"}\nmethod.\n:::\n\nContinue on to the next tutorial,\n`gaussian_transformation`{.interpreted-text role=\"ref\"}, to see a\nsimilar example using continuous-variable (CV) quantum nodes.\n\nAbout the author\n================\n"
      ]
    }
  ],
  "metadata": {
    "kernelspec": {
      "display_name": "Python 3",
      "language": "python",
      "name": "python3"
    },
    "language_info": {
      "codemirror_mode": {
        "name": "ipython",
        "version": 3
      },
      "file_extension": ".py",
      "mimetype": "text/x-python",
      "name": "python",
      "nbconvert_exporter": "python",
      "pygments_lexer": "ipython3",
      "version": "3.9.16"
    }
  },
  "nbformat": 4,
  "nbformat_minor": 0
}