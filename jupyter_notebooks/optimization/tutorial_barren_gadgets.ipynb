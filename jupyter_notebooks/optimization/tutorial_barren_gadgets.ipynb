{
  "cells": [
    {
      "cell_type": "code",
      "execution_count": null,
      "metadata": {
        "collapsed": false
      },
      "outputs": [],
      "source": [
        "# This cell is added by sphinx-gallery\n# It can be customized to whatever you like\n%matplotlib inline"
      ]
    },
    {
      "cell_type": "markdown",
      "metadata": {},
      "source": [
        "Perturbative Gadgets for Variational Quantum Algorithms\n==========================================\n\n::: {.meta}\n:property=\\\"og:description\\\": Use perturbative gadgets to avoid\ncost-function-dependent barren plateaus :property=\\\"og:image\\\":\n<https://pennylane.ai/qml/_images/thumbnail_tutorial_barren_gadgets.svg>\n:::\n\n::: {.related}\ntutorial\\_barren\\_plateaus Barren plateaus in quantum neural networks\u00b6\ntutorial\\_local\\_cost\\_functions Alleviating barren plateaus with local\ncost functions\n:::\n\n*Author: Simon Cichy --- Posted: 09 December 2022. Last updated: 09\nDecember 2022.*\n\nVariational quantum algorithms are seen as one of the most primising\ncandidates for useful applications of quantum computers in the near\nterm, but there are still a few hurdles to overcome when it comes to\npractical implementation. One of them, is the trainability. In other\nwords, one needs to ensure that the cost function is not flat. In this\ntutorial, we will explore the application of perturbative gadgets in\nvariational quantum algorithms to outgo the issue of\ncost-function-dependent barren plateaus, as proposed in Ref.\n\nSome context\n============\n\nBarren plateaus refer to the phenomenon where the gradients of the cost\nfunction decay exponentially with the size of the problem. Essentially,\nthe cost landscape becomes flat, with exception of some small regions,\ne.g., around the minimum. That is a problem because increasing the\nprecision of the cost function requires more measurements from the\nquantum device due to shot noise, and an exponential number of\nmeasurements would render the algorithm impractical. If you are not\nfamiliar yet with the concept of barren plateaus, I recommend you first\ncheck out the demonstrations on\n`barren plateaus </demos/tutorial_barren_plateaus>`{.interpreted-text\nrole=\"doc\"} and\n`avoiding barren plateaus with local cost functions </demos/tutorial_local_cost_functions>`{.interpreted-text\nrole=\"doc\"}.\n\nAs presented in the second aforementioned demo, barren plateaus are more\nsevere when using global cost functions compared to local ones. A global\ncost function requires the simultaneous measurement of all qubits at\nonce. In contrast, a local one is constructed from terms that only act\non a small subset of qubits.\n\nWe want to explore this topic further and learn about one possible\nmitigation strategy. Thinking about Variational Quantum Eigensolver\n(VQE) applications, let us consider cost functions that are expectation\nvalues of Hamiltonians such as\n\n$$C(\\theta) = \\operatorname{Tr} \\left[ H V(\\theta) |00\\ldots 0\\rangle \\! \\langle 00\\ldots 0| V(\\theta)^\\dagger\\right].$$\n\nHere $|00\\ldots 0\\rangle$ is our initial state, $V(\\theta)$ is the\ncircuit ansatz and $H$ the Hamiltonian whose expectation value we need\nto minimize. In some cases, it is easy to find a local cost function\nwhich can substitute a global one with the same ground state. Take, for\ninstance, the following Hamiltonians that induce global and local cost\nfunctions, respectively.\n\n$$H_G = \\mathbb{I} - |00\\ldots 0\\rangle \\! \\langle 00\\ldots 0| \\quad \\textrm{ and } \\quad H_L = \\mathbb{I} - \\frac{1}{n} \\sum_j |0\\rangle \\! \\langle 0|_j.$$\n\nThose are two different Hamiltonians (not just different formulations of\nthe same one), but they share the same ground state:\n\n$$|\\psi_{\\textrm{min}} \\rangle =  |00\\ldots 0\\rangle.$$\n\nTherefore, one can work with either Hamiltonian to perform the VQE\nroutine. However, it is not always so simple. What if we want to find\nthe minimum eigenenergy of\n$H = X \\otimes X \\otimes Y \\otimes Z + Z \\otimes Y \\otimes X \\otimes X$\n? It is not always trivial to construct a local cost function that has\nthe same minimum as the cost function of interest. This is where\nperturbative gadgets come into play!\n\nThe definitions\n===============\n\nPerturbative gadgets are a common tool in adiabatic quantum computing.\nTheir goal is to find a Hamiltonian with local interactions that mimics\nanother Hamiltonian with more complex couplings.\n\nIdeally, they would want to implement the target Hamiltonian with\ncomplex couplings, but since it\\'s hard to implement more than few-body\ninteractions on hardware, they cannot do so. Perturbative gadgets work\nby increasing the dimension of the Hilbert space (i.e., the number of\nqubits) and \\\"encoding\\\" the target Hamiltonian in the low-energy\nsubspace of a so-called \\\"gadget\\\" Hamiltonian.\n\nLet us now construct such a gadget Hamiltonian tailored for VQE\napplications. First, we start from a target Hamiltonian that is a linear\ncombination of Pauli words acting on $k$ qubits each:\n\n$$H^\\text{target} = \\sum_i c_i h_i,$$\n\nwhere\n$h_i = \\sigma_{i,1} \\otimes \\sigma_{i,2} \\otimes \\ldots \\otimes \\sigma_{i,k}$,\n$\\sigma_{i,j} \\in \\{ X, Y, Z \\}$, and $c_i \\in \\mathbb{R}$. Now we\nconstruct the gadget Hamiltonian. For each term $h_i$, we will need $k$\nadditional qubits, which we call auxiliary qubits, and to add two terms\nto the Hamiltonian: an \\\"unperturbed\\\" part $H^\\text{aux}_i$ and a\nperturbation $V_i$ of strength $\\lambda$. The unperturbed part penalizes\neach of the newly added qubits for not being in the $|0\\rangle$ state\n\n$$H^\\text{aux}_i = \\sum_{j=1}^k |1\\rangle \\! \\langle 1|_{i,j} = \\sum_{j=1}^k \\frac{1}{2}(\\mathbb{I} - Z_{i,j}).$$\n\nOn the other hand, the perturbation part implements one of the operators\nin the Pauli word $\\sigma_{i,j}$ on the corresponding qubit of the\ntarget register and a pair of Pauli $X$ gates on two of the auxiliary\nqubits:\n\n$$V_i = \\sum_{j=1}^k c_{i,j} \\sigma_{i,j} \\otimes X_{i,j} \\otimes X_{i,(j+1) \\mathrm{mod }k}.$$\n\nIn the end,\n\n$$H^\\text{gad} = \\sum_{i} \\left( H^\\text{aux}_i + \\lambda V_i \\right).$$\n\nTo grasp this idea better, this is what would result from working with a\nHamiltonian acting on a total of $8$ qubits and having $3$ terms, each\nof them being a $4$-body interaction.\n\n![](../demonstrations/barren_gadgets/gadget-terms-tutorial.png){.align-center\nwidth=\"90.0%\"}\n\nFor each of the terms $h_1$, $h_2$, and $h_3$ we add $4$ auxiliary\nqubits. In the end, our gadget Hamiltonian acts on $8+3\\cdot 4 = 20$\nqubits.\n\nThe penalization (red) acts only on the auxiliary registers, penalizing\neach qubit individually, while the perturbations couple the target with\nthe auxiliary qubits.\n\nAs shown in Ref., this construction results in a spectrum that, for low\nenergies, is similar to that of the original Hamiltonian. This means\nthat by minimizing the gadget Hamiltonian and reaching its global\nminimum, the resulting state will be close to the global minimum of\n$H^\\text{target}$.\n\nSince it is a local cost function, it is better behaved with respect to\nbarren plateaus than the global cost function, making it more trainable.\nAs a result, one can mitigate the onset of cost-function-dependent\nbarren plateaus by substituting the global cost function with the\nresulting gadget and using that for training instead. That is what we\nwill do in the rest of this tutorial.\n"
      ]
    },
    {
      "cell_type": "markdown",
      "metadata": {},
      "source": [
        "First, a few imports. PennyLane and NumPy of course, and a few functions\nspecific to our tutorial. The `PerturbativeGadget` class allows the user\nto generate the gadget Hamiltonian from a user-given target Hamiltonian\nin an automated way. For those who want to check its inner workings, you\ncan find the code here:\n`barren_gadgets.py </demonstrations/barren_gadgets/barren_gadgets.py>`{.interpreted-text\nrole=\"download\"}. The functions `get_parameter_shape`,\n`generate_random_gate_sequence`, and `build_ansatz` (for the details:\n`layered_ansatz.py <../demonstrations/barren_gadgets/layered_ansatz.py>`{.interpreted-text\nrole=\"download\"} ) are there to build the parameterized quantum circuit\nwe use in this demo. The first computes the shape of the array of\ntrainable parameters that the circuit will need. The second generates a\nrandom sequence of Pauli rotations from $\\{R_X, R_Y, R_Z\\}$ with the\nright dimension. Finally, `build_ansatz` puts the pieces together.\n"
      ]
    },
    {
      "cell_type": "code",
      "execution_count": null,
      "metadata": {
        "collapsed": false
      },
      "outputs": [],
      "source": [
        "import pennylane as qml\nfrom pennylane import numpy as np\nfrom barren_gadgets.barren_gadgets import PerturbativeGadgets\nfrom barren_gadgets.layered_ansatz import (\n    generate_random_gate_sequence,\n    get_parameter_shape,\n    build_ansatz,\n)\n\nnp.random.seed(3)"
      ]
    },
    {
      "cell_type": "markdown",
      "metadata": {},
      "source": [
        "Now, let\\'s take the example given above:\n\n$$H = X \\otimes X \\otimes Y \\otimes Z + Z \\otimes Y \\otimes X \\otimes X.$$\n\nFirst, we construct our target Hamiltonian in PennyLane. For this, we\nuse the `~pennylane.Hamiltonian`{.interpreted-text role=\"class\"} class.\n"
      ]
    },
    {
      "cell_type": "code",
      "execution_count": null,
      "metadata": {
        "collapsed": false
      },
      "outputs": [],
      "source": [
        "H_target = qml.PauliX(0) @ qml.PauliX(1) @ qml.PauliY(2) @ qml.PauliZ(3) \\\n         + qml.PauliZ(0) @ qml.PauliY(1) @ qml.PauliX(2) @ qml.PauliX(3)"
      ]
    },
    {
      "cell_type": "markdown",
      "metadata": {},
      "source": [
        "Now we can check that we constructed what we wanted.\n"
      ]
    },
    {
      "cell_type": "code",
      "execution_count": null,
      "metadata": {
        "collapsed": false
      },
      "outputs": [],
      "source": [
        "print(H_target)"
      ]
    },
    {
      "cell_type": "markdown",
      "metadata": {},
      "source": [
        "We indeed have a Hamiltonian composed of two terms with the expected\nPauli words. Next, we can construct the corresponding gadget\nHamiltonian. Using the class `PerturbativeGadgets`, we can automatically\ngenerate the gadget Hamiltonian from the target Hamiltonian. The object\n`gadgetizer` will contain all the information about the settings of the\ngadgetization procedure (there are quite a few knobs one can tweak, but\nwe\\'ll skip that for now). Then, the method `gadgetize` takes a\n`~pennylane.Hamiltonian`{.interpreted-text role=\"class\"} object and\ngenerates the corresponding gadget Hamiltonian.\n"
      ]
    },
    {
      "cell_type": "code",
      "execution_count": null,
      "metadata": {
        "collapsed": false
      },
      "outputs": [],
      "source": [
        "gadgetizer = PerturbativeGadgets()\nH_gadget = gadgetizer.gadgetize(H_target)\nprint(H_gadget)"
      ]
    },
    {
      "cell_type": "markdown",
      "metadata": {},
      "source": [
        "So, let\\'s see what we got. We started with 4 target qubits (labelled\n`0` to `3`) and two 4-body terms. Thus we get 4 additional qubits twice\n(`4` to `11`). The first 16 elements of our Hamiltonian correspond to\nthe unperturbed part. The last 8 are the perturbation. They are a little\nscrambled, but one can recognize the 8 Paulis from the target\nHamiltonian on the qubits `0` to `3` and the cyclic pairwise $X$\nstructure on the auxiliaries. Indeed, they are\n$(X_4X_5, X_5X_6, X_6X_7, X_7X_4)$ and\n$(X_8X_9, X_9X_{10}, X_{10}X_{11}, X_{11}X_8)$.\n"
      ]
    },
    {
      "cell_type": "markdown",
      "metadata": {},
      "source": [
        "Training with the gadget Hamiltonian\n\\-\\-\\-\\-\\-\\-\\-\\-\\-\\-\\-\\-\\-\\-\\-\\-\\-\\-\\-\\-\\-\\-\\-\\-\\-\\-\\-\\-\\-\\-\\-\\-\\-\\--Now\nthat we have a little intuition on how the gadget Hamiltonian\nconstruction works, we will use it to train. Classical simulations of\nqubit systems are expensive, so we will simplify further to a target\nHamiltonian with a single term, and show that using the gadget\nHamiltonian for training allows us to minimize the target Hamiltonian.\nSo, let us construct the two Hamiltonians of interest.\n"
      ]
    },
    {
      "cell_type": "code",
      "execution_count": null,
      "metadata": {
        "collapsed": false
      },
      "outputs": [],
      "source": [
        "H_target = 1 * qml.PauliX(0) @ qml.PauliX(1) @ qml.PauliY(2) @ qml.PauliZ(3)\ngadgetizer = PerturbativeGadgets(perturbation_factor=10)\nH_gadget = gadgetizer.gadgetize(H_target)"
      ]
    },
    {
      "cell_type": "markdown",
      "metadata": {},
      "source": [
        "Then we need to set up our variational quantum algorithm. That is, we\nchoose a circuit ansatz with randomly initialized weights, the cost\nfunction, the optimizer with its step size, the number of optimization\nsteps, and the device to run the circuit on. For an ansatz, we will use\na variation of the\n[qml.SimplifiedTwoDesign](https://pennylane.readthedocs.io/en/latest/code/api/pennylane.SimplifiedTwoDesign.html),\nwhich was proposed in previous works on cost-function-dependent barren\nplateaus. I will skip the details of the construction, since it is not\nour focus here, and just show what it looks like. Here is the circuit\nfor a small example\n"
      ]
    },
    {
      "cell_type": "code",
      "execution_count": null,
      "metadata": {
        "collapsed": false
      },
      "outputs": [],
      "source": [
        "shapes = get_parameter_shape(n_layers=3, n_wires=5)\ninit_weights = [np.pi / 4] * shapes[0][0]\nweights = np.random.uniform(0, np.pi, size=shapes[1])\n\n\n@qml.qnode(qml.device(\"default.qubit\", wires=range(5)))\ndef display_circuit(weights):\n    build_ansatz(initial_layer_weights=init_weights, weights=weights, wires=range(5))\n    return qml.expval(qml.PauliZ(wires=0))\n\nimport matplotlib.pyplot as plt\nqml.draw_mpl(display_circuit)(weights)\nplt.show()"
      ]
    },
    {
      "cell_type": "markdown",
      "metadata": {},
      "source": [
        "Now we build the circuit for our actual experiment.\n"
      ]
    },
    {
      "cell_type": "code",
      "execution_count": null,
      "metadata": {
        "collapsed": false
      },
      "outputs": [],
      "source": [
        "# Total number of qubits: target + auxiliary\nnum_qubits = 4 + 1 * 4\n\n# Other parameters of the ansatz: weights and gate sequence\nshapes = get_parameter_shape(n_layers=num_qubits, n_wires=num_qubits)\ninit_weights = [np.pi / 4] * shapes[0][0]\nweights = np.random.uniform(0, np.pi, size=shapes[1])\nrandom_gate_sequence = generate_random_gate_sequence(qml.math.shape(weights))"
      ]
    },
    {
      "cell_type": "markdown",
      "metadata": {},
      "source": [
        "For the classical optimization, we will use the standard gradient\ndescent algorithm and perform 500 iterations. For the quantum part, we\nwill simulate our circuit using the\n[default.qubit](https://docs.pennylane.ai/en/stable/code/api/pennylane.device.html)\nsimulator.\n"
      ]
    },
    {
      "cell_type": "code",
      "execution_count": null,
      "metadata": {
        "collapsed": false
      },
      "outputs": [],
      "source": [
        "opt = qml.GradientDescentOptimizer(stepsize=0.1)\nmax_iter = 500\ndev = qml.device(\"default.qubit\", wires=range(num_qubits))"
      ]
    },
    {
      "cell_type": "markdown",
      "metadata": {},
      "source": [
        "Finally, we will use two cost functions and create a\n[QNode](https://docs.pennylane.ai/en/stable/code/api/pennylane.QNode.html)\nfor each. The first cost function, the training cost, is the loss\nfunction of the optimization. For the training, we use the gadget\nHamiltonian. To ensure that our gadget optimization is proceeding as\nintended, we also define another cost function based on the target\nHamiltonian. We will evaluate its value at each iteration for monitoring\npurposes, but it will not be used in the optimization.\n"
      ]
    },
    {
      "cell_type": "code",
      "execution_count": null,
      "metadata": {
        "collapsed": false
      },
      "outputs": [],
      "source": [
        "@qml.qnode(dev)\ndef training_cost(weights):\n    build_ansatz(\n        initial_layer_weights=init_weights,\n        weights=weights,\n        wires=range(num_qubits),\n        gate_sequence=random_gate_sequence,\n    )\n    return qml.expval(H_gadget)\n\n\n@qml.qnode(dev)\ndef monitoring_cost(weights):\n    build_ansatz(\n        initial_layer_weights=init_weights,\n        weights=weights,\n        wires=range(num_qubits),\n        gate_sequence=random_gate_sequence,\n    )\n    return qml.expval(H_target)"
      ]
    },
    {
      "cell_type": "markdown",
      "metadata": {},
      "source": [
        "The idea is that if we reach the global minimum for the gadget\nHamiltonian, we should also be close to the global minimum of the target\nHamiltonian, which is what we are ultimately interested in. To see the\nresults and plot them, we will save the cost values at each iteration.\n"
      ]
    },
    {
      "cell_type": "code",
      "execution_count": null,
      "metadata": {
        "collapsed": false
      },
      "outputs": [],
      "source": [
        "costs_lists = {}\ncosts_lists[\"training\"] = [training_cost(weights)]\ncosts_lists[\"monitoring\"] = [monitoring_cost(weights)]"
      ]
    },
    {
      "cell_type": "markdown",
      "metadata": {},
      "source": [
        "Now everything is set up, let\\'s run the optimization and see how it\ngoes. Be careful, this will take a while.\n"
      ]
    },
    {
      "cell_type": "code",
      "execution_count": null,
      "metadata": {
        "collapsed": false
      },
      "outputs": [],
      "source": [
        "for it in range(max_iter):\n    weights = opt.step(training_cost, weights)\n    costs_lists[\"training\"].append(training_cost(weights))\n    costs_lists[\"monitoring\"].append(monitoring_cost(weights))\n\n\nplt.style.use(\"seaborn\")\n\nplt.figure()\nplt.plot(costs_lists[\"training\"])\nplt.plot(costs_lists[\"monitoring\"])\nplt.legend([\"training\", \"monitoring\"])\nplt.xlabel(\"Number of iterations\")\nplt.ylabel(\"Cost values\")\nplt.show()"
      ]
    },
    {
      "cell_type": "markdown",
      "metadata": {},
      "source": [
        "Since our example target Hamiltonian is a single Pauli string, we know\nwithout needing any training that it has only $\\pm 1$ eigenvalues. It is\na very simple example, but we see that the training of our circuit using\nthe gadget Hamiltonian as a cost function did indeed allow us to reach\nthe global minimum of the target cost function.\n\nNow that you have an idea of how you can use perturbative gadgets in\nvariational quantum algorithms, you can try applying them to more\ncomplex problems! However, be aware of the exponential scaling of\nclassical simulations of quantum systems; adding linearly many auxiliary\nqubits quickly becomes hard to simulate. For those interested in the\ntheory behind it or more formal statements of \\\"how close\\\" the results\nusing the gadget are from the targeted ones, check out the original\npaper[^1]. There you will also find further discussions on the\nadvantages and limits of this proposal, as well as a more general recipe\nto design other gadget constructions with similar properties. Also, the\ncomplete code with explanations on how to reproduce the figures from the\npaper can be found in [this\nrepository](https://github.com/SimonCichy/barren-gadgets).\n\nReferences\n==========\n\nAbout the author\n================\n\n[^1]: Cichy, S., Faehrmann, P.K., Khatri, S., Eisert, J. \\\"A\n    perturbative gadget for delaying the onset of barren plateaus in\n    variational quantum algorithms.\\\"\n    [arXiv:2210.03099](https://arxiv.org/abs/2210.03099), 2022.\n"
      ]
    }
  ],
  "metadata": {
    "kernelspec": {
      "display_name": "Python 3",
      "language": "python",
      "name": "python3"
    },
    "language_info": {
      "codemirror_mode": {
        "name": "ipython",
        "version": 3
      },
      "file_extension": ".py",
      "mimetype": "text/x-python",
      "name": "python",
      "nbconvert_exporter": "python",
      "pygments_lexer": "ipython3",
      "version": "3.9.16"
    }
  },
  "nbformat": 4,
  "nbformat_minor": 0
}