{
  "cells": [
    {
      "cell_type": "code",
      "execution_count": null,
      "metadata": {
        "collapsed": false
      },
      "outputs": [],
      "source": [
        "# This cell is added by sphinx-gallery\n# It can be customized to whatever you like\n%matplotlib inline"
      ]
    },
    {
      "cell_type": "markdown",
      "metadata": {},
      "source": [
        "Barren plateaus in quantum neural networks {#barren_plateaus}\n==========================================\n\n::: {.meta}\n:property=\\\"og:description\\\": Showing how randomized quantum circuits\nface the problem of barren plateaus using PennyLane. We will partly\nreproduce some of the findings in McClean et. al., 2018 with just a few\nlines of code. :property=\\\"og:image\\\":\n<https://pennylane.ai/qml/_images/surface.png>\n:::\n\n::: {.related}\ntutorial\\_local\\_cost\\_functions Alleviating barren plateaus with local\ncost functions\n:::\n\n*Author: Shahnawaz Ahmed --- Posted: 11 October 2019. Last updated: 26\nOctober 2020.*\n\nIn classical optimization, it is suggested that saddle points, not local\nminima, provide a fundamental impediment to rapid high-dimensional\nnon-convex optimization (Dauphin et al., 2014).\n\nThe problem of such barren plateaus manifests in a different form in\nvariational quantum circuits, which are at the heart of techniques such\nas quantum neural networks or approximate optimization e.g., QAOA\n(Quantum Adiabatic Optimization Algorithm) which can be found in this\n[PennyLane QAOA\ntutorial](https://pennylane.readthedocs.io/en/latest/tutorials/pennylane_run_qaoa_maxcut.html#qaoa-maxcut).\n\nWhile starting from a parameterized random quantum circuit seems like a\ngood unbiased choice if we do not know the problem structure, McClean et\nal. (2018) show that\n\n*\\\"for a wide class of reasonable parameterized quantum circuits, the\nprobability that the gradient along any reasonable direction is non-zero\nto some fixed precision is exponentially small as a function of the\nnumber of qubits.\\\"*\n\nThus, randomly selected quantum circuits might not be the best option to\nchoose while implementing variational quantum algorithms.\n\n![](../demonstrations/barren_plateaus/surface.png){.align-center\nwidth=\"90.0%\"}\n\n| \n\nIn this tutorial, we will show how randomized quantum circuits face the\nproblem of barren plateaus using PennyLane. We will partly reproduce\nsome of the findings in McClean et. al., 2018 with just a few lines of\ncode.\n\n::: {.note}\n::: {.title}\nNote\n:::\n\n**An initialization strategy to tackle barren plateaus**\n\nHow do we avoid the problem of barren plateaus? In Grant et al. (2019),\nthe authors present one strategy to tackle the barren plateau problem in\nrandomized quantum circuits:\n\n*\\\"The technique involves randomly selecting some of the initial\nparameter values, then choosing the remaining values so that the final\ncircuit is a sequence of shallow unitary blocks that each evaluates to\nthe identity. Initializing in this way limits the effective depth of the\ncircuits used to calculate the first parameter update so that they\ncannot be stuck in a barren plateau at the start of training.\\\"*\n:::\n\nExploring the barren plateau problem with PennyLane\n---------------------------------------------------\n\nFirst, we import PennyLane, NumPy, and Matplotlib\n"
      ]
    },
    {
      "cell_type": "code",
      "execution_count": null,
      "metadata": {
        "collapsed": false
      },
      "outputs": [],
      "source": [
        "import pennylane as qml\nfrom pennylane import numpy as np\nimport matplotlib.pyplot as plt"
      ]
    },
    {
      "cell_type": "markdown",
      "metadata": {},
      "source": [
        "Next, we create a randomized variational circuit\n"
      ]
    },
    {
      "cell_type": "code",
      "execution_count": null,
      "metadata": {
        "collapsed": false
      },
      "outputs": [],
      "source": [
        "# Set a seed for reproducibility\nnp.random.seed(42)\n\nnum_qubits = 4\ndev = qml.device(\"default.qubit\", wires=num_qubits)\ngate_set = [qml.RX, qml.RY, qml.RZ]\n\n\ndef rand_circuit(params, random_gate_sequence=None, num_qubits=None):\n    \"\"\"A random variational quantum circuit.\n\n    Args:\n        params (array[float]): array of parameters\n        random_gate_sequence (dict): a dictionary of random gates\n        num_qubits (int): the number of qubits in the circuit\n\n    Returns:\n        float: the expectation value of the target observable\n    \"\"\"\n    for i in range(num_qubits):\n        qml.RY(np.pi / 4, wires=i)\n\n    for i in range(num_qubits):\n        random_gate_sequence[i](params[i], wires=i)\n\n    for i in range(num_qubits - 1):\n        qml.CZ(wires=[i, i + 1])\n\n    H = np.zeros((2 ** num_qubits, 2 ** num_qubits))\n    H[0, 0] = 1\n    wirelist = [i for i in range(num_qubits)]\n    return qml.expval(qml.Hermitian(H, wirelist))"
      ]
    },
    {
      "cell_type": "markdown",
      "metadata": {},
      "source": [
        "Now we can compute the gradient and calculate the variance. While we\nonly sample 200 random circuits to allow the code to run in a reasonable\namount of time, this can be increased for more accurate results. We only\nconsider the gradient of the output with respect to the last parameter\nin the circuit. Hence we choose to save `gradient[-1]` only.\n"
      ]
    },
    {
      "cell_type": "code",
      "execution_count": null,
      "metadata": {
        "collapsed": false
      },
      "outputs": [],
      "source": [
        "grad_vals = []\nnum_samples = 200\n\nfor i in range(num_samples):\n    gate_sequence = {i: np.random.choice(gate_set) for i in range(num_qubits)}\n    qcircuit = qml.QNode(rand_circuit, dev, interface=\"autograd\")\n    grad = qml.grad(qcircuit, argnum=0)\n    params = np.random.uniform(0, 2 * np.pi, size=num_qubits)\n    gradient = grad(params, random_gate_sequence=gate_sequence, num_qubits=num_qubits)\n    grad_vals.append(gradient[-1])\n\nprint(\"Variance of the gradients for {} random circuits: {}\".format(\n    num_samples, np.var(grad_vals)\n    )\n)\nprint(\"Mean of the gradients for {} random circuits: {}\".format(\n    num_samples, np.mean(grad_vals)\n    )\n)"
      ]
    },
    {
      "cell_type": "markdown",
      "metadata": {},
      "source": [
        "Evaluate the gradient for more qubits\n=====================================\n\nWe can repeat the above analysis with increasing number of qubits.\n"
      ]
    },
    {
      "cell_type": "code",
      "execution_count": null,
      "metadata": {
        "collapsed": false
      },
      "outputs": [],
      "source": [
        "qubits = [2, 3, 4, 5, 6]\nvariances = []\n\n\nfor num_qubits in qubits:\n    grad_vals = []\n    for i in range(num_samples):\n        dev = qml.device(\"default.qubit\", wires=num_qubits)\n        qcircuit = qml.QNode(rand_circuit, dev, interface=\"autograd\")\n        grad = qml.grad(qcircuit, argnum=0)\n\n        gate_set = [qml.RX, qml.RY, qml.RZ]\n        random_gate_sequence = {i: np.random.choice(gate_set) for i in range(num_qubits)}\n\n        params = np.random.uniform(0, np.pi, size=num_qubits)\n        gradient = grad(\n            params, random_gate_sequence=random_gate_sequence, num_qubits=num_qubits\n        )\n        grad_vals.append(gradient[-1])\n    variances.append(np.var(grad_vals))\n\nvariances = np.array(variances)\nqubits = np.array(qubits)\n\n\n# Fit the semilog plot to a straight line\np = np.polyfit(qubits, np.log(variances), 1)\n\n\n# Plot the straight line fit to the semilog\nplt.semilogy(qubits, variances, \"o\")\nplt.semilogy(qubits, np.exp(p[0] * qubits + p[1]), \"o-.\", label=\"Slope {:3.2f}\".format(p[0]))\nplt.xlabel(r\"N Qubits\")\nplt.ylabel(r\"$\\langle \\partial \\theta_{1, 1} E\\rangle$ variance\")\nplt.legend()\nplt.show()"
      ]
    },
    {
      "cell_type": "markdown",
      "metadata": {},
      "source": [
        "References\n==========\n\n1.  Dauphin, Yann N., et al., Identifying and attacking the saddle point\n    problem in high-dimensional non-convex optimization. Advances in\n    Neural Information Processing systems (2014).\n2.  McClean, Jarrod R., et al., Barren plateaus in quantum neural\n    network training landscapes. Nature communications 9.1 (2018): 4812.\n3.  Grant, Edward, et al. An initialization strategy for addressing\n    barren plateaus in parametrized quantum circuits. arXiv preprint\n    arXiv:1903.05076 (2019).\n\nAbout the author\n================\n"
      ]
    }
  ],
  "metadata": {
    "kernelspec": {
      "display_name": "Python 3",
      "language": "python",
      "name": "python3"
    },
    "language_info": {
      "codemirror_mode": {
        "name": "ipython",
        "version": 3
      },
      "file_extension": ".py",
      "mimetype": "text/x-python",
      "name": "python",
      "nbconvert_exporter": "python",
      "pygments_lexer": "ipython3",
      "version": "3.9.16"
    }
  },
  "nbformat": 4,
  "nbformat_minor": 0
}