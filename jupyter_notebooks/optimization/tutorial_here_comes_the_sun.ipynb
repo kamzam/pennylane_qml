{
  "cells": [
    {
      "cell_type": "code",
      "execution_count": null,
      "metadata": {
        "collapsed": false
      },
      "outputs": [],
      "source": [
        "# This cell is added by sphinx-gallery\n# It can be customized to whatever you like\n%matplotlib inline"
      ]
    },
    {
      "cell_type": "markdown",
      "metadata": {},
      "source": [
        "Here comes the SU(N): multivariate quantum gates and gradients\n==============================================================\n\n::: {.meta}\n:property=\\\"og:description\\\": Learn about multivariate quantum gates for\noptimization :property=\\\"og:image\\\":\n<https://pennylane.ai/qml/_images/thumbnail_tutorial_here_comes_the_sun.png>\n:::\n\n::: {.related}\ntutorial\\_vqe A brief overview of VQE tutorial\\_general\\_parshift\nGeneral parameter-shift rules for quantum gradients\ntutorial\\_unitary\\_designs Unitary designs and their uses in quantum\ncomputing\n:::\n\n*Author: David Wierichs --- Posted: 03 April 2023.*\n\nHow do we choose an ansatz when designing a quantum circuit for a\nvariational quantum algorithm? And what happens if we do not start with\nelementary hardware-friendly gates and compose them, but we instead use\na more complex building block for local qubit interactions and allow for\nmulti-parameter gates from the start? Can we differentiate such\ncircuits, and how do they perform in optimization tasks?\n\nLet\\'s find out!\n\nIn this tutorial, you will learn about the $\\mathrm{SU}(N)$ gate\n`~pennylane.SpecialUnitary`{.interpreted-text role=\"class\"}, a\nparticular quantum gate which can act like *any* gate on its qubits by\nchoosing the parameters accordingly. We will look at a custom derivative\nrule for this gate and compare it to two alternative differentiation\nstrategies, namely finite differences and the [stochastic\nparameter-shift\nrule](https://pennylane.ai/qml/demos/tutorial_stochastic_parameter_shift.html).\nFinally, we will compare the performance of `qml.SpecialUnitary` for a\ntoy minimization problem to that of two other general local gates. That\nis, we compare the trainability of equally expressive ans\u00e4tze.\n\nAns\u00e4tze, so many ans\u00e4tze\n------------------------\n\nVariational quantum algorithms have been promoted to be useful for many\napplications. When designing these algorithms, a central task is to\nchoose the quantum circuit ansatz, which provides a parameterization of\nquantum states. In the course of a variational algorithm, the circuit\nparameters are then optimized in order to minimize some cost function.\nThe choice of the ansatz can have a big impact on the quantum states\nthat can be found by the algorithm (expressivity) and on the\noptimization\\'s behaviour (trainability).\n\nTypically, it also affects the computational cost of executing the\nalgorithm on quantum hardware and the strength of the noise that enters\nthe computation. Finally, the application itself influences, or even\nfixes, the choice of ansatz for some variational quantum algorithms,\nwhich can lead to constraints in the ansatz design.\n\n![](../demonstrations/here_comes_the_sun/SUN_demo_Ansatz.png){.align-center\nwidth=\"90.0%\"}\n\nWhile a number of best practices for ansatz design have been developed,\na lot is still unknown about the connection between circuit structures\nand the resulting properties. Therefore, circuit design is often also\nbased on intuition or heuristics; an ansatz reported in the literature\nmight just have turned out to work particularly well for a given problem\nor might fall into a \\\"standard\\\" category of circuits.\n\nIf the application does not constrain the choice of ansatz, we may want\nto avoid choosing somewhat arbitrary circuit ans\u00e4tze that may introduce\nundesirable biases. Instead, we will want to reflect the generic\nstructure of the problem by performing a fully general operation on the\nqubit register. However, if we were to do so, the number of parameters\nrequired to produce such a general operation would grow much too\nquickly. Instead, we want to consider fully general operations *on a few\nqubits* and compose them into a fabric of local gates. For two-qubit\noperations, the fabric could look like this:\n\n![](../demonstrations/here_comes_the_sun/SUN_demo_SU4.png){.align-center\nwidth=\"60.0%\"}\n\nThe general local operation can be implemented by composing a suitable\ncombination of elementary gates, like single-qubit rotations and CNOT\ngates. Alternatively, we may choose a canonical parameterization of the\ngroup that contains all local operations, and we will see that this is\nan advantageous approach for the trainability of the ansatz.\n\n![](../demonstrations/here_comes_the_sun/SUN_demo_optimization.png){.align-center\nwidth=\"60.0%\"}\n\nBefore we can use the $\\mathrm{SU}(N)$ gate in training, we will need to\nlearn how to differentiate it in a quantum circuit. But first things\nfirst: let\\'s start with a brief math intro --- no really, just a\n*Liettle* bit.\n\nThe special unitary group SU(N) and its Lie algebra\n---------------------------------------------------\n\nThe gate we will look at is given by a specific parameterization of the\n[special unitary\ngroup](https://en.wikipedia.org/wiki/Special_unitary_group)\n$\\mathrm{SU}(N)$, where $N=2^n$ is the Hilbert space dimension of the\ngate for $n$ qubits. Mathematically, the group can be defined as the set\nof operators (or matrices) that can be inverted by taking their adjoint\nand that have determinant $1$. In general, all quantum gates acting on\n$n$ qubits are elements of $\\mathrm{SU}(N)$ up to a global phase.\n\nThe group $\\mathrm{SU}(N)$ is a [Lie\ngroup](https://en.wikipedia.org/wiki/Lie_group), and its associated [Lie\nalgebra](https://en.wikipedia.org/wiki/Lie_algebra) is\n$\\mathfrak{su}(N)$. For our purposes, it will be sufficient to look at a\nmatrix representation of the algebra and we may define it as\n\n$$\\mathfrak{su}(N) =\n\\{\\Omega \\in \\mathbb{C}^{N\\times N}: \\Omega^\\dagger=-\\Omega, \\operatorname{Tr}[\\Omega]=0\\}.$$\n\nThe conditions are that the elements $\\Omega$ are *skew-Hermitian* and\nthat their trace vanishes. We will use so-called canonical coordinates\nfor the algebra which are simply the coefficients in the Pauli basis.\nThat is, we consider the Pauli basis elements multiplied with the\nimaginary unit $i$, except for the identity:\n\n$$G_m \\in \\mathcal{P}^{(n)} = i \\left\\{I,X,Y,Z\\right\\}^n \\setminus \\{i I^n\\}.$$\n\nA Lie algebra element $\\Omega$ can be written as\n\n$$\\Omega = \\sum_{m=1}^d \\theta_m G_m,\\quad \\theta_m \\in \\mathbb{R}$$\n\nand those coefficients $\\theta$ are precisely the canonical coordinates.\nYou may ask why we included the prefactor $i$ in the definition of $G_m$\nand why we excluded the identity (times $i$). This was done to match the\nproperties of $\\mathfrak{su}(N)$; the prefactor makes the basis elements\nskew-Hermitian and the identity would not have a vanishing trace.\nIndeed, one can check that the dimension of $\\mathfrak{su}(N)$ is\n$4^n-1$ and that there are $4^n$ Pauli words, so that one Pauli word ---\nthe identity --- had to go in any case\\... We can use the canonical\ncoordinates of the algebra to express a *group element* in\n$\\mathrm{SU}(N)$ as well, and the `qml.SpecialUnitary` gate we will use\nis defined as\n\n$$U(\\bm{\\theta}) = \\exp\\left\\{\\sum_{m=1}^d \\theta_m G_m \\right\\}.$$\n\nThe number of coordinates and Pauli words in $\\mathcal{P}^{(n)}$ is\n$d=4^n-1$. Therefore, this will be the number of parameters that a\nsingle `qml.SpecialUnitary` gate acting on $n$ qubits will take. For\nexample, it takes just three parameters for a single qubit, which is why\n`~pennylane.Rot`{.interpreted-text role=\"class\"} and\n`~pennylane.U3`{.interpreted-text role=\"class\"} take three parameters\nand may produce *any* single-qubit rotation. It takes a modest 15\nparameters for two qubits, but it already requires 63 parameters for\nthree qubits.\n\nFor unitaries generated by a single operator, i.e. of the form\n$\\exp(i\\theta G)$, there is a plethora of differentiation techniques\nthat allow us to compute its derivative. However, a standard\nparameter-shift rule, for example, will not do the job if there are\nnon-commuting terms $G_m$ in the multi-parameter gate $U(\\bm{\\theta})$\nabove. So how *do* we compute the derivative?\n\nObtaining the gradient\n----------------------\n\nIn variational quantum algorithms, we typically use the circuit to\nprepare a quantum state and then we measure some observable $H$. The\nresulting real-valued output is considered to be the cost function $C$\nthat should be minimized. If we want to use gradient-based optimization\nfor this task, we need a method to compute the gradient $\\nabla C$ in\naddition to the cost function itself. As derived in the publication,\nthis is possible on quantum hardware for $\\mathrm{SU}(N)$ gates as long\nas the gates themselves can be implemented. The implementation in\nPennyLane follows the decomposition idea described in App. F3, but the\nmain text of proposes an additional method that scales better in some\nscenarios (the caveat being that this method requires additional gates\nto be available on the quantum hardware). Here, we will focus on the\nformer method. We will not go through the entire derivation, but note\nthe following key points:\n\n-   The gradient with respect to all $d$ parameters of an\n    $\\mathrm{SU}(N)$ gate can be computed using $2d$ auxiliary circuits.\n    Each of the circuits contains one additional operation compared to\n    the original circuit, namely a `qml.PauliRot` gate with rotation\n    angles of $\\pm\\frac{\\pi}{2}$. Note that these Pauli rotations act on\n    up to $n$ qubits.\n-   This differentiation method uses automatic differentiation during\n    compilation and classical coprocessing steps, but is compatible with\n    quantum hardware. For large $n$, the classical processing steps can\n    quickly become prohibitively expensive.\n-   The computed gradient is not an approximative technique but allows\n    for an exact computation of the gradient on simulators. On quantum\n    hardware, this leads to unbiased gradient estimators.\n\nThe implementation in PennyLane takes care of creating the additional\ncircuits and evaluating them, and with adequate post-processing we get\nthe gradient $\\nabla C$.\n\nComparing gradient methods\n--------------------------\n\nBefore we dive into using `qml.SpecialUnitary` in an optimization task,\nlet\\'s compare a few methods to compute the gradient with respect to the\nparameters of such a gate. In particular, we will look at a finite\ndifference (FD) approach, the stochastic parameter-shift rule, and the\ncustom gradient method we described above.\n\nFor the first approach, we will use the standard central difference\nrecipe given by\n\n$$\\partial_{\\text{FD},\\theta_j}C(\\bm{\\theta})\n=\\left[C\\left(\\bm{\\theta}+\\frac{\\delta}{2}\\bm{e}_j\\right)\n-C\\left(\\bm{\\theta}-\\frac{\\delta}{2}\\bm{e}_j\\right)\\right] / \\delta.$$\n\nHere, $\\delta$ is a shift parameter that we need to choose and\n$\\bm{e}_j$ is the $j$-th canonical basis vector, i.e. the all-zeros\nvector with a one in the $j$-th entry. This approach is agnostic to the\ndifferentiated function and does not exploit its structure.\n\nIn contrast, the stochastic parameter-shift rule is a differentiation\nrecipe developed particularly for multi-parameter gates like the\n$\\mathrm{SU}(N)$ gates. It involves the approximate evaluation of an\nintegral by sampling *splitting times* $\\tau$ and evaluating an\nexpression close to the non-stochastic parameter-shift rule for each\nsample. For more details, also consider the\n`demo on the stochastic parameter-shift rule </demos/tutorial_stochastic_parameter_shift>`{.interpreted-text\nrole=\"doc\"}.\n\nSo, let\\'s dive into a toy example and explore the three gradient\nmethods! We start by defining a simple one-qubit circuit that contains a\nsingle $\\mathrm{SU}(2)$ gate and measures the expectation value of\n$H=\\frac{3}{5} Z - \\frac{4}{5} Y$. As `qml.SpecialUnitary` requires\nautomatic differentiation subroutines even for the hardware-ready\nderivative recipe, we will make use of JAX.\n"
      ]
    },
    {
      "cell_type": "code",
      "execution_count": null,
      "metadata": {
        "collapsed": false
      },
      "outputs": [],
      "source": [
        "import pennylane as qml\nimport numpy as np\nimport jax\n\njax.config.update(\"jax_enable_x64\", True)\njax.config.update(\"jax_platform_name\", \"cpu\")\njnp = jax.numpy\n\ndev = qml.device(\"default.qubit\", wires=1)\nH = 0.6 * qml.PauliZ(0) - 0.8 * qml.PauliY(0)\n\n\ndef qfunc(theta):\n    qml.SpecialUnitary(theta, wires=0)\n    return qml.expval(H)\n\n\ncircuit = qml.QNode(qfunc, dev, interface=\"jax\", diff_method=\"parameter-shift\")\n\ntheta = jnp.array([0.4, 0.2, -0.5])"
      ]
    },
    {
      "cell_type": "markdown",
      "metadata": {},
      "source": [
        "Now we need to set up the differentiation methods. For this\ndemonstration, we will keep the first and last entry of `theta` fixed\nand only compute the gradient for the second parameter. This allows us\nto visualize the results easily and keeps the computational effort to a\nminimum.\n\nWe start with the finite-difference recipe, using a shift scale of\n$\\delta=0.75$. This choice of $\\delta$, which is much larger than usual\nfor numerical differentiation on classical computers, is adapted to the\nscenario of shot-based gradients (see App. F2 of). We compute the\nderivative with respect to the second entry of theta, so we will use the\nunit vector $e_2$:\n"
      ]
    },
    {
      "cell_type": "code",
      "execution_count": null,
      "metadata": {
        "collapsed": false
      },
      "outputs": [],
      "source": [
        "unit_vector = np.array([0.0, 1.0, 0.0])\n\n\ndef central_diff_grad(theta, delta):\n    plus_eval = circuit(theta + delta / 2 * unit_vector)\n    minus_eval = circuit(theta - delta / 2 * unit_vector)\n    return (plus_eval - minus_eval) / delta\n\n\ndelta = 0.75\nprint(f\"Central difference: {central_diff_grad(theta, delta):.5f}\")"
      ]
    },
    {
      "cell_type": "markdown",
      "metadata": {},
      "source": [
        "Next up, we implement the stochastic parameter-shift rule. Of course we\ndo not do so in full generality, but for the particular circuit in this\nexample. We will sample ten splitting times to obtain the gradient\nentry. For each splitting time, we need to insert a Pauli-$Y$ rotation\nbecause $\\theta_2$ belongs to the Pauli-$Y$ component of\n$A(\\bm{\\theta})$. For this, we define an auxiliary circuit.\n"
      ]
    },
    {
      "cell_type": "code",
      "execution_count": null,
      "metadata": {
        "collapsed": false
      },
      "outputs": [],
      "source": [
        "@jax.jit\n@qml.qnode(dev, interface=\"jax\")\ndef aux_circuit(theta, tau, sign):\n    qml.SpecialUnitary(tau * theta, wires=0)\n    # This corresponds to the parameter-shift evaluations of RY at 0\n    qml.RY(-sign * np.pi / 2, wires=0)\n    qml.SpecialUnitary((1 - tau) * theta, wires=0)\n    return qml.expval(H)\n\n\ndef stochastic_parshift_grad(theta, num_samples):\n    grad = 0\n    splitting_times = np.random.random(size=num_samples)\n    for tau in splitting_times:\n        # Evaluate the two-term parameter-shift rule of the auxiliar circuit\n        grad += aux_circuit(theta, tau, 1.0) - aux_circuit(theta, tau, -1.0)\n    return grad / num_samples\n\n\nnum_samples = 10\nprint(f\"Stochastic parameter-shift: {stochastic_parshift_grad(theta, num_samples):.5f}\")"
      ]
    },
    {
      "cell_type": "markdown",
      "metadata": {},
      "source": [
        "Finally, we can make use of the custom parameter-shift rule introduced\nin , which is readily available in PennyLane. Due to the implementation\nchosen internally, the full gradient is returned; we need to pick the\nsecond gradient entry manually. For this small toy problem, this is not\nan issue.\n"
      ]
    },
    {
      "cell_type": "code",
      "execution_count": null,
      "metadata": {
        "collapsed": false
      },
      "outputs": [],
      "source": [
        "sun_grad = jax.grad(circuit)\nprint(f\"Custom SU(N) gradient: {sun_grad(theta)[1]:.5f}\")"
      ]
    },
    {
      "cell_type": "markdown",
      "metadata": {},
      "source": [
        "We obtained three values for the gradient of interest, and they do not\nagree. So what is going on here? First, let\\'s use automatic\ndifferentiation to compute the exact value and see which method agrees\nwith it (we again need to extract the corresponding entry from the full\ngradient).\n"
      ]
    },
    {
      "cell_type": "code",
      "execution_count": null,
      "metadata": {
        "collapsed": false
      },
      "outputs": [],
      "source": [
        "autodiff_circuit = qml.QNode(qfunc, dev, interface=\"jax\", diff_method=\"parameter-shift\")\nexact_grad = jax.grad(autodiff_circuit)(theta)[1]\nprint(f\"Exact gradient: {exact_grad:.5f}\")"
      ]
    },
    {
      "cell_type": "markdown",
      "metadata": {},
      "source": [
        "As we can see, automatic differentiation confirmed that the custom\ndifferentiation method gave us the correct result. Why do the other\nmethods disagree? This is because the finite difference recipe is an\n*approximate* gradient method. This means it has an error even if all\ncircuit evaluations are made exact (up to numerical precision) like in\nthe example above. As for the stochastic parameter-shift rule, you may\nalready guess why there is a deviation: indeed, the *stochastic* nature\nof this method leads to derivative values that are scattered around the\ntrue value. It is an unbiased estimator, so the average will approach\nthe exact value with increasingly many evaluations. To demonstrate this,\nlet\\'s compute the same derivative many times and plot a histogram of\nwhat we get. We\\'ll do so for `num_samples=2`, `10` and `100`.\n"
      ]
    },
    {
      "cell_type": "code",
      "execution_count": null,
      "metadata": {
        "collapsed": false
      },
      "outputs": [],
      "source": [
        "import matplotlib.pyplot as plt\n\nplt.rcParams.update({\"font.size\": 12})\n\nfig, ax = plt.subplots(1, 1, figsize=(6, 4))\ncolors = [\"#ACE3FF\", \"#FF87EB\", \"#FFE096\"]\nfor num_samples, color in zip([2, 10, 100], colors):\n    grads = [stochastic_parshift_grad(theta, num_samples) for _ in range(1000)]\n    ax.hist(grads, label=f\"{num_samples} samples\", alpha=0.9, color=color)\nylim = ax.get_ylim()\nax.plot([exact_grad] * 2, ylim, ls=\"--\", c=\"k\", label=\"Exact\")\nax.set(xlabel=r\"$\\partial_{SPS,\\theta_2}C(\\theta)$\", ylabel=\"Frequency\", ylim=ylim)\nax.legend(loc=\"upper left\")\nplt.tight_layout()\nplt.show()"
      ]
    },
    {
      "cell_type": "markdown",
      "metadata": {},
      "source": [
        "As we can see, the stochastic parameter-shift rule comes with a variance\nthat can be reduced at the additional cost of evaluating the auxiliary\ncircuit for more splitting times.\n\nOn quantum hardware, all measurement results are statistical in nature\nanyway. So how does this stochasticity combine with the three\ndifferentiation methods? We will not go into detail here, but refer to\nto see how the custom differentiation rule proposed in the main text\nleads to the lowest mean squared error. For a single-qubit circuit\nsimilar to the one above, but with the single gate\n$U(\\bm{\\theta})=\\exp(iaX+ibY)$, the derivative and its expected variance\nare shown in the following (recoloured) plot from the manuscript:\n\n![](../demonstrations/here_comes_the_sun/sampled_grad.png){.align-center\nwidth=\"70.0%\"}\n\nAs we can see, the custom $\\mathrm{SU}(N)$ parameter-shift rule produces\nthe gradient estimates with the smallest variance. For small values of\nthe parameter $b$, which is fixed for each panel, the custom shift rule\nand the stochastic shift rule approach the standard two-term\nparameter-shift rule, which would be exact for $b=0$. The finite\ndifference gradient shown here was obtained using the shift scale\n$\\delta=0.75$, as well. As we can see, this suppresses the variance down\nto a level comparable to those of the shift rule derivatives and this\nshift scale is a reasonable trade-off between the variance and the\nsystematic error we observed earlier. As shown in App. F3 of, this scale\nis indeed close to the optimal choice if we were to compute the gradient\nwith 100 shots per circuit.\n\nComparing ansatz structures\n===========================\n\nWe discussed above that there are many circuit architectures available\nand that choosing a suitable ansatz is important but can be difficult.\nHere, we will compare a simple ansatz based on the `qml.SpecialUnitary`\ngate discussed above to other approaches that fully parametrize the\nspecial unitary group for the respective number of qubits. In\nparticular, we will compare `qml.SpecialUnitary` to standard\ndecompositions from the literature that parametrize $\\mathrm{SU}(N)$\nwith elementary gates, as well as to a sequence of Pauli rotation gates\nthat also allows us to create any special unitary. Let us start by\ndefining the decomposition of a two-qubit unitary. We choose the\ndecomposition, which is optimal but not unique, from. The Pauli rotation\nsequence is available in PennyLane via `qml.ArbitraryUnitary` and we\nwill not need to implement it ourselves.\n"
      ]
    },
    {
      "cell_type": "code",
      "execution_count": null,
      "metadata": {
        "collapsed": false
      },
      "outputs": [],
      "source": [
        "def two_qubit_decomp(params, wires):\n    \"\"\"Implement an arbitrary SU(4) gate on two qubits\n    using the decomposition from Theorem 5 in\n    https://arxiv.org/pdf/quant-ph/0308006.pdf\"\"\"\n    i, j = wires\n    # Single U(2) parameterization on both qubits separately\n    qml.Rot(*params[:3], wires=i)\n    qml.Rot(*params[3:6], wires=j)\n    qml.CNOT(wires=[j, i])  # First CNOT\n    qml.RZ(params[6], wires=i)\n    qml.RY(params[7], wires=j)\n    qml.CNOT(wires=[i, j])  # Second CNOT\n    qml.RY(params[8], wires=j)\n    qml.CNOT(wires=[j, i])  # Third CNOT\n    # Single U(2) parameterization on both qubits separately\n    qml.Rot(*params[9:12], wires=i)\n    qml.Rot(*params[12:15], wires=j)\n\n\n# The three building blocks on two qubits we will compare are:\noperations = {\n    (\"Decomposition\", \"decomposition\"): two_qubit_decomp,\n    (\"PauliRot sequence\",) * 2: qml.ArbitraryUnitary,\n    (\"$\\mathrm{SU}(N)$ gate\", \"SU(N) gate\"): qml.SpecialUnitary,\n}"
      ]
    },
    {
      "cell_type": "markdown",
      "metadata": {},
      "source": [
        "Now that we have the template for the composition approach in place, we\nconstruct a toy problem to solve using the ans\u00e4tze. We will sample a\nrandom Hamiltonian in the Pauli basis (this time without the prefactor\n$i$, as we want to construct a Hermitian operator) with independent\ncoefficients that follow a normal distribution:\n\n$$H = \\sum_{m=1}^d h_m G_m,\\quad h_m\\sim \\mathcal{N}(0,1).$$\n\nWe will work with six qubits.\n"
      ]
    },
    {
      "cell_type": "code",
      "execution_count": null,
      "metadata": {
        "collapsed": false
      },
      "outputs": [],
      "source": [
        "num_wires = 6\nwires = list(range(num_wires))\nnp.random.seed(62213)\n\ncoefficients = np.random.randn(4**num_wires - 1)\n# Create the matrices for the entire Pauli basis\nbasis = qml.ops.qubit.special_unitary.pauli_basis_matrices(num_wires)\n# Construct the Hamiltonian from the normal random coefficients and the basis\nH_matrix = qml.math.tensordot(coefficients, basis, axes=[[0], [0]])\nH = qml.Hermitian(H_matrix, wires=wires)\n# Compute the ground state energy\nE_min = min(qml.eigvals(H))\nprint(f\"Ground state energy: {E_min:.5f}\")"
      ]
    },
    {
      "cell_type": "markdown",
      "metadata": {},
      "source": [
        "Using the toy problem Hamiltonian and the three ans\u00e4tze for\n$\\mathrm{SU}(N)$ operations from above, we create a circuit template\nthat applies these operations in a brick-layer architecture with two\nblocks and each operation acting on `loc=2` qubits. For this we define a\n`QNode`:\n"
      ]
    },
    {
      "cell_type": "code",
      "execution_count": null,
      "metadata": {
        "collapsed": false
      },
      "outputs": [],
      "source": [
        "loc = 2\nd = loc**4 - 1  # d = 15 for two-qubit operations\ndev = qml.device(\"default.qubit\", wires=num_wires)\n# two blocks with two layers. Each layer contains three operations with d parameters\nparam_shape = (2, 2, 3, d)\ninit_params = np.zeros(param_shape)\n\n\ndef circuit(params, operation=None):\n    \"\"\"Apply an operation in a brickwall-like pattern to a qubit register and measure H.\n    Parameters are assumed to have the dimensions (number of blocks, number of\n    wires per operation, number of operations per layer, and number of parameters\n    per operation), in that order.\n    \"\"\"\n    for params_block in params:\n        for i, params_layer in enumerate(params_block):\n            for j, params_op in enumerate(params_layer):\n                wires_op = [w % num_wires for w in range(loc * j + i, loc * (j + 1) + i)]\n                operation(params_op, wires_op)\n    return qml.expval(H)\n\n\nqnode = qml.QNode(circuit, dev, interface=\"jax\")\nprint(qml.draw(qnode)(init_params, qml.SpecialUnitary))"
      ]
    },
    {
      "cell_type": "markdown",
      "metadata": {},
      "source": [
        "We can now proceed to prepare the optimization task using this circuit\nand an optimization routine of our choice. For simplicity, we run a\nvanilla gradient descent optimization with a fixed learning rate for 500\nsteps. Again, we use JAX\n"
      ]
    },
    {
      "cell_type": "code",
      "execution_count": null,
      "metadata": {
        "collapsed": false
      },
      "outputs": [],
      "source": [
        "# for auto-differentiation.\n\nlearning_rate = 5e-4\nnum_steps = 500\ninit_params = jax.numpy.array(init_params)\ngrad_fn = jax.jit(jax.jacobian(qnode), static_argnums=1)\nqnode = jax.jit(qnode, static_argnums=1)"
      ]
    },
    {
      "cell_type": "markdown",
      "metadata": {},
      "source": [
        "With this configuration, let\\'s run the optimization!\n"
      ]
    },
    {
      "cell_type": "code",
      "execution_count": null,
      "metadata": {
        "collapsed": false
      },
      "outputs": [],
      "source": [
        "energies = {}\nfor (name, print_name), operation in operations.items():\n    print(f\"Running the optimization for the {print_name}\")\n    params = init_params.copy()\n    energy = []\n    for step in range(num_steps):\n        cost = qnode(params, operation)\n        params = params - learning_rate * grad_fn(params, operation)\n        energy.append(cost)  # Store energy value\n        if step % 50 == 0:  # Report current energy\n            print(f\"{step:3d} Steps: {cost:.6f}\")\n\n    energy.append(qnode(params, operation))  # Final energy value\n    energies[name] = energy"
      ]
    },
    {
      "cell_type": "markdown",
      "metadata": {},
      "source": [
        "So, did it work? Judging from the intermediate energy values, it seems\nthat the optimization outcomes differ notably. But let\\'s take a look at\nthe relative error in energy across the optimization process.\n"
      ]
    },
    {
      "cell_type": "code",
      "execution_count": null,
      "metadata": {
        "collapsed": false
      },
      "outputs": [],
      "source": [
        "fig, ax = plt.subplots(1, 1)\nstyles = [\":\", \"--\", \"-\"]\ncolors = [\"#70CEFF\", \"#C756B2\", \"#FFE096\"]\nfor (name, energy), c, ls in zip(energies.items(), colors, styles):\n    error = (energy - E_min) / abs(E_min)\n    ax.plot(list(range(len(error))), error, label=name, c=c, ls=ls, lw=2.5)\n\nax.set(xlabel=\"Iteration\", ylabel=\"Relative error\")\nax.legend()\nplt.show()"
      ]
    },
    {
      "cell_type": "markdown",
      "metadata": {},
      "source": [
        "We find that the optimization indeed performs significantly better for\n`qml.SpecialUnitary` than for the other two general unitaries, while\nusing the same number of parameters and preserving the expressibility of\nthe circuit ansatz. This means that we found a particularly\nwell-trainable parameterization of the local unitaries which allows us\nto reduce the energy of the prepared quantum state more easily while\nmaintaining the number of parameters.\n\nConclusion\n==========\n\nTo summarize, in this tutorial we introduced `qml.SpecialUnitary`, a\nmulti-parameter gate that can act like *any* gate on the qubits it is\napplied to and that is constructed with Lie theory in mind. We discussed\nthree methods of differentiating quantum circuits that use this gate,\nshowing that a new custom parameter-shift rule presented in [^1] is\nparticularly suitable to produce unbiased gradient estimates with the\nlowest variance. Afterwards, we used this differentiation technique when\ncomparing the performance of `qml.SpecialUnitary` to that of other gates\nthat can act like *any* gate locally. For this, we ran a gradient-based\noptimization for a toy model Hamiltonian and found that\n`qml.SpecialUnitary` is particularly well-trainable, achieving lower\nenergies significantly quicker than the other tested gates.\n\nThere are still exciting questions to answer about `qml.SpecialUnitary`:\nHow can the custom parameter-shift rule be used for other gates, and\nwhat does the so-called *Dynamical Lie algebra* of these gates have to\ndo with it? How can we implement the `qml.SpecialUnitary` gate on\nhardware? Is the unitary time evolution implemented by this gate special\nin a physical sense?\n\nThe answers to some, but not all, of these questions can be found\nin[^2]. We are certain that there are many more interesting aspects of\nthis gate to be uncovered! If you want to learn more, consider the other\nliterature references below, as well as the documentation of\n`~pennylane.SpecialUnitary`{.interpreted-text role=\"class\"}.\n\nReferences\n==========\n\nAbout the author\n================\n\n[^1]: R. Wiersema, D. Lewis, D. Wierichs, J. F. Carrasquilla, and N.\n    Killoran. \\\"Here comes the SU(N): multivariate quantum gates and\n    gradients\\\" [arXiv:2303.11355](https://arxiv.org/abs/2303.11355)\n    (2023).\n\n[^2]: R. Wiersema, D. Lewis, D. Wierichs, J. F. Carrasquilla, and N.\n    Killoran. \\\"Here comes the SU(N): multivariate quantum gates and\n    gradients\\\" [arXiv:2303.11355](https://arxiv.org/abs/2303.11355)\n    (2023).\n"
      ]
    }
  ],
  "metadata": {
    "kernelspec": {
      "display_name": "Python 3",
      "language": "python",
      "name": "python3"
    },
    "language_info": {
      "codemirror_mode": {
        "name": "ipython",
        "version": 3
      },
      "file_extension": ".py",
      "mimetype": "text/x-python",
      "name": "python",
      "nbconvert_exporter": "python",
      "pygments_lexer": "ipython3",
      "version": "3.9.16"
    }
  },
  "nbformat": 4,
  "nbformat_minor": 0
}