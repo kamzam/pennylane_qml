{
  "cells": [
    {
      "cell_type": "code",
      "execution_count": null,
      "metadata": {
        "collapsed": false
      },
      "outputs": [],
      "source": [
        "# This cell is added by sphinx-gallery\n# It can be customized to whatever you like\n%matplotlib inline"
      ]
    },
    {
      "cell_type": "markdown",
      "metadata": {},
      "source": [
        "QAOA for MaxCut {#qaoa_maxcut}\n===============\n\n::: {.meta}\n:property=\\\"og:description\\\": Implementing the quantum approximate\noptimization algorithm using PennyLane to solve the MaxCut problem.\n:property=\\\"og:image\\\":\n<https://pennylane.ai/qml/_images/qaoa_maxcut_partition.png>\n:::\n\n::: {.related}\ntutorial\\_qaoa\\_intro Intro to QAOA\n:::\n\n*Author: Angus Lowe --- Posted: 11 October 2019. Last updated: 13 April\n2021.*\n"
      ]
    },
    {
      "cell_type": "markdown",
      "metadata": {},
      "source": [
        "In this tutorial we implement the quantum approximate optimization\nalgorithm (QAOA) for the MaxCut problem as proposed by [Farhi,\nGoldstone, and Gutmann (2014)](https://arxiv.org/abs/1411.4028). First,\nwe give an overview of the MaxCut problem using a simple example, a\ngraph with 4 vertices and 4 edges. We then show how to find the maximum\ncut by running the QAOA algorithm using PennyLane.\n\nBackground\n==========\n\nThe MaxCut problem\n------------------\n\nThe aim of MaxCut is to maximize the number of edges (yellow lines) in a\ngraph that are \\\"cut\\\" by a given partition of the vertices (blue\ncircles) into two sets (see figure below).\n\n![](../demonstrations/qaoa_maxcut/qaoa_maxcut_partition.png){.align-center}\n\n| \n\nConsider a graph with $m$ edges and $n$ vertices. We seek the partition\n$z$ of the vertices into two sets $A$ and $B$ which maximizes\n\n$$C(z) = \\sum_{\\alpha=1}^{m}C_\\alpha(z),$$\n\nwhere $C$ counts the number of edges cut. $C_\\alpha(z)=1$ if $z$ places\none vertex from the $\\alpha^\\text{th}$ edge in set $A$ and the other in\nset $B$, and $C_\\alpha(z)=0$ otherwise. Finding a cut which yields the\nmaximum possible value of $C$ is an NP-complete problem, so our best\nhope for a polynomial-time algorithm lies in an approximate\noptimization. In the case of MaxCut, this means finding a partition $z$\nwhich yields a value for $C(z)$ that is close to the maximum possible\nvalue.\n\nWe can represent the assignment of vertices to set $A$ or $B$ using a\nbitstring, $z=z_1...z_n$ where $z_i=0$ if the $i^\\text{th}$ vertex is in\n$A$ and $z_i = 1$ if it is in $B$. For instance, in the situation\ndepicted in the figure above the bitstring representation is\n$z=0101\\text{,}$ indicating that the $0^{\\text{th}}$ and $2^{\\text{nd}}$\nvertices are in $A$ while the $1^{\\text{st}}$ and $3^{\\text{rd}}$ are in\n$B$. This assignment yields a value for the objective function (the\nnumber of yellow lines cut) $C=4$, which turns out to be the maximum\ncut. In the following sections, we will represent partitions using\ncomputational basis states and use PennyLane to rediscover this maximum\ncut.\n\n::: {.note}\n::: {.title}\nNote\n:::\n\nIn the graph above, $z=1010$ could equally well serve as the maximum\ncut.\n:::\n\nA circuit for QAOA\n------------------\n\nThis section describes implementing a circuit for QAOA using basic\nunitary gates to find approximate solutions to the MaxCut problem.\nFirstly, denoting the partitions using computational basis states\n$|z\\rangle$, we can represent the terms in the objective function as\noperators acting on these states\n\n$$C_\\alpha = \\frac{1}{2}\\left(1-\\sigma_{z}^j\\sigma_{z}^k\\right),$$\n\nwhere the $\\alpha\\text{th}$ edge is between vertices $(j,k)$. $C_\\alpha$\nhas eigenvalue 1 if and only if the $j\\text{th}$ and $k\\text{th}$ qubits\nhave different z-axis measurement values, representing separate\npartitions. The objective function $C$ can be considered a diagonal\noperator with integer eigenvalues.\n\nQAOA starts with a uniform superposition over the $n$ bitstring basis\nstates,\n\n$$|+_{n}\\rangle = \\frac{1}{\\sqrt{2^n}}\\sum_{z\\in \\{0,1\\}^n} |z\\rangle.$$\n\nWe aim to explore the space of bitstring states for a superposition\nwhich is likely to yield a large value for the $C$ operator upon\nperforming a measurement in the computational basis. Using the $2p$\nangle parameters $\\boldsymbol{\\gamma} = \\gamma_1\\gamma_2...\\gamma_p$,\n$\\boldsymbol{\\beta} = \\beta_1\\beta_2...\\beta_p$ we perform a sequence of\noperations on our initial state:\n\n$$|\\boldsymbol{\\gamma},\\boldsymbol{\\beta}\\rangle = U_{B_p}U_{C_p}U_{B_{p-1}}U_{C_{p-1}}...U_{B_1}U_{C_1}|+_n\\rangle$$\n\nwhere the operators have the explicit forms\n\n$$\\begin{aligned}\nU_{B_l} &= e^{-i\\beta_lB} = \\prod_{j=1}^n e^{-i\\beta_l\\sigma_x^j}, \\\\\nU_{C_l} &= e^{-i\\gamma_lC} = \\prod_{\\text{edge (j,k)}} e^{-i\\gamma_l(1-\\sigma_z^j\\sigma_z^k)/2}.\n\\end{aligned}$$\n\nIn other words, we make $p$ layers of parametrized $U_bU_C$ gates. These\ncan be implemented on a quantum circuit using the gates depicted below,\nup to an irrelevant constant that gets absorbed into the parameters.\n\n![](../demonstrations/qaoa_maxcut/qaoa_operators.png){.align-center}\n\n| \n\nLet $\\langle \\boldsymbol{\\gamma},\n\\boldsymbol{\\beta} | C | \\boldsymbol{\\gamma},\\boldsymbol{\\beta} \\rangle$\nbe the expectation of the objective operator. In the next section, we\nwill use PennyLane to perform classical optimization over the circuit\nparameters $(\\boldsymbol{\\gamma}, \\boldsymbol{\\beta})$. This will\nspecify a state $|\\boldsymbol{\\gamma},\\boldsymbol{\\beta}\\rangle$ which\nis likely to yield an approximately optimal partition $|z\\rangle$ upon\nperforming a measurement in the computational basis. In the case of the\ngraph shown above, we want to measure either 0101 or 1010 from our state\nsince these correspond to the optimal partitions.\n\n![](../demonstrations/qaoa_maxcut/qaoa_optimal_state.png){.align-center}\n\n| \n\nQualitatively, QAOA tries to evolve the initial state into the plane of\nthe $|0101\\rangle$, $|1010\\rangle$ basis states (see figure above).\n\nImplementing QAOA in PennyLane\n==============================\n\nImports and setup\n-----------------\n\nTo get started, we import PennyLane along with the PennyLane-provided\nversion of NumPy.\n"
      ]
    },
    {
      "cell_type": "code",
      "execution_count": null,
      "metadata": {
        "collapsed": false
      },
      "outputs": [],
      "source": [
        "import pennylane as qml\nfrom pennylane import numpy as np\n\nnp.random.seed(42)"
      ]
    },
    {
      "cell_type": "markdown",
      "metadata": {},
      "source": [
        "Operators\n=========\n\nWe specify the number of qubits (vertices) with `n_wires` and compose\nthe unitary operators using the definitions above. $U_B$ operators act\non individual wires, while $U_C$ operators act on wires whose\ncorresponding vertices are joined by an edge in the graph. We also\ndefine the graph using the list `graph`, which contains the tuples of\nvertices defining each edge in the graph.\n"
      ]
    },
    {
      "cell_type": "code",
      "execution_count": null,
      "metadata": {
        "collapsed": false
      },
      "outputs": [],
      "source": [
        "n_wires = 4\ngraph = [(0, 1), (0, 3), (1, 2), (2, 3)]\n\n# unitary operator U_B with parameter beta\ndef U_B(beta):\n    for wire in range(n_wires):\n        qml.RX(2 * beta, wires=wire)\n\n\n# unitary operator U_C with parameter gamma\ndef U_C(gamma):\n    for edge in graph:\n        wire1 = edge[0]\n        wire2 = edge[1]\n        qml.CNOT(wires=[wire1, wire2])\n        qml.RZ(gamma, wires=wire2)\n        qml.CNOT(wires=[wire1, wire2])"
      ]
    },
    {
      "cell_type": "markdown",
      "metadata": {},
      "source": [
        "We will need a way to convert a bitstring, representing a sample of\nmultiple qubits in the computational basis, to integer or base-10 form.\n"
      ]
    },
    {
      "cell_type": "code",
      "execution_count": null,
      "metadata": {
        "collapsed": false
      },
      "outputs": [],
      "source": [
        "def bitstring_to_int(bit_string_sample):\n    bit_string = \"\".join(str(bs) for bs in bit_string_sample)\n    return int(bit_string, base=2)"
      ]
    },
    {
      "cell_type": "markdown",
      "metadata": {},
      "source": [
        "Circuit\n=======\n\nNext, we create a quantum device with 4 qubits.\n"
      ]
    },
    {
      "cell_type": "code",
      "execution_count": null,
      "metadata": {
        "collapsed": false
      },
      "outputs": [],
      "source": [
        "dev = qml.device(\"default.qubit\", wires=n_wires, shots=1)"
      ]
    },
    {
      "cell_type": "markdown",
      "metadata": {},
      "source": [
        "We also require a quantum node which will apply the operators according\nto the angle parameters, and return the expectation value of the\nobservable $\\sigma_z^{j}\\sigma_z^{k}$ to be used in each term of the\nobjective function later on. The argument `edge` specifies the chosen\nedge term in the objective function, $(j,k)$. Once optimized, the same\nquantum node can be used for sampling an approximately optimal bitstring\nif executed with the `edge` keyword set to `None`. Additionally, we\nspecify the number of layers (repeated applications of $U_BU_C$) using\nthe keyword `n_layers`.\n"
      ]
    },
    {
      "cell_type": "code",
      "execution_count": null,
      "metadata": {
        "collapsed": false
      },
      "outputs": [],
      "source": [
        "@qml.qnode(dev)\ndef circuit(gammas, betas, edge=None, n_layers=1):\n    # apply Hadamards to get the n qubit |+> state\n    for wire in range(n_wires):\n        qml.Hadamard(wires=wire)\n    # p instances of unitary operators\n    for i in range(n_layers):\n        U_C(gammas[i])\n        U_B(betas[i])\n    if edge is None:\n        # measurement phase\n        return qml.sample()\n    # during the optimization phase we are evaluating a term\n    # in the objective using expval\n    H = qml.PauliZ(edge[0]) @ qml.PauliZ(edge[1])\n    return qml.expval(H)"
      ]
    },
    {
      "cell_type": "markdown",
      "metadata": {},
      "source": [
        "Optimization\n============\n\nFinally, we optimize the objective over the angle parameters\n$\\boldsymbol{\\gamma}$ (`params[0]`) and $\\boldsymbol{\\beta}$\n(`params[1]`) and then sample the optimized circuit multiple times to\nyield a distribution of bitstrings. One of the optimal partitions\n($z=0101$ or $z=1010$) should be the most frequently sampled bitstring.\nWe perform a maximization of $C$ by minimizing $-C$, following the\nconvention that optimizations are cast as minimizations in PennyLane.\n"
      ]
    },
    {
      "cell_type": "code",
      "execution_count": null,
      "metadata": {
        "collapsed": false
      },
      "outputs": [],
      "source": [
        "def qaoa_maxcut(n_layers=1):\n    print(\"\\np={:d}\".format(n_layers))\n\n    # initialize the parameters near zero\n    init_params = 0.01 * np.random.rand(2, n_layers, requires_grad=True)\n\n    # minimize the negative of the objective function\n    def objective(params):\n        gammas = params[0]\n        betas = params[1]\n        neg_obj = 0\n        for edge in graph:\n            # objective for the MaxCut problem\n            neg_obj -= 0.5 * (1 - circuit(gammas, betas, edge=edge, n_layers=n_layers))\n        return neg_obj\n\n    # initialize optimizer: Adagrad works well empirically\n    opt = qml.AdagradOptimizer(stepsize=0.5)\n\n    # optimize parameters in objective\n    params = init_params\n    steps = 30\n    for i in range(steps):\n        params = opt.step(objective, params)\n        if (i + 1) % 5 == 0:\n            print(\"Objective after step {:5d}: {: .7f}\".format(i + 1, -objective(params)))\n\n    # sample measured bitstrings 100 times\n    bit_strings = []\n    n_samples = 100\n    for i in range(0, n_samples):\n        bit_strings.append(bitstring_to_int(circuit(params[0], params[1], edge=None, n_layers=n_layers)))\n\n    # print optimal parameters and most frequently sampled bitstring\n    counts = np.bincount(np.array(bit_strings))\n    most_freq_bit_string = np.argmax(counts)\n    print(\"Optimized (gamma, beta) vectors:\\n{}\".format(params[:, :n_layers]))\n    print(\"Most frequently sampled bit string is: {:04b}\".format(most_freq_bit_string))\n\n    return -objective(params), bit_strings\n\n\n# perform qaoa on our graph with p=1,2 and\n# keep the bitstring sample lists\nbitstrings1 = qaoa_maxcut(n_layers=1)[1]\nbitstrings2 = qaoa_maxcut(n_layers=2)[1]"
      ]
    },
    {
      "cell_type": "markdown",
      "metadata": {},
      "source": [
        "In the case where we set `n_layers=2`, we recover the optimal objective\nfunction $C=4$\n"
      ]
    },
    {
      "cell_type": "markdown",
      "metadata": {},
      "source": [
        "Plotting the results\n====================\n\nWe can plot the distribution of measurements obtained from the optimized\ncircuits. As expected for this graph, the partitions 0101 and 1010 are\nmeasured with the highest frequencies, and in the case where we set\n`n_layers=2` we obtain one of the optimal partitions with 100%\ncertainty.\n"
      ]
    },
    {
      "cell_type": "code",
      "execution_count": null,
      "metadata": {
        "collapsed": false
      },
      "outputs": [],
      "source": [
        "import matplotlib.pyplot as plt\n\nxticks = range(0, 16)\nxtick_labels = list(map(lambda x: format(x, \"04b\"), xticks))\nbins = np.arange(0, 17) - 0.5\n\nfig, (ax1, ax2) = plt.subplots(1, 2, figsize=(8, 4))\nplt.subplot(1, 2, 1)\nplt.title(\"n_layers=1\")\nplt.xlabel(\"bitstrings\")\nplt.ylabel(\"freq.\")\nplt.xticks(xticks, xtick_labels, rotation=\"vertical\")\nplt.hist(bitstrings1, bins=bins)\nplt.subplot(1, 2, 2)\nplt.title(\"n_layers=2\")\nplt.xlabel(\"bitstrings\")\nplt.ylabel(\"freq.\")\nplt.xticks(xticks, xtick_labels, rotation=\"vertical\")\nplt.hist(bitstrings2, bins=bins)\nplt.tight_layout()\nplt.show()"
      ]
    },
    {
      "cell_type": "markdown",
      "metadata": {},
      "source": [
        "About the author\n================\n"
      ]
    }
  ],
  "metadata": {
    "kernelspec": {
      "display_name": "Python 3",
      "language": "python",
      "name": "python3"
    },
    "language_info": {
      "codemirror_mode": {
        "name": "ipython",
        "version": 3
      },
      "file_extension": ".py",
      "mimetype": "text/x-python",
      "name": "python",
      "nbconvert_exporter": "python",
      "pygments_lexer": "ipython3",
      "version": "3.9.16"
    }
  },
  "nbformat": 4,
  "nbformat_minor": 0
}