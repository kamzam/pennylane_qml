{
  "cells": [
    {
      "cell_type": "code",
      "execution_count": null,
      "metadata": {
        "collapsed": false
      },
      "outputs": [],
      "source": [
        "# This cell is added by sphinx-gallery\n# It can be customized to whatever you like\n%matplotlib inline"
      ]
    },
    {
      "cell_type": "markdown",
      "metadata": {},
      "source": [
        "Variationally optimizing measurement protocols\n==============================================\n\n::: {.meta}\n:property=\\\"og:description\\\": Using a variational quantum algorithm to\noptimize a quantum sensing protocol. :property=\\\"og:image\\\":\n<https://pennylane.ai/qml/_images/illustration1.png>\n:::\n\n::: {.related}\ntutorial\\_noisy\\_circuit\\_optimization Optimizing noisy circuits with\nCirq\n:::\n\n*Author: Johannes Jakob Meyer --- Posted: 18 June 2020. Last updated: 18\nNovember 2021.*\n\nIn this tutorial we use the variational quantum algorithm from Ref. to\noptimize a quantum sensing protocol.\n\nBackground\n----------\n\nQuantum technologies are a rapidly expanding field with applications\nranging from quantum computers to quantum communication lines. In this\ntutorial, we study a particular application of quantum technologies,\nnamely *Quantum Metrology*. It exploits quantum effects to enhance the\nprecision of measurements. One of the most impressive examples of a\nsuccessful application of quantum metrology is gravitational wave\ninterferometers like [LIGO](https://en.wikipedia.org/wiki/LIGO) that\nharness non-classical light to increase the sensitivity to passing\ngravitational waves.\n\nA quantum metrological experiment, which we call a *protocol*, can be\nmodelled in the following way. As a first step, a quantum state $\\rho_0$\nis prepared. This state then undergoes a possibly noisy quantum\nevolution that depends on a vector of parameters $\\boldsymbol{\\phi}$ we\nare interested in---we say the quantum evolution *encodes* the\nparameters. The values $\\boldsymbol{\\phi}$ can for example be a set of\nphases that are picked up in an interferometer. As we use the quantum\nstate to *probe* the encoding evolution, we will call it the *probe\nstate*.\n\nAfter the parameters are encoded, we have a new state\n$\\rho(\\boldsymbol{\\phi})$ which we then need to measure. We can describe\nany possible measurement in quantum mechanics using a [positive\noperator-valued measurement](https://en.wikipedia.org/wiki/POVM)\nconsisting of a set of operators $\\{ \\Pi_l \\}$. Measuring those\noperators gives us the output probabilities\n\n$$p_l(\\boldsymbol{\\phi}) = \\langle \\Pi_l \\rangle =\n\\operatorname{Tr}(\\rho(\\boldsymbol{\\phi}) \\Pi_l).$$\n\nAs the last step of our protocol, we have to estimate the parameters\n$\\boldsymbol{\\phi}$ from these probabilities, e.g., through [maximum\nlikelihood\nestimation](https://en.wikipedia.org/wiki/Maximum_likelihood_estimation).\nIntuitively, we will get the best precision in doing so if the probe\nstate is most \\\"susceptible\\\" to the encoding evolution and the\ncorresponding measurement can distinguish the states for different\nvalues of $\\boldsymbol{\\phi}$ well.\n\nThe variational algorithm\n-------------------------\n\nWe now introduce a variational algorithm to optimize such a sensing\nprotocol. As a first step, we parametrize both the probe state\n$\\rho_0 = \\rho_0(\\boldsymbol{\\theta})$ and the POVM\n$\\Pi_l = \\Pi_l(\\boldsymbol{\\mu})$ using suitable quantum circuits with\nparameters $\\boldsymbol{\\theta}$ and $\\boldsymbol{\\mu}$ respectively.\nThe parameters should now be adjusted in a way that improves the sensing\nprotocol, and to quantify this, we need a suitable *cost function*.\n\nLuckily, there exists a mathematical tool to quantify the best\nachievable estimation precision, the *Cram\u00e9r-Rao bound*. Any estimator\n$\\mathbb{E}(\\hat{\\boldsymbol{\\varphi}}) = \\boldsymbol{\\phi}$ we could\nconstruct fulfills the following condition on its covariance matrix\nwhich gives a measure of the precision of the estimation:\n\n$$\\operatorname{Cov}(\\hat{\\boldsymbol{\\varphi}}) \\geq \\frac{1}{n} I^{-1}_{\\boldsymbol{\\phi}},$$\n\nwhere $n$ is the number of samples and $I_{\\boldsymbol{\\phi}}$ is the\n*Classical Fisher Information Matrix* with respect to the entries of\n$\\boldsymbol{\\phi}$. It is defined as\n\n$$[I_{\\boldsymbol{\\phi}}]_{jk} := \\sum_l \\frac{(\\partial_j p_l)(\\partial_k p_l)}{p_l},$$\n\nwhere we used $\\partial_j$ as a shorthand notation for\n$\\frac{\\partial}{\\partial \\phi_j}$. The Cram\u00e9r-Rao bound has the very\npowerful property that it can always be saturated in the limit of many\nsamples! This means we are guaranteed that we can construct a \\\"best\nestimator\\\" for the vector of parameters.\n\nThis in turn means that the right hand side of the Cram\u00e9r-Rao bound\nwould make for a great cost function. There is only one remaining\nproblem, namely that it is matrix-valued, but we need a scalar cost\nfunction. To obtain such a scalar quantity, we multiply both sides of\nthe inequality with a positive-semidefinite weighting matrix $W$ and\nthen perform a trace,\n\n$$\\operatorname{Tr}(W\\operatorname{Cov}(\\hat{\\boldsymbol{\\varphi}})) \\geq \\frac{1}{n} \\operatorname{Tr}(W I^{-1}_{\\boldsymbol{\\phi}}).$$\n\nAs its name suggests, $W$ can be used to weight the importance of the\ndifferent entries of $\\boldsymbol{\\phi}$. The right-hand side is now a\nscalar quantifying the best attainable weighted precision and can be\nreadily used as a cost function:\n\n$$C_W(\\boldsymbol{\\theta}, \\boldsymbol{\\mu}) = \\operatorname{Tr}(W I^{-1}_{\\boldsymbol{\\phi}}(\\boldsymbol{\\theta}, \\boldsymbol{\\mu})).$$\n\nWith the cost function in place, we can use Pennylane to optimize the\nvariational parameters $\\boldsymbol{\\theta}$ and $\\boldsymbol{\\mu}$ to\nobtain a good sensing protocol. The whole pipeline is depicted below:\n\n![](../demonstrations/quantum_metrology/illustration.png){.align-center\nwidth=\"50.0%\"}\n\nHere, the encoding process is modeled as a unitary evolution\n$U(\\boldsymbol{\\phi})$ followed by a parameter-independent noise channel\n$\\mathcal{N}$.\n\nRamsey spectroscopy\n-------------------\n\nIn this demonstration, we will study Ramsey spectroscopy, a widely used\ntechnique for quantum metrology with atoms and ions. The encoded\nparameters are phase shifts $\\boldsymbol{\\phi}$ arising from the\ninteraction of probe ions modeled as two-level systems with an external\ndriving force. We represent the noise in the parameter encoding using a\nphase damping channel (also known as dephasing channel) with damping\nconstant $\\gamma$. We consider a pure probe state on three qubits and a\nprojective measurement, where the computational basis is parametrized by\nlocal unitaries.\n\nThe above method is actually not limited to the estimation of the\nparameters $\\boldsymbol{\\phi}$, but can also be used to optimize\nestimators for functions of those parameters! To add this interesting\naspect to the tutorial, we will seek an optimal protocol for the\nestimation of the *Fourier amplitudes* of the phases:\n\n$$f_j(\\boldsymbol{\\boldsymbol{\\phi}}) = \\left|\\sum_k \\phi_k \\mathrm{e}^{-i j k \\frac{2\\pi}{N}}\\right|^2.$$\n\nFor three phases, there are two independent amplitudes $f_0$ and $f_1$.\nTo include the effect of the function, we need to replace the classical\nFisher information matrix with respect to $\\boldsymbol{\\phi}$ with the\nFisher information matrix with respect to the entries $f_0$ and $f_1$.\nTo this end we can make use of the following identity which relates the\ntwo matrices:\n\n$$I_{\\boldsymbol{f}} = J^T I_{\\boldsymbol{\\phi}} J,$$\n\nwhere $J_{kl} = \\frac{\\partial f_k}{\\partial \\phi_l}$ is the Jacobian of\n$\\boldsymbol{f}$.\n\nWe now turn to the actual implementation of the scheme.\n"
      ]
    },
    {
      "cell_type": "code",
      "execution_count": null,
      "metadata": {
        "collapsed": false
      },
      "outputs": [],
      "source": [
        "import pennylane as qml\nfrom pennylane import numpy as np"
      ]
    },
    {
      "cell_type": "markdown",
      "metadata": {},
      "source": [
        "Modeling the sensing process\n============================\n\nWe will first specify the device to carry out the simulations. As we\nwant to model a noisy system, it needs to be capable of mixed-state\nsimulations. We will choose the `cirq.mixedsimulator` device from the\n[Pennylane-Cirq](https://pennylane-cirq.readthedocs.io/en/latest/)\nplugin for this tutorial.\n"
      ]
    },
    {
      "cell_type": "code",
      "execution_count": null,
      "metadata": {
        "collapsed": false
      },
      "outputs": [],
      "source": [
        "dev = qml.device(\"cirq.mixedsimulator\", wires=3, shots=1000)"
      ]
    },
    {
      "cell_type": "markdown",
      "metadata": {},
      "source": [
        "Next, we model the parameter encoding. The phase shifts are recreated\nusing the Pauli Z rotation gate. The phase-damping noise channel is\navailable as a custom Cirq gate.\n"
      ]
    },
    {
      "cell_type": "code",
      "execution_count": null,
      "metadata": {
        "collapsed": false
      },
      "outputs": [],
      "source": [
        "from pennylane_cirq import ops as cirq_ops\n\n\ndef encoding(phi, gamma):\n    for i in range(3):\n        qml.RZ(phi[i], wires=[i])\n        cirq_ops.PhaseDamp(gamma, wires=[i])"
      ]
    },
    {
      "cell_type": "markdown",
      "metadata": {},
      "source": [
        "We now choose a parametrization for both the probe state and the POVM.\nTo be able to parametrize all possible probe states and all local\nmeasurements, we make use of the\n[ArbitraryStatePreparation](https://pennylane.readthedocs.io/en/stable/code/api/pennylane.templates.state_preparations.ArbitraryStatePreparation.html)\ntemplate from PennyLane.\n"
      ]
    },
    {
      "cell_type": "code",
      "execution_count": null,
      "metadata": {
        "collapsed": false
      },
      "outputs": [],
      "source": [
        "def ansatz(weights):\n    qml.ArbitraryStatePreparation(weights, wires=[0, 1, 2])\n\nNUM_ANSATZ_PARAMETERS = 14\n\ndef measurement(weights):\n    for i in range(3):\n        qml.ArbitraryStatePreparation(\n            weights[2 * i : 2 * (i + 1)], wires=[i]\n        )\n\nNUM_MEASUREMENT_PARAMETERS = 6"
      ]
    },
    {
      "cell_type": "markdown",
      "metadata": {},
      "source": [
        "We now have everything at hand to model the quantum part of our\nexperiment as a QNode. We will return the output probabilities necessary\nto compute the Classical Fisher Information Matrix.\n"
      ]
    },
    {
      "cell_type": "code",
      "execution_count": null,
      "metadata": {
        "collapsed": false
      },
      "outputs": [],
      "source": [
        "@qml.qnode(dev)\ndef experiment(weights, phi, gamma=0.0):\n    ansatz(weights[:NUM_ANSATZ_PARAMETERS])\n    encoding(phi, gamma)\n    measurement(weights[NUM_ANSATZ_PARAMETERS:])\n\n    return qml.probs(wires=[0, 1, 2])\n\n# Draw the circuit at the given parameter values\nprint(qml.draw(experiment, expansion_strategy='device')(\n    np.arange(NUM_ANSATZ_PARAMETERS + NUM_MEASUREMENT_PARAMETERS),\n    np.zeros(3),\n    gamma=0.2)\n)"
      ]
    },
    {
      "cell_type": "markdown",
      "metadata": {},
      "source": [
        "Evaluating the cost function\n============================\n\nNow, let\\'s turn to the cost function itself. The most important\ningredient is the Classical Fisher Information Matrix, which we compute\nusing a separate function that uses the explicit [parameter-shift\nrule](https://pennylane.ai/qml/glossary/parameter_shift.html) to enable\ndifferentiation.\n"
      ]
    },
    {
      "cell_type": "code",
      "execution_count": null,
      "metadata": {
        "collapsed": false
      },
      "outputs": [],
      "source": [
        "def CFIM(weights, phi, gamma):\n    p = experiment(weights, phi, gamma=gamma)\n    dp = []\n\n    for idx in range(3):\n        # We use the parameter-shift rule explicitly\n        # to compute the derivatives\n        shift = np.zeros_like(phi)\n        shift[idx] = np.pi / 2\n\n        plus = experiment(weights, phi + shift, gamma=gamma)\n        minus = experiment(weights, phi - shift, gamma=gamma)\n\n        dp.append(0.5 * (plus - minus))\n\n    matrix = [0] * 9\n    for i in range(3):\n        for j in range(3):\n            matrix[3 * i + j] = np.sum(dp[i] * dp[j] / p)\n\n    return np.array(matrix).reshape((3, 3))"
      ]
    },
    {
      "cell_type": "markdown",
      "metadata": {},
      "source": [
        "As the cost function contains an inversion, we add a small\nregularization to it to avoid inverting a singular matrix. As additional\nparameters, we add the weighting matrix $W$ and the Jacobian $J$.\n"
      ]
    },
    {
      "cell_type": "code",
      "execution_count": null,
      "metadata": {
        "collapsed": false
      },
      "outputs": [],
      "source": [
        "def cost(weights, phi, gamma, J, W, epsilon=1e-10):\n    return np.trace(\n        W\n        @ np.linalg.inv(\n            J.T @ CFIM(weights, phi, gamma) @ J + np.eye(2) * epsilon\n        )\n    )"
      ]
    },
    {
      "cell_type": "markdown",
      "metadata": {},
      "source": [
        "To compute the Jacobian, we make use of\n[sympy](https://docs.sympy.org/latest/index.html). The two independent\nFourier amplitudes are computed using the [discrete Fourier transform\nmatrix](https://en.wikipedia.org/wiki/DFT_matrix)\n$\\Omega_{jk} = \\frac{\\omega^{jk}}{\\sqrt{N}}$ with\n$\\omega = \\exp(-i \\frac{2\\pi}{N})$.\n"
      ]
    },
    {
      "cell_type": "code",
      "execution_count": null,
      "metadata": {
        "collapsed": false
      },
      "outputs": [],
      "source": [
        "import sympy\nimport cmath\n\n# Prepare symbolic variables\nx, y, z = sympy.symbols(\"x y z\", real=True)\nphi = sympy.Matrix([x, y, z])\n\n# Construct discrete Fourier transform matrix\nomega = sympy.exp((-1j * 2.0 * cmath.pi) / 3)\nOmega = sympy.Matrix([[1, 1, 1], [1, omega ** 1, omega ** 2]]) / sympy.sqrt(3)\n\n# Compute Jacobian\njacobian = (\n    sympy.Matrix(list(map(lambda x: abs(x) ** 2, Omega @ phi))).jacobian(phi).T\n)\n# Lambdify converts the symbolic expression to a python function\njacobian = sympy.lambdify((x, y, z), sympy.re(jacobian))"
      ]
    },
    {
      "cell_type": "markdown",
      "metadata": {},
      "source": [
        "Optimizing the protocol\n=======================\n\nWe can now turn to the optimization of the protocol. We will fix the\ndephasing constant at $\\gamma=0.2$ and the ground truth of the sensing\nparameters at $\\boldsymbol{\\phi} = (1.1, 0.7, -0.6)$ and use an equal\nweighting of the two Fourier amplitudes, corresponding to\n$W = \\mathbb{I}_2$.\n"
      ]
    },
    {
      "cell_type": "code",
      "execution_count": null,
      "metadata": {
        "collapsed": false
      },
      "outputs": [],
      "source": [
        "gamma = 0.2\nphi = np.array([1.1, 0.7, -0.6])\nJ = jacobian(*phi)\nW = np.eye(2)"
      ]
    },
    {
      "cell_type": "markdown",
      "metadata": {},
      "source": [
        "We are now ready to perform the optimization. We will initialize the\nweights at random. Then we make use of the\n[Adagrad](https://pennylane.readthedocs.io/en/stable/introduction/optimizers.html)\noptimizer. Adaptive gradient descent methods are advantageous as the\noptimization of quantum sensing protocols is very sensitive to the step\nsize.\n"
      ]
    },
    {
      "cell_type": "code",
      "execution_count": null,
      "metadata": {
        "collapsed": false
      },
      "outputs": [],
      "source": [
        "def opt_cost(weights, phi=phi, gamma=gamma, J=J, W=W):\n    return cost(weights, phi, gamma, J, W)\n\n\n# Seed for reproducible results\nnp.random.seed(395)\nweights = np.random.uniform(\n    0, 2 * np.pi, NUM_ANSATZ_PARAMETERS + NUM_MEASUREMENT_PARAMETERS, requires_grad=True\n)\n\nopt = qml.AdagradOptimizer(stepsize=0.1)\n\nprint(\"Initialization: Cost = {:6.4f}\".format(opt_cost(weights)))\nfor i in range(20):\n    weights, cost_ = opt.step_and_cost(opt_cost, weights)\n\n    if (i + 1) % 5 == 0:\n        print(\n            \"Iteration {:>4}: Cost = {:6.4f}\".format(i + 1, cost_)\n        )"
      ]
    },
    {
      "cell_type": "markdown",
      "metadata": {},
      "source": [
        "Comparison with the standard protocol\n=====================================\n\nNow we want to see how our protocol compares to the standard Ramsey\ninterferometry protocol. The probe state in this case is a tensor\nproduct of three separate $|+\\rangle$ states while the encoded state is\nmeasured in the $|+\\rangle / |-\\rangle$ basis. We can recreate the\nstandard schemes with specific weights for our setup.\n"
      ]
    },
    {
      "cell_type": "code",
      "execution_count": null,
      "metadata": {
        "collapsed": false
      },
      "outputs": [],
      "source": [
        "Ramsey_weights = np.zeros_like(weights)\nRamsey_weights[1:6:2] = np.pi / 2\nRamsey_weights[15:20:2] = np.pi / 2\nprint(\n    \"Cost for standard Ramsey sensing = {:6.4f}\".format(\n        opt_cost(Ramsey_weights)\n    )\n)"
      ]
    },
    {
      "cell_type": "markdown",
      "metadata": {},
      "source": [
        "We can now make a plot to compare the noise scaling of the above probes.\n"
      ]
    },
    {
      "cell_type": "code",
      "execution_count": null,
      "metadata": {
        "collapsed": false
      },
      "outputs": [],
      "source": [
        "gammas = np.linspace(0, 0.75, 21)\ncomparison_costs = {\n    \"optimized\": [],\n    \"standard\": [],\n}\n\nfor gamma in gammas:\n    comparison_costs[\"optimized\"].append(\n        cost(weights, phi, gamma, J, W)\n    )\n    comparison_costs[\"standard\"].append(\n        cost(Ramsey_weights, phi, gamma, J, W)\n    )\n\nimport matplotlib.pyplot as plt\n\nplt.semilogy(gammas, comparison_costs[\"optimized\"], label=\"Optimized\")\nplt.semilogy(gammas, comparison_costs[\"standard\"], label=\"Standard\")\nplt.xlabel(r\"$\\gamma$\")\nplt.ylabel(\"Weighted Cram\u00e9r-Rao bound\")\nplt.legend()\nplt.grid()\nplt.show()"
      ]
    },
    {
      "cell_type": "markdown",
      "metadata": {},
      "source": [
        "We see that after only 20 gradient steps, we already found a sensing\nprotocol that has a better noise resilience than standard Ramsey\nspectroscopy!\n\nThis tutorial shows that variational methods are useful for quantum\nmetrology. The are numerous avenues open for further research: one could\nstudy more intricate sensing problems, different noise models, and other\nplatforms like optical systems.\n\nFor more intricate noise models that can\\'t be realized on quantum\nhardware, Ref. offers a way to move certain parts of the algorithm to\nthe classical side. It also provides extensions of the method to include\nprior knowledge about the distribution of the underlying parameters or\nto factor in mutual time-dependence of parameters and encoding noise.\n"
      ]
    },
    {
      "cell_type": "markdown",
      "metadata": {},
      "source": [
        "References\n==========\n\nAbout the author\n================\n"
      ]
    }
  ],
  "metadata": {
    "kernelspec": {
      "display_name": "Python 3",
      "language": "python",
      "name": "python3"
    },
    "language_info": {
      "codemirror_mode": {
        "name": "ipython",
        "version": 3
      },
      "file_extension": ".py",
      "mimetype": "text/x-python",
      "name": "python",
      "nbconvert_exporter": "python",
      "pygments_lexer": "ipython3",
      "version": "3.9.16"
    }
  },
  "nbformat": 4,
  "nbformat_minor": 0
}