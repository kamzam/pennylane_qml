{
  "cells": [
    {
      "cell_type": "code",
      "execution_count": null,
      "metadata": {
        "collapsed": false
      },
      "outputs": [],
      "source": [
        "# This cell is added by sphinx-gallery\n# It can be customized to whatever you like\n%matplotlib inline"
      ]
    },
    {
      "cell_type": "markdown",
      "metadata": {},
      "source": [
        "Quantum circuit structure learning {#rotoselect}\n==================================\n\n::: {.meta}\n:property=\\\"og:description\\\": Applying the Rotoselect optimization\nalgorithm to find the minimum in a variational quantum algorithm.\n:property=\\\"og:image\\\":\n<https://pennylane.ai/qml/_images/rotoselect_structure.png>\n:::\n\n::: {.related}\ntutorial\\_vqe A brief overview of VQE tutorial\\_vqe\\_qng Accelerating\nVQEs with quantum natural gradient tutorial\\_rosalin Frugal shot\noptimization with Rosalin\n:::\n\n*Author: Angus Lowe --- Posted: 16 October 2019. Last updated: 20\nJanuary 2021.*\n"
      ]
    },
    {
      "cell_type": "markdown",
      "metadata": {},
      "source": [
        "This example shows how to learn a good selection of rotation gates so as\nto minimize a cost function using the Rotoselect algorithm of\n[Ostaszewski et al. (2019)](https://arxiv.org/abs/1905.09692). We apply\nthis algorithm to minimize a Hamiltonian for a variational quantum\neigensolver (VQE) problem, and improve upon an initial circuit structure\nansatz.\n\n::: {.note}\n::: {.title}\nNote\n:::\n\nThe Rotoselect and Rotosolve algorithms are directly implemented and\navailable in PennyLane via the optimizers\n`~.pennylane.RotoselectOptimizer`{.interpreted-text role=\"class\"} and\n`~.pennylane.RotosolveOptimizer`{.interpreted-text role=\"class\"},\nrespectively.\n:::\n\nBackground\n==========\n\nIn quantum machine learning and optimization problems, one wishes to\nminimize a cost function with respect to some parameters in the circuit.\nIt is desirable to keep the circuit as shallow as possible to reduce the\neffects of noise, but an arbitrary choice of gates is generally\nsuboptimal for performing the optimization. Therefore, it would be\nuseful to employ an algorithm which learns a good circuit structure at\nfixed depth to minimize the cost function.\n\nFurthermore, PennyLane\\'s optimizers perform automatic differentiation\nof quantum nodes by evaluating phase-shifted expectation values using\nthe quantum circuit itself. The output of these calculations, the\ngradient, is used in optimization methods to minimize the cost function.\nHowever, there exists a technique to discover the optimal parameters of\na quantum circuit through phase-shifted evaluations, without the need\nfor calculating the gradient as an intermediate step (i.e., a\ngradient-free optimization). It could be desirable, in some cases, to\ntake advantage of this.\n\nThe Rotoselect algorithm addresses the above two points: it allows one\nto jump directly to the optimal value for a single parameter with\nrespect to fixed values for the other parameters, skipping gradient\ndescent, and tries various rotation gates along the way. The algorithm\nworks by updating the parameters\n$\\boldsymbol{\\theta}=\\theta_1,\\dots,\\theta_D$ and gate choices\n$\\boldsymbol{R}=R_1,\\dots,R_D$ one at a time according to a *closed-form\nexpression* for the optimal value of the $d^{\\text{th}}$ parameter\n$\\theta^{*}_d$ when the other parameters and gate choices are fixed:\n\n$$\\begin{aligned}\n\\theta^{*}_d &= \\underset{\\theta_d}{\\text{argmin}} \\langle H \\rangle_{\\theta_d} \\\\\n             &= -\\frac{\\pi}{2} - \\text{arctan}\\left(\\frac{2\\langle H \\rangle_{\\theta_d = 0} -\n             \\langle H \\rangle_{\\theta_d=\\pi/2} - \\langle H \\rangle_{\\theta_d=-\\pi/2}}{\\langle\n             H \\rangle_{\\theta_d=\\pi/2} -\n             \\langle H \\rangle_{\\theta_d=-\\pi/2}}\\right)\n\\end{aligned}$$\n\nThe calculation makes use of 3 separate evaluations of the expectation\nvalue $\\langle H \\rangle_{\\theta_d}$ using the quantum circuit. Although\n$\\langle H \\rangle$ is really a function of all parameters and gate\nchoices ($\\boldsymbol{\\theta}$, $\\boldsymbol{R}$), we are fixing every\nparameter and gate choice apart from $\\theta_d$ in this expression so we\nwrite it as $\\langle H \\rangle = \\langle H \\rangle_{\\theta_d}$. For each\nparameter in the quantum circuit, the algorithm proceeds by evaluating\n$\\theta^{*}_d$ for each choice of gate $R_d \\in \\{R_x,R_y,R_z\\}$ and\nselecting the gate which yields the minimum value of\n$\\langle H \\rangle$.\n\nThus, one might expect the number of circuit evaluations required to be\n9 for each parameter (3 for each gate choice). However, since all 3\nrotation gates yield identity when $\\theta_d=0$,\n\n$$R_x(0) = R_y(0) = R_z(0) = 1,$$\n\nthe value of $\\langle H \\rangle_{\\theta_d=0}$ in the expression for\n$\\theta_d^{*}$ above is the same for each of the gate choices, and this\n3-fold degeneracy reduces the number of evaluations required to 7.\n\nOne cycle of the Rotoselect algorithm involves iterating through every\nparameter and performing the calculation above. This cycle is repeated\nfor a fixed number of steps or until convergence. In this way, one could\nlearn both the optimal parameters and gate choices for the task of\nminimizing a given cost function. Next, we present an example of this\nalgorithm applied to a VQE Hamiltonian.\n\nExample VQE Problem\n===================\n\nWe focus on a 2-qubit VQE circuit for simplicity. Here, the Hamiltonian\nis\n\n$$H = 0.5Y_2 + 0.8Z_1 - 0.2X_1$$\n\nwhere the subscript denotes the qubit upon which the Pauli operator\nacts. The expectation value of this quantity acts as the cost function\nfor our optimization.\n\nRotosolve\n=========\n\nAs a precursor to implementing Rotoselect we can analyze a version of\nthe algorithm which does not optimize the choice of gates and only\noptimizes the parameters for a given circuit ansatz, called Rotosolve.\nLater, we will build on this example to implement Rotoselect and vary\nthe circuit structure.\n\nImports\n-------\n\nTo get started, we import PennyLane and the PennyLane-wrapped version of\nNumPy. We also create a 2-qubit device using the `default.qubit` plugin\nand set the `analytic` keyword to `True` in order to obtain exact values\nfor any expectation values calculated. In contrast to real devices,\nsimulators have the capability of doing these calculations without\nsampling.\n"
      ]
    },
    {
      "cell_type": "code",
      "execution_count": null,
      "metadata": {
        "collapsed": false
      },
      "outputs": [],
      "source": [
        "import pennylane as qml\nfrom pennylane import numpy as np\n\nn_wires = 2\n\ndev = qml.device(\"default.qubit\", shots=1000, wires=2)"
      ]
    },
    {
      "cell_type": "markdown",
      "metadata": {},
      "source": [
        "Creating a fixed quantum circuit\n================================\n\n![](../demonstrations/rotoselect/original_ansatz.png){.align-center}\n\n| \n\nNext, we set up a circuit with a fixed ansatz structure\\-\\--which will\nlater be subject to change\\-\\--and encode the Hamiltonian into a cost\nfunction. The structure is shown in the figure above.\n"
      ]
    },
    {
      "cell_type": "code",
      "execution_count": null,
      "metadata": {
        "collapsed": false
      },
      "outputs": [],
      "source": [
        "def ansatz(params):\n    qml.RX(params[0], wires=0)\n    qml.RY(params[1], wires=1)\n    qml.CNOT(wires=[0, 1])\n\n\n@qml.qnode(dev)\ndef circuit(params):\n    ansatz(params)\n    return qml.expval(qml.PauliZ(0)), qml.expval(qml.PauliY(1))\n\n\n@qml.qnode(dev)\ndef circuit2(params):\n    ansatz(params)\n    return qml.expval(qml.PauliX(0))\n\n\ndef cost(params):\n    Z_1, Y_2 = circuit(params)\n    X_1 = circuit2(params)\n    return 0.5 * Y_2 + 0.8 * Z_1 - 0.2 * X_1"
      ]
    },
    {
      "cell_type": "markdown",
      "metadata": {},
      "source": [
        "Helper methods for the algorithm\n================================\n\nWe define methods to evaluate the expression in the previous section.\nThese will serve as the basis for our optimization algorithm.\n"
      ]
    },
    {
      "cell_type": "code",
      "execution_count": null,
      "metadata": {
        "collapsed": false
      },
      "outputs": [],
      "source": [
        "# calculation as described above\ndef opt_theta(d, params, cost):\n    params[d] = 0.0\n    M_0 = cost(params)\n    params[d] = np.pi / 2.0\n    M_0_plus = cost(params)\n    params[d] = -np.pi / 2.0\n    M_0_minus = cost(params)\n    a = np.arctan2(\n        2.0 * M_0 - M_0_plus - M_0_minus, M_0_plus - M_0_minus\n    )  # returns value in (-pi,pi]\n    params[d] = -np.pi / 2.0 - a\n    # restrict output to lie in (-pi,pi], a convention\n    # consistent with the Rotosolve paper\n    if params[d] <= -np.pi:\n        params[d] += 2 * np.pi\n\n\n# one cycle of rotosolve\ndef rotosolve_cycle(cost, params):\n    for d in range(len(params)):\n        opt_theta(d, params, cost)\n    return params"
      ]
    },
    {
      "cell_type": "markdown",
      "metadata": {},
      "source": [
        "Optimization and comparison with gradient descent\n=================================================\n\nWe set up some initial parameters for the $R_x$ and $R_y$ gates in the\nansatz circuit structure and perform an optimization using the Rotosolve\nalgorithm.\n"
      ]
    },
    {
      "cell_type": "code",
      "execution_count": null,
      "metadata": {
        "collapsed": false
      },
      "outputs": [],
      "source": [
        "init_params = np.array([0.3, 0.25], requires_grad=True)\nparams_rsol = init_params.copy()\nn_steps = 30\n\ncosts_rotosolve = []\n\nfor i in range(n_steps):\n    costs_rotosolve.append(cost(params_rsol))\n    params_rsol = rotosolve_cycle(cost, params_rsol)"
      ]
    },
    {
      "cell_type": "markdown",
      "metadata": {},
      "source": [
        "We then compare the results of Rotosolve to an optimization performed\nwith gradient descent and plot the cost functions at each step (or cycle\nin the case of Rotosolve). This comparison is fair since the number of\ncircuit evaluations involved in a cycle of Rotosolve is similar to those\nrequired to calculate the gradient of the circuit and step in this\ndirection. Evidently, the Rotosolve algorithm converges on the minimum\nafter the first cycle for this simple circuit.\n"
      ]
    },
    {
      "cell_type": "code",
      "execution_count": null,
      "metadata": {
        "collapsed": false
      },
      "outputs": [],
      "source": [
        "params_gd = init_params.copy()\nopt = qml.GradientDescentOptimizer(stepsize=0.5)\ncosts_gd = []\nfor i in range(n_steps):\n    costs_gd.append(cost(params_gd))\n    params_gd = opt.step(cost, params_gd)\n\n\n# plot cost function optimization using the 2 techniques\nimport matplotlib.pyplot as plt\n\nsteps = np.arange(0, n_steps)\nfig, (ax1, ax2) = plt.subplots(1, 2, figsize=(7, 3))\nplt.subplot(1, 2, 1)\nplt.plot(steps, costs_gd, \"o-\")\nplt.title(\"grad. desc.\")\nplt.xlabel(\"steps\")\nplt.ylabel(\"cost\")\nplt.subplot(1, 2, 2)\nplt.plot(steps, costs_rotosolve, \"o-\")\nplt.title(\"rotosolve\")\nplt.xlabel(\"cycles\")\nplt.ylabel(\"cost\")\nplt.tight_layout()\nplt.show()"
      ]
    },
    {
      "cell_type": "markdown",
      "metadata": {},
      "source": [
        "Cost function surface for circuit ansatz\n========================================\n\nNow, we plot the cost function surface for later comparison with the\nsurface generated by learning the circuit structure.\n"
      ]
    },
    {
      "cell_type": "code",
      "execution_count": null,
      "metadata": {
        "collapsed": false
      },
      "outputs": [],
      "source": [
        "from matplotlib import cm\nfrom matplotlib.ticker import MaxNLocator\nfrom mpl_toolkits.mplot3d import Axes3D\n\nfig = plt.figure(figsize=(6, 4))\nax = fig.add_subplot(projection=\"3d\")\n\nX = np.linspace(-4.0, 4.0, 40)\nY = np.linspace(-4.0, 4.0, 40)\nxx, yy = np.meshgrid(X, Y)\nZ = np.array([[cost([x, y]) for x in X] for y in Y]).reshape(len(Y), len(X))\nsurf = ax.plot_surface(xx, yy, Z, cmap=cm.coolwarm, antialiased=False)\n\nax.set_xlabel(r\"$\\theta_1$\")\nax.set_ylabel(r\"$\\theta_2$\")\nax.zaxis.set_major_locator(MaxNLocator(nbins=5, prune=\"lower\"))\n\nplt.show()"
      ]
    },
    {
      "cell_type": "markdown",
      "metadata": {},
      "source": [
        "It is apparent that, based on the circuit structure chosen above, the\ncost function does not depend on the angle parameter $\\theta_2$ for the\nrotation gate $R_y$. As we will show in the following sections, this\nindependence is not true for alternative gate choices.\n\nRotoselect\n==========\n\n![](../demonstrations/rotoselect/rotoselect_structure.png){.align-center}\n\n| \n\nWe now implement the Rotoselect algorithm to learn a good selection of\ngates to minimize our cost function. The structure is similar to the\noriginal ansatz, but the generators of rotation are selected from the\nset of Pauli gates $P_d \\in \\{X,Y,Z\\}$ as shown in the figure above. For\nexample, $U(\\theta,Z) = R_z(\\theta)$.\n\nCreating a quantum circuit with variable gates\n----------------------------------------------\n\nFirst, we set up a quantum circuit with a similar structure to the one\nabove, but instead of fixed rotation gates $R_x$ and $R_y$, we allow the\ngates to be specified with the `generators` keyword, which is a list of\nthe generators of rotation that will be used for the gates in the\ncircuit. For example, `generators=['X', 'Y']` reproduces the original\ncircuit ansatz used in the Rotosolve example above. A helper method\n`RGen` returns the correct unitary gate according to the rotation\nspecified by an element of `generators`.\n"
      ]
    },
    {
      "cell_type": "code",
      "execution_count": null,
      "metadata": {
        "collapsed": false
      },
      "outputs": [],
      "source": [
        "def RGen(param, generator, wires):\n    if generator == \"X\":\n        qml.RX(param, wires=wires)\n    elif generator == \"Y\":\n        qml.RY(param, wires=wires)\n    elif generator == \"Z\":\n        qml.RZ(param, wires=wires)\n\n\ndef ansatz_rsel(params, generators):\n    RGen(params[0], generators[0], wires=0)\n    RGen(params[1], generators[1], wires=1)\n    qml.CNOT(wires=[0, 1])\n\n\n@qml.qnode(dev)\ndef circuit_rsel(params, generators):\n    ansatz_rsel(params, generators)\n    return qml.expval(qml.PauliZ(0)), qml.expval(qml.PauliY(1))\n\n\n@qml.qnode(dev)\ndef circuit_rsel2(params, generators):\n    ansatz_rsel(params, generators)\n    return qml.expval(qml.PauliX(0))\n\n\ndef cost_rsel(params, generators):\n    Z_1, Y_2 = circuit_rsel(params, generators)\n    X_1 = circuit_rsel2(params, generators)\n    return 0.5 * Y_2 + 0.8 * Z_1 - 0.2 * X_1"
      ]
    },
    {
      "cell_type": "markdown",
      "metadata": {},
      "source": [
        "Helper methods\n==============\n\nWe define helper methods in a similar fashion to Rotosolve. In this\ncase, we must iterate through the possible gate choices in addition to\noptimizing each parameter.\n"
      ]
    },
    {
      "cell_type": "code",
      "execution_count": null,
      "metadata": {
        "collapsed": false
      },
      "outputs": [],
      "source": [
        "def rotosolve(d, params, generators, cost, M_0):  # M_0 only calculated once\n    params[d] = np.pi / 2.0\n    M_0_plus = cost(params, generators)\n    params[d] = -np.pi / 2.0\n    M_0_minus = cost(params, generators)\n    a = np.arctan2(\n        2.0 * M_0 - M_0_plus - M_0_minus, M_0_plus - M_0_minus\n    )  # returns value in (-pi,pi]\n    params[d] = -np.pi / 2.0 - a\n    if params[d] <= -np.pi:\n        params[d] += 2 * np.pi\n    return cost(params, generators)\n\n\ndef optimal_theta_and_gen_helper(d, params, generators, cost):\n    params[d] = 0.0\n    M_0 = cost(params, generators)  # M_0 independent of generator selection\n    for generator in [\"X\", \"Y\", \"Z\"]:\n        generators[d] = generator\n        params_cost = rotosolve(d, params, generators, cost, M_0)\n        # initialize optimal generator with first item in list, \"X\", and update if necessary\n        if generator == \"X\" or params_cost <= params_opt_cost:\n            params_opt_d = params[d]\n            params_opt_cost = params_cost\n            generators_opt_d = generator\n    return params_opt_d, generators_opt_d\n\n\ndef rotoselect_cycle(cost, params, generators):\n    for d in range(len(params)):\n        params[d], generators[d] = optimal_theta_and_gen_helper(d, params, generators, cost)\n    return params, generators"
      ]
    },
    {
      "cell_type": "markdown",
      "metadata": {},
      "source": [
        "Optimizing the circuit structure\n================================\n\nWe perform the optimization and print the optimal generators for the\nrotation gates. The minimum value of the cost function obtained by\noptimizing using Rotoselect is less than the minimum value of the cost\nfunction obtained by gradient descent or Rotosolve, which were performed\non the original circuit structure ansatz. In other words, Rotoselect\nperforms better without increasing the depth of the circuit by selecting\nbetter gates for the task of minimizing the cost function.\n"
      ]
    },
    {
      "cell_type": "code",
      "execution_count": null,
      "metadata": {
        "collapsed": false
      },
      "outputs": [],
      "source": [
        "costs_rsel = []\nparams_rsel = init_params.copy()\ninit_generators = np.array([\"X\", \"Y\"], requires_grad=False)\ngenerators = init_generators\nfor _ in range(n_steps):\n    costs_rsel.append(cost_rsel(params_rsel, generators))\n    params_rsel, generators = rotoselect_cycle(cost_rsel, params_rsel, generators)\n\nprint(\"Optimal generators are: {}\".format(generators.tolist()))\n\n# plot cost function vs. steps comparison\nfig, (ax1, ax2) = plt.subplots(1, 2, figsize=(7, 3))\nplt.subplot(1, 2, 1)\nplt.plot(steps, costs_gd, \"o-\")\nplt.title(\"grad. desc. on original ansatz\")\nplt.xlabel(\"steps\")\nplt.ylabel(\"cost\")\nplt.subplot(1, 2, 2)\nplt.plot(steps, costs_rsel, \"o-\")\nplt.title(\"rotoselect\")\nplt.xlabel(\"cycles\")\nplt.ylabel(\"cost\")\nplt.yticks(np.arange(-1.25, 0.80, 0.25))\nplt.tight_layout()\nplt.show()"
      ]
    },
    {
      "cell_type": "markdown",
      "metadata": {},
      "source": [
        "Cost function surface for learned circuit structure\n===================================================\n\n![](../demonstrations/rotoselect/learned_structure.png){.align-center}\n\n| \n\nFinally, we plot the cost function surface for the newly discovered\noptimized circuit structure shown in the figure above. It is apparent\nfrom the minima in the plot that the new circuit structure is better\nsuited for the problem.\n"
      ]
    },
    {
      "cell_type": "code",
      "execution_count": null,
      "metadata": {
        "collapsed": false
      },
      "outputs": [],
      "source": [
        "fig = plt.figure(figsize=(6, 4))\nax = fig.add_subplot(projection=\"3d\")\n\nX = np.linspace(-4.0, 4.0, 40)\nY = np.linspace(-4.0, 4.0, 40)\nxx, yy = np.meshgrid(X, Y)\n# plot cost for fixed optimal generators\nZ = np.array([[cost_rsel([x, y], generators) for x in X] for y in Y]).reshape(\n    len(Y), len(X)\n)\nsurf = ax.plot_surface(xx, yy, Z, cmap=cm.coolwarm, antialiased=False)\n\nax.set_xlabel(r\"$\\theta_1$\")\nax.set_ylabel(r\"$\\theta_2$\")\nax.zaxis.set_major_locator(MaxNLocator(nbins=5, prune=\"lower\"))\n\nplt.show()"
      ]
    },
    {
      "cell_type": "markdown",
      "metadata": {},
      "source": [
        "References\n==========\n\n1.  Mateusz Ostaszewski, Edward Grant, Marcello Bendetti. \\\"Quantum\n    circuit structure learning.\\\"\n    [arxiv:1905.09692](https://arxiv.org/abs/1905.09692), 2019.\n"
      ]
    },
    {
      "cell_type": "markdown",
      "metadata": {},
      "source": [
        "About the author\n================\n"
      ]
    }
  ],
  "metadata": {
    "kernelspec": {
      "display_name": "Python 3",
      "language": "python",
      "name": "python3"
    },
    "language_info": {
      "codemirror_mode": {
        "name": "ipython",
        "version": 3
      },
      "file_extension": ".py",
      "mimetype": "text/x-python",
      "name": "python",
      "nbconvert_exporter": "python",
      "pygments_lexer": "ipython3",
      "version": "3.9.16"
    }
  },
  "nbformat": 4,
  "nbformat_minor": 0
}