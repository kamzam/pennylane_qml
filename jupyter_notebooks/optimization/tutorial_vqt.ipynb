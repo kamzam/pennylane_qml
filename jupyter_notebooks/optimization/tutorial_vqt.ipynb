{
  "cells": [
    {
      "cell_type": "code",
      "execution_count": null,
      "metadata": {
        "collapsed": false
      },
      "outputs": [],
      "source": [
        "# This cell is added by sphinx-gallery\n# It can be customized to whatever you like\n%matplotlib inline"
      ]
    },
    {
      "cell_type": "markdown",
      "metadata": {},
      "source": [
        "Variational Quantum Thermalizer\n===============================\n\n::: {.meta}\n:property=\\\"og:description\\\": Using the Variational Quantum Thermalizer\nto prepare the thermal state of a Heisenberg model Hamiltonian.\n:property=\\\"og:image\\\":\n<https://pennylane.ai/qml/_images/thumbnail_vqt.png>\n:::\n\n::: {.related}\ntutorial\\_vqe Variational quantum eigensolver\n:::\n\n*Author: Jack Ceroni --- Posted: 7 July 2020. Last updated: 28 January\n2021.*\n\nThis demonstration discusses theory and experiments relating to a\nrecently proposed quantum algorithm called the [Variational Quantum\nThermalizer](https://arxiv.org/abs/1910.02071) (VQT): a generalization\nof the well-know\n`Variational Quantum Eigensolver </demos/tutorial_vqe>`{.interpreted-text\nrole=\"doc\"} (VQE) to systems with non-zero temperatures.\n"
      ]
    },
    {
      "cell_type": "markdown",
      "metadata": {},
      "source": [
        "The Idea\n========\n"
      ]
    },
    {
      "cell_type": "markdown",
      "metadata": {},
      "source": [
        "The goal of the VQT is to prepare the [thermal\nstate](https://en.wikipedia.org/wiki/KMS_state) of a given Hamiltonian\n$\\hat{H}$ at temperature $T$, which is defined as\n\n$$\\rho_\\text{thermal} \\ = \\ \\frac{e^{- \\hat{H} \\beta}}{\\text{Tr}(e^{- \\hat{H} \\beta})} \\ = \\ \\frac{e^{- \\hat{H} \\beta}}{Z_{\\beta}},$$\n\nwhere $\\beta \\ = \\ 1/T$. The thermal state is a [mixed\nstate](https://en.wikipedia.org/wiki/Quantum_state#Mixed_states), which\nmeans that can be described by an ensemble of pure states. Since we are\nattempting to learn a mixed state, we must deviate from the standard\nvariational method of passing a pure state through an ansatz circuit,\nand minimizing the energy expectation.\n\nThe VQT begins with an initial [density\nmatrix](https://en.wikipedia.org/wiki/Density_matrix), $\\rho_{\\theta}$,\ndescribed by a probability distribution parametrized by some collection\nof parameters $\\theta$, and an ensemble of pure states,\n$\\{|\\psi_i\\rangle\\}$. Let $p_i(\\theta_i)$ be the probability\ncorresponding to the $i$-th pure state. We sample from this probability\ndistribution to get some pure state $|\\psi_k\\rangle$, which we pass\nthrough a parametrized circuit, $U(\\phi)$. From the results of this\ncircuit, we then calculate\n$\\langle \\psi_k | U^{\\dagger}(\\phi) \\hat{H}\\, U(\\phi) |\\psi_k\\rangle$.\nRepeating this process multiple times and taking the average of these\nexpectation values gives us the the expectation value of $\\hat{H}$ with\nrespect to $U \\rho_{\\theta} U^{\\dagger}$.\n\n![Inputted parameters create an initial density matrix and a\nparametrized ansatz, which are used to calculate the expectation value\nof the Hamiltonian with respect to a new mixed\nstate.](../demonstrations/vqt/ev.png){.align-center width=\"100.0%\"}\n\nArguably, the most important part of a variational circuit is its cost\nfunction, which we attempt to minimize with a classical optimizer. In\nVQE, we generally try to minimize\n$\\langle \\psi(\\theta) | \\hat{H} | \\psi(\\theta) \\rangle$ which, upon\nminimization, gives us a parametrized circuit that prepares a good\napproximation to the ground state of $\\hat{H}$. In the VQT, the goal is\nto arrive at a parametrized probability distribution, and a parametrized\nansatz, that generate a good approximation to the thermal state. This\ngenerally involves more than calculating the energy expectation value.\nLuckily, we know that the thermal state of $\\hat{H}$ minimizes the\nfollowing free-energy cost function\n\n$$\\mathcal{L}(\\theta, \\ \\phi) \\ = \\ \\beta \\ \\text{Tr}( \\hat{H} \\ \\hat{U}(\\phi) \\rho_{\\theta} \\hat{U}(\\phi)^{\\dagger} ) \\ - \\ S_\\theta,$$\n\nwhere $S_{\\theta}$ is the [von Neumann\nentropy](https://en.wikipedia.org/wiki/Von_Neumann_entropy) of\n$U \\rho_{\\theta} U^{\\dagger}$, which is the same as the von Neumann\nentropy of $\\rho_{\\theta}$ due to invariance of entropy under unitary\ntransformations. This cost function is minimized when\n$\\hat{U}(\\phi) \\rho_{\\theta} \\hat{U}(\\phi)^{\\dagger} \\ = \\ \\rho_{\\text{thermal}}$,\nso similarly to VQE, we minimize it with a classical optimizer to obtain\nthe target parameters, and thus the target state.\n\n![A high-level representation of how the VQT\nworks.](../demonstrations/vqt/vqt.png){.align-center width=\"80.0%\"}\n\nAll together, the outlined processes give us a general protocol to\ngenerate thermal states.\n"
      ]
    },
    {
      "cell_type": "markdown",
      "metadata": {},
      "source": [
        "Simulating the VQT for a 4-Qubit Heisenberg Model\n=================================================\n"
      ]
    },
    {
      "cell_type": "markdown",
      "metadata": {},
      "source": [
        "In this demonstration, we simulate the 4-qubit Heisenberg model. We can\nbegin by importing the necessary dependencies.\n"
      ]
    },
    {
      "cell_type": "code",
      "execution_count": null,
      "metadata": {
        "collapsed": false
      },
      "outputs": [],
      "source": [
        "import pennylane as qml\nfrom matplotlib import pyplot as plt\nimport numpy as np\nfrom numpy import array\nimport scipy\nfrom scipy.optimize import minimize\nimport networkx as nx\nimport seaborn\nimport itertools\n\nnp.random.seed(42)"
      ]
    },
    {
      "cell_type": "markdown",
      "metadata": {},
      "source": [
        "The Heisenberg Hamiltonian is defined as\n\n$$\\hat{H} \\ = \\ \\displaystyle\\sum_{(i, j) \\in E} X_i X_j \\ + \\ Z_i Z_j \\ + \\ Y_i Y_j,$$\n\nwhere $X_i$, $Y_i$ and $Z_i$ are the Pauli gates acting on the $i$-th\nqubit. In addition, $E$ is the set of edges in the graph\n$G \\ = \\ (V, \\ E)$ describing the interactions between the qubits. In\nthis demonstration, we define the interaction graph to be the cycle\ngraph:\n"
      ]
    },
    {
      "cell_type": "code",
      "execution_count": null,
      "metadata": {
        "collapsed": false
      },
      "outputs": [],
      "source": [
        "interaction_graph = nx.cycle_graph(4)\nnx.draw(interaction_graph)"
      ]
    },
    {
      "cell_type": "markdown",
      "metadata": {},
      "source": [
        "With this, we can calculate the matrix representation of the Heisenberg\nHamiltonian in the computational basis:\n"
      ]
    },
    {
      "cell_type": "code",
      "execution_count": null,
      "metadata": {
        "collapsed": false
      },
      "outputs": [],
      "source": [
        "def create_hamiltonian_matrix(n, graph):\n\n    matrix = np.zeros((2 ** n, 2 ** n))\n\n    for i in graph.edges:\n        x = y = z = 1\n        for j in range(0, n):\n            if j == i[0] or j == i[1]:\n                x = np.kron(x, qml.matrix(qml.PauliX)(0))\n                y = np.kron(y, qml.matrix(qml.PauliY)(0))\n                z = np.kron(z, qml.matrix(qml.PauliZ)(0))\n            else:\n                x = np.kron(x, np.identity(2))\n                y = np.kron(y, np.identity(2))\n                z = np.kron(z, np.identity(2))\n\n        matrix = np.add(matrix, np.add(x, np.add(y, z)))\n\n    return matrix\n\n\nham_matrix = create_hamiltonian_matrix(4, interaction_graph)\n\n# Prints a visual representation of the Hamiltonian matrix\nseaborn.heatmap(ham_matrix.real)\nplt.show()"
      ]
    },
    {
      "cell_type": "markdown",
      "metadata": {},
      "source": [
        "With this done, we construct the VQT. We begin by defining some fixed\nvariables that are used throughout the simulation:\n"
      ]
    },
    {
      "cell_type": "code",
      "execution_count": null,
      "metadata": {
        "collapsed": false
      },
      "outputs": [],
      "source": [
        "beta = 2  # beta = 1/T\nnr_qubits = 4"
      ]
    },
    {
      "cell_type": "markdown",
      "metadata": {},
      "source": [
        "The first step of the VQT is to create the initial density matrix,\n$\\rho_\\theta$. In this demonstration, we let $\\rho_\\theta$ be\n*factorized*, meaning that it can be written as an uncorrelated tensor\nproduct of $4$ one-qubit density matrices that are diagonal in the\ncomputational basis. The motivation is that in this factorized model,\nthe number of $\\theta_i$ parameters needed to describe $\\rho_\\theta$\nscales linearly rather than exponentially with the number of qubits. For\neach one-qubit system described by $\\rho_\\theta^i$, we have\n\n$$\\rho_{\\theta}^{i} \\ = \\ p_i(\\theta_i) |0\\rangle \\langle 0| \\ + \\ (1 \\ - \\ p_i(\\theta_i))|1\\rangle \\langle1|.$$\n\nFrom here, all we have to do is define $p_i(\\theta_i)$, which we choose\nto be the sigmoid\n\n$$p_{i}(\\theta_{i}) \\ = \\ \\frac{e^{\\theta_i}}{e^{\\theta_i} \\ + \\ 1}.$$\n"
      ]
    },
    {
      "cell_type": "code",
      "execution_count": null,
      "metadata": {
        "collapsed": false
      },
      "outputs": [],
      "source": [
        "def sigmoid(x):\n    return np.exp(x) / (np.exp(x) + 1)"
      ]
    },
    {
      "cell_type": "markdown",
      "metadata": {},
      "source": [
        "This is a natural choice for probability function, as it has a range of\n$[0, \\ 1]$, meaning that we don't need to restrict the domain of\n$\\theta_i$ to some subset of the real numbers. With the probability\nfunction defined, we can write a method that gives us the diagonal\nelements of each one-qubit density matrix, for some parameters $\\theta$:\n"
      ]
    },
    {
      "cell_type": "code",
      "execution_count": null,
      "metadata": {
        "collapsed": false
      },
      "outputs": [],
      "source": [
        "def prob_dist(params):\n    return np.vstack([sigmoid(params), 1 - sigmoid(params)]).T"
      ]
    },
    {
      "cell_type": "markdown",
      "metadata": {},
      "source": [
        "Creating the Ansatz Circuit\n===========================\n"
      ]
    },
    {
      "cell_type": "markdown",
      "metadata": {},
      "source": [
        "With this done, we can move on to defining the ansatz circuit,\n$U(\\phi)$, composed of rotational and coupling layers. The rotation\nlayer is simply `RX`, `RY`, and `RZ` gates applied to each qubit. We\nmake use of the `AngleEmbedding` function, which allows us to easily\npass parameters into rotational layers.\n"
      ]
    },
    {
      "cell_type": "code",
      "execution_count": null,
      "metadata": {
        "collapsed": false
      },
      "outputs": [],
      "source": [
        "def single_rotation(phi_params, qubits):\n\n    rotations = [\"Z\", \"Y\", \"X\"]\n    for i in range(0, len(rotations)):\n        qml.AngleEmbedding(phi_params[i], wires=qubits, rotation=rotations[i])"
      ]
    },
    {
      "cell_type": "markdown",
      "metadata": {},
      "source": [
        "To construct the general ansatz, we combine the method we have just\ndefined with a collection of parametrized coupling gates placed between\nqubits that share an edge in the interaction graph. In addition, we\ndefine the depth of the ansatz, and the device on which the simulations\nare run:\n"
      ]
    },
    {
      "cell_type": "code",
      "execution_count": null,
      "metadata": {
        "collapsed": false
      },
      "outputs": [],
      "source": [
        "depth = 4\ndev = qml.device(\"default.qubit\", wires=nr_qubits)\n\n\ndef quantum_circuit(rotation_params, coupling_params, sample=None):\n\n    # Prepares the initial basis state corresponding to the sample\n    qml.BasisStatePreparation(sample, wires=range(nr_qubits))\n\n    # Prepares the variational ansatz for the circuit\n    for i in range(0, depth):\n        single_rotation(rotation_params[i], range(nr_qubits))\n        qml.broadcast(\n            unitary=qml.CRX,\n            pattern=\"ring\",\n            wires=range(nr_qubits),\n            parameters=coupling_params[i]\n        )\n\n    # Calculates the expectation value of the Hamiltonian with respect to the prepared states\n    return qml.expval(qml.Hermitian(ham_matrix, wires=range(nr_qubits)))\n\n\n# Constructs the QNode\nqnode = qml.QNode(quantum_circuit, dev, interface=\"autograd\")"
      ]
    },
    {
      "cell_type": "markdown",
      "metadata": {},
      "source": [
        "We can get an idea of what this circuit looks like by printing out a\ntest circuit:\n"
      ]
    },
    {
      "cell_type": "code",
      "execution_count": null,
      "metadata": {
        "collapsed": false
      },
      "outputs": [],
      "source": [
        "rotation_params = [[[1, 1, 1, 1], [1, 1, 1, 1], [1, 1, 1, 1]] for i in range(0, depth)]\ncoupling_params = [[1, 1, 1, 1] for i in range(0, depth)]\nprint(qml.draw(qnode, expansion_strategy=\"device\", show_matrices=True)(rotation_params, coupling_params, sample=[1, 0, 1, 0]))"
      ]
    },
    {
      "cell_type": "markdown",
      "metadata": {},
      "source": [
        "Recall that the final cost function depends not only on the expectation\nvalue of the Hamiltonian, but also the von Neumann entropy of the state,\nwhich is determined by the collection of $p_i(\\theta_i)$s. Since the\nentropy of a collection of multiple uncorrelated subsystems is the same\nas the sum of the individual values of entropy for each subsystem, we\ncan sum the entropy values of each one-qubit system in the factorized\nspace to get the total:\n"
      ]
    },
    {
      "cell_type": "code",
      "execution_count": null,
      "metadata": {
        "collapsed": false
      },
      "outputs": [],
      "source": [
        "def calculate_entropy(distribution):\n\n    total_entropy = 0\n    for d in distribution:\n        total_entropy += -1 * d[0] * np.log(d[0]) + -1 * d[1] * np.log(d[1])\n\n    # Returns an array of the entropy values of the different initial density matrices\n\n    return total_entropy"
      ]
    },
    {
      "cell_type": "markdown",
      "metadata": {},
      "source": [
        "The Cost Function\n=================\n"
      ]
    },
    {
      "cell_type": "markdown",
      "metadata": {},
      "source": [
        "Finally, we combine the ansatz and the entropy function to get the cost\nfunction. In this demonstration, we deviate slightly from how VQT would\nbe performed in practice. Instead of sampling from the probability\ndistribution describing the initial mixed state, we use the ansatz to\ncalculate\n$\\langle x_i | U^{\\dagger}(\\phi) \\hat{H} \\,U(\\phi) |x_i\\rangle$ for each\nbasis state $|x_i\\rangle$. We then multiply each of these expectation\nvalues by their corresponding $(\\rho_\\theta)_{ii}$, which is exactly the\nprobability of sampling $|x_i\\rangle$ from the distribution. Summing\neach of these terms together gives us the expected value of the\nHamiltonian with respect to the transformed density matrix.\n\nIn the case of this small, simple model, exact calculations such as this\nreduce the number of circuit executions, and thus the total execution\ntime.\n\nYou may have noticed previously that the \"structure\" of the parameters\nlist passed into the ansatz is quite complicated. We write a general\nfunction that takes a one-dimensional list, and converts it into the\nnested list structure that can be inputed into the ansatz:\n"
      ]
    },
    {
      "cell_type": "code",
      "execution_count": null,
      "metadata": {
        "collapsed": false
      },
      "outputs": [],
      "source": [
        "def convert_list(params):\n\n    # Separates the list of parameters\n    dist_params = params[0:nr_qubits]\n    ansatz_params_1 = params[nr_qubits : ((depth + 1) * nr_qubits)]\n    ansatz_params_2 = params[((depth + 1) * nr_qubits) :]\n\n    coupling = np.split(ansatz_params_1, depth)\n\n    # Partitions the parameters into multiple lists\n    split = np.split(ansatz_params_2, depth)\n    rotation = []\n    for s in split:\n        rotation.append(np.split(s, 3))\n\n    ansatz_params = [rotation, coupling]\n\n    return [dist_params, ansatz_params]"
      ]
    },
    {
      "cell_type": "markdown",
      "metadata": {},
      "source": [
        "We then pass this function, along with the ansatz and the entropy\nfunction into the final cost function:\n"
      ]
    },
    {
      "cell_type": "code",
      "execution_count": null,
      "metadata": {
        "collapsed": false
      },
      "outputs": [],
      "source": [
        "def exact_cost(params):\n\n    global iterations\n\n    # Transforms the parameter list\n    parameters = convert_list(params)\n    dist_params = parameters[0]\n    ansatz_params = parameters[1]\n\n    # Creates the probability distribution\n    distribution = prob_dist(dist_params)\n\n    # Generates a list of all computational basis states of our qubit system\n    combos = itertools.product([0, 1], repeat=nr_qubits)\n    s = [list(c) for c in combos]\n\n    # Passes each basis state through the variational circuit and multiplies\n    # the calculated energy EV with the associated probability from the distribution\n    cost = 0\n    for i in s:\n        result = qnode(ansatz_params[0], ansatz_params[1], sample=i)\n        for j in range(0, len(i)):\n            result = result * distribution[j][i[j]]\n        cost += result\n\n    # Calculates the entropy and the final cost function\n    entropy = calculate_entropy(distribution)\n    final_cost = beta * cost - entropy\n\n    return final_cost"
      ]
    },
    {
      "cell_type": "markdown",
      "metadata": {},
      "source": [
        "We then create the function that is passed into the optimizer:\n"
      ]
    },
    {
      "cell_type": "code",
      "execution_count": null,
      "metadata": {
        "collapsed": false
      },
      "outputs": [],
      "source": [
        "def cost_execution(params):\n\n    global iterations\n\n    cost = exact_cost(params)\n\n    if iterations % 50 == 0:\n        print(\"Cost at Step {}: {}\".format(iterations, cost))\n\n    iterations += 1\n    return cost"
      ]
    },
    {
      "cell_type": "markdown",
      "metadata": {},
      "source": [
        "The last step is to define the optimizer, and execute the optimization\nmethod. We use the \\\"Constrained Optimization by Linear Approximation\\\"\n([COBYLA](https://en.wikipedia.org/wiki/COBYLA)) optimization method,\nwhich is a gradient-free optimizer. We observe that for this algorithm,\nCOBYLA has a lower runtime than its gradient-based counterparts, so we\nutilize it in this demonstration:\n"
      ]
    },
    {
      "cell_type": "code",
      "execution_count": null,
      "metadata": {
        "collapsed": false
      },
      "outputs": [],
      "source": [
        "iterations = 0\n\nnumber = nr_qubits * (1 + depth * 4)\nparams = [np.random.randint(-300, 300) / 100 for i in range(0, number)]\nout = minimize(cost_execution, x0=params, method=\"COBYLA\", options={\"maxiter\": 1600})\nout_params = out[\"x\"]"
      ]
    },
    {
      "cell_type": "markdown",
      "metadata": {},
      "source": [
        "We can now check to see how well our optimization method performed by\nwriting a function that reconstructs the transformed density matrix of\nsome initial state, with respect to lists of $\\theta$ and $\\phi$\nparameters:\n"
      ]
    },
    {
      "cell_type": "code",
      "execution_count": null,
      "metadata": {
        "collapsed": false
      },
      "outputs": [],
      "source": [
        "def prepare_state(params, device):\n\n    # Initializes the density matrix\n\n    final_density_matrix = np.zeros((2 ** nr_qubits, 2 ** nr_qubits))\n\n    # Prepares the optimal parameters, creates the distribution and the bitstrings\n    parameters = convert_list(params)\n    dist_params = parameters[0]\n    unitary_params = parameters[1]\n\n    distribution = prob_dist(dist_params)\n\n    combos = itertools.product([0, 1], repeat=nr_qubits)\n    s = [list(c) for c in combos]\n\n    # Runs the circuit in the case of the optimal parameters, for each bitstring,\n    # and adds the result to the final density matrix\n\n    for i in s:\n        qnode(unitary_params[0], unitary_params[1], sample=i)\n        state = device.state\n        for j in range(0, len(i)):\n            state = np.sqrt(distribution[j][i[j]]) * state\n        final_density_matrix = np.add(final_density_matrix, np.outer(state, np.conj(state)))\n\n    return final_density_matrix\n\n# Prepares the density matrix\nprep_density_matrix = prepare_state(out_params, dev)"
      ]
    },
    {
      "cell_type": "markdown",
      "metadata": {},
      "source": [
        "We then display the prepared state by plotting a heatmap of the\nentry-wise absolute value of the density matrix:\n"
      ]
    },
    {
      "cell_type": "code",
      "execution_count": null,
      "metadata": {
        "collapsed": false
      },
      "outputs": [],
      "source": [
        "seaborn.heatmap(abs(prep_density_matrix))\nplt.show()"
      ]
    },
    {
      "cell_type": "markdown",
      "metadata": {},
      "source": [
        "Numerical Calculations\n======================\n"
      ]
    },
    {
      "cell_type": "markdown",
      "metadata": {},
      "source": [
        "To verify that we have in fact prepared a good approximation of the\nthermal state, let's calculate it numerically by taking the matrix\nexponential of the Heisenberg Hamiltonian, as was outlined earlier.\n"
      ]
    },
    {
      "cell_type": "code",
      "execution_count": null,
      "metadata": {
        "collapsed": false
      },
      "outputs": [],
      "source": [
        "def create_target(qubit, beta, ham, graph):\n\n    # Calculates the matrix form of the density matrix, by taking\n    # the exponential of the Hamiltonian\n\n    h = ham(qubit, graph)\n    y = -1 * float(beta) * h\n    new_matrix = scipy.linalg.expm(np.array(y))\n    norm = np.trace(new_matrix)\n    final_target = (1 / norm) * new_matrix\n\n    return final_target\n\n\ntarget_density_matrix = create_target(\n    nr_qubits, beta,\n    create_hamiltonian_matrix,\n    interaction_graph\n    )"
      ]
    },
    {
      "cell_type": "markdown",
      "metadata": {},
      "source": [
        "Finally, we can plot a heatmap of the target density matrix:\n"
      ]
    },
    {
      "cell_type": "code",
      "execution_count": null,
      "metadata": {
        "collapsed": false
      },
      "outputs": [],
      "source": [
        "seaborn.heatmap(abs(target_density_matrix))\nplt.show()"
      ]
    },
    {
      "cell_type": "markdown",
      "metadata": {},
      "source": [
        "The two images look very similar, which suggests that we have\nconstructed a good approximation of the thermal state! Alternatively, if\nyou prefer a more quantitative measure of similarity, we can calculate\nthe trace distance between the two density matrices, which is defined as\n\n$$T(\\rho, \\ \\sigma) \\ = \\ \\frac{1}{2} \\text{Tr} \\sqrt{(\\rho \\ - \\ \\sigma)^{\\dagger} (\\rho \\ - \\ \\sigma)},$$\n\nand is a metric on the space of density matrices:\n"
      ]
    },
    {
      "cell_type": "code",
      "execution_count": null,
      "metadata": {
        "collapsed": false
      },
      "outputs": [],
      "source": [
        "def trace_distance(one, two):\n\n    return 0.5 * np.trace(np.absolute(np.add(one, -1 * two)))\n\n\nprint(\"Trace Distance: \" + str(trace_distance(target_density_matrix, prep_density_matrix)))"
      ]
    },
    {
      "cell_type": "markdown",
      "metadata": {},
      "source": [
        "The closer to zero, the more similar the two states are. Thus, we have\nfound a close approximation of the thermal state of $H$ with the VQT!\n"
      ]
    },
    {
      "cell_type": "markdown",
      "metadata": {},
      "source": [
        "References\n==========\n\n1.  Verdon, G., Marks, J., Nanda, S., Leichenauer, S., & Hidary, J.\n    (2019). Quantum Hamiltonian-Based Models and the Variational Quantum\n    Thermalizer Algorithm. arXiv preprint\n    [arXiv:1910.02071](https://arxiv.org/abs/1910.02071).\n\nAbout the author\n================\n"
      ]
    }
  ],
  "metadata": {
    "kernelspec": {
      "display_name": "Python 3",
      "language": "python",
      "name": "python3"
    },
    "language_info": {
      "codemirror_mode": {
        "name": "ipython",
        "version": 3
      },
      "file_extension": ".py",
      "mimetype": "text/x-python",
      "name": "python",
      "nbconvert_exporter": "python",
      "pygments_lexer": "ipython3",
      "version": "3.9.16"
    }
  },
  "nbformat": 4,
  "nbformat_minor": 0
}